{
 "cells": [
  {
   "cell_type": "code",
   "execution_count": 2,
   "metadata": {},
   "outputs": [],
   "source": [
    "import pandas as pd"
   ]
  },
  {
   "cell_type": "code",
   "execution_count": 4,
   "metadata": {},
   "outputs": [],
   "source": [
    "train = pd.read_csv('titanic/train.csv')\n",
    "test = pd.read_csv('titanic/test.csv')"
   ]
  },
  {
   "cell_type": "markdown",
   "metadata": {},
   "source": [
    "특성공학 머신러닝을 위한 데이터 전처리"
   ]
  },
  {
   "cell_type": "code",
   "execution_count": 6,
   "metadata": {},
   "outputs": [],
   "source": [
    "trainTestData = [train, test]\n",
    "\n",
    "for d in trainTestData:\n",
    "    d['title'] = d['Name'].str.extract(' ([A-Za-z]+)\\.')"
   ]
  },
  {
   "cell_type": "code",
   "execution_count": 8,
   "metadata": {},
   "outputs": [
    {
     "output_type": "execute_result",
     "data": {
      "text/plain": "Mr        240\nMiss       78\nMrs        72\nMaster     21\nRev         2\nCol         2\nMs          1\nDr          1\nDona        1\nName: title, dtype: int64"
     },
     "metadata": {},
     "execution_count": 8
    }
   ],
   "source": [
    "train.title.value_counts()\n",
    "test.title.value_counts()\n"
   ]
  },
  {
   "cell_type": "code",
   "execution_count": 10,
   "metadata": {},
   "outputs": [],
   "source": [
    "tm={\"Mr\":0, \"Miss\":1, \"Mrs\":2,  \n",
    "    \"Master\":3, \"Rev\":3, \"Col\":3, \"Dona\":3, \"Dr\":3,\n",
    "    \"Ms\":2, \"Jonkheer\":3,\"Countess\":2,\"Lady\":2,   \n",
    "    \"Sir\":3, \"Don\":3,\"Capt\":3,\"Mme\":3,      \n",
    "    \"Major\":3,\"Mlle\":3 }\n",
    "for data in trainTestData:\n",
    "    data['title']=data['title'].map(tm)"
   ]
  },
  {
   "cell_type": "code",
   "execution_count": 11,
   "metadata": {},
   "outputs": [],
   "source": [
    "tm={\"male\":0, \"female\":1}\n",
    "for data in trainTestData:\n",
    "    data['Sex']=data['Sex'].map(tm)"
   ]
  },
  {
   "cell_type": "code",
   "execution_count": 12,
   "metadata": {
    "tags": []
   },
   "outputs": [
    {
     "output_type": "stream",
     "name": "stdout",
     "text": "<class 'pandas.core.frame.DataFrame'>\nRangeIndex: 891 entries, 0 to 890\nData columns (total 13 columns):\n #   Column       Non-Null Count  Dtype  \n---  ------       --------------  -----  \n 0   PassengerId  891 non-null    int64  \n 1   Survived     891 non-null    int64  \n 2   Pclass       891 non-null    int64  \n 3   Name         891 non-null    object \n 4   Sex          891 non-null    int64  \n 5   Age          714 non-null    float64\n 6   SibSp        891 non-null    int64  \n 7   Parch        891 non-null    int64  \n 8   Ticket       891 non-null    object \n 9   Fare         891 non-null    float64\n 10  Cabin        204 non-null    object \n 11  Embarked     889 non-null    object \n 12  title        891 non-null    int64  \ndtypes: float64(2), int64(7), object(4)\nmemory usage: 90.6+ KB\n"
    }
   ],
   "source": [
    "train.info()"
   ]
  },
  {
   "cell_type": "code",
   "execution_count": 14,
   "metadata": {},
   "outputs": [
    {
     "output_type": "execute_result",
     "data": {
      "text/plain": "0      30.0\n1      35.0\n2      21.0\n3      35.0\n4      30.0\n       ... \n886     9.0\n887    21.0\n888    21.0\n889    30.0\n890    30.0\nName: Age, Length: 891, dtype: float64"
     },
     "metadata": {},
     "execution_count": 14
    }
   ],
   "source": [
    "train.groupby(\"title\")['Age'].transform('median')"
   ]
  },
  {
   "cell_type": "code",
   "execution_count": 16,
   "metadata": {},
   "outputs": [],
   "source": [
    "train['Age'].fillna(train.groupby(\"title\")['Age'].transform('median'), inplace=True)\n",
    "test['Age'].fillna(test.groupby(\"title\")['Age'].transform('median'), inplace=True)\n",
    "#Mr 호칭, 나이 Nan -> Mr의 나이 중간값으로 NaN을 대체"
   ]
  },
  {
   "cell_type": "code",
   "execution_count": 17,
   "metadata": {
    "tags": []
   },
   "outputs": [
    {
     "output_type": "stream",
     "name": "stdout",
     "text": "<class 'pandas.core.frame.DataFrame'>\nRangeIndex: 891 entries, 0 to 890\nData columns (total 13 columns):\n #   Column       Non-Null Count  Dtype  \n---  ------       --------------  -----  \n 0   PassengerId  891 non-null    int64  \n 1   Survived     891 non-null    int64  \n 2   Pclass       891 non-null    int64  \n 3   Name         891 non-null    object \n 4   Sex          891 non-null    int64  \n 5   Age          891 non-null    float64\n 6   SibSp        891 non-null    int64  \n 7   Parch        891 non-null    int64  \n 8   Ticket       891 non-null    object \n 9   Fare         891 non-null    float64\n 10  Cabin        204 non-null    object \n 11  Embarked     889 non-null    object \n 12  title        891 non-null    int64  \ndtypes: float64(2), int64(7), object(4)\nmemory usage: 90.6+ KB\n"
    }
   ],
   "source": [
    "train.info()"
   ]
  },
  {
   "cell_type": "code",
   "execution_count": 18,
   "metadata": {},
   "outputs": [],
   "source": [
    "for data in trainTestData:\n",
    "    data.loc[data['Age']<=10,'Age']=0, #age가 16세 이하인 경우 0으로 처리\n",
    "    data.loc[(data['Age']>10) & (data['Age']<=19),'Age']=1,\n",
    "    data.loc[(data['Age']>19) & (data['Age']<=29),'Age']=2,\n",
    "    data.loc[(data['Age']>29) & (data['Age']<=39),'Age']=3,\n",
    "    data.loc[(data['Age']>39) & (data['Age']<=49),'Age']=4,\n",
    "    data.loc[(data['Age']>49) & (data['Age']<=59),'Age']=5,\n",
    "    data.loc[(data['Age']>59) & (data['Age']<=69),'Age']=6,\n",
    "    data.loc[data['Age']>69,'Age']=7"
   ]
  },
  {
   "cell_type": "code",
   "execution_count": 20,
   "metadata": {},
   "outputs": [
    {
     "output_type": "execute_result",
     "data": {
      "text/plain": "3.0    303\n2.0    256\n1.0    100\n4.0     89\n0.0     69\n5.0     48\n6.0     19\n7.0      7\nName: Age, dtype: int64"
     },
     "metadata": {},
     "execution_count": 20
    }
   ],
   "source": [
    "train.Age.value_counts()"
   ]
  },
  {
   "cell_type": "code",
   "execution_count": 21,
   "metadata": {},
   "outputs": [],
   "source": [
    "tm={\"S\":0, \"C\":1, \"Q\":2}\n",
    "for data in trainTestData:\n",
    "    data['Embarked']=data['Embarked'].map(tm)"
   ]
  },
  {
   "cell_type": "code",
   "execution_count": 24,
   "metadata": {
    "tags": []
   },
   "outputs": [
    {
     "output_type": "stream",
     "name": "stdout",
     "text": "<class 'pandas.core.frame.DataFrame'>\nRangeIndex: 891 entries, 0 to 890\nData columns (total 13 columns):\n #   Column       Non-Null Count  Dtype  \n---  ------       --------------  -----  \n 0   PassengerId  891 non-null    int64  \n 1   Survived     891 non-null    int64  \n 2   Pclass       891 non-null    int64  \n 3   Name         891 non-null    object \n 4   Sex          891 non-null    int64  \n 5   Age          891 non-null    float64\n 6   SibSp        891 non-null    int64  \n 7   Parch        891 non-null    int64  \n 8   Ticket       891 non-null    object \n 9   Fare         891 non-null    float64\n 10  Cabin        204 non-null    object \n 11  Embarked     889 non-null    float64\n 12  title        891 non-null    int64  \ndtypes: float64(3), int64(7), object(3)\nmemory usage: 90.6+ KB\n"
    }
   ],
   "source": [
    "train.info()"
   ]
  },
  {
   "cell_type": "code",
   "execution_count": 29,
   "metadata": {},
   "outputs": [],
   "source": [
    "for data in trainTestData:\n",
    "    data.loc[data['Fare']<=17,'Fare']=0, #age가 16세 이하인 경우 0으로 처리\n",
    "    data.loc[(data['Fare']>17) & (data['Fare']<=30),'Fare']=1,\n",
    "    data.loc[(data['Fare']>30) & (data['Fare']<=100),'Fare']=2,\n",
    "    data.loc[data['Fare']>100,'Fare']=3"
   ]
  },
  {
   "cell_type": "code",
   "execution_count": 30,
   "metadata": {},
   "outputs": [],
   "source": [
    "for data in trainTestData:\n",
    "    data['Cabin']=data.Cabin.str[:1]"
   ]
  },
  {
   "cell_type": "code",
   "execution_count": 31,
   "metadata": {},
   "outputs": [],
   "source": [
    "tm={\"A\":0,\"B\":0.5,\"C\":1.0,\"D\":1.5,\"E\":2.0,\"F\":2.5,\n",
    "   \"G\":3.0,\"T\":3.5} #T는 알아서 변경해보세요\n",
    "for data in trainTestData:\n",
    "    data['Cabin']=data['Cabin'].map(tm)"
   ]
  },
  {
   "cell_type": "code",
   "execution_count": 32,
   "metadata": {},
   "outputs": [],
   "source": [
    "# pclass별로 그룹화, 그룹별로 cabin 열 값에 대한 \n",
    "# 중앙값으로 결측값을 대체하세요.(train, test)\n",
    "train['Cabin'].fillna(\n",
    "    train.groupby('Pclass')['Cabin'].\n",
    "    transform('median'), inplace=True)\n",
    "\n",
    "test['Cabin'].fillna(test.groupby('Pclass')['Cabin'].transform('median'), inplace=True)"
   ]
  },
  {
   "cell_type": "code",
   "execution_count": null,
   "metadata": {},
   "outputs": [],
   "source": [
    "tm={\"0\":0,\"1\":0.5,\"2\":1.0,\"3:1.2,\"E\":1.6,\"F\":2.0,\n",
    "   \"G\":2.4,\"T\":2.8} #T는 알아서 변경해보세요\n",
    "for data in trainTestData:\n",
    "    data['Cabin']=data['Cabin'].map(tm)"
   ]
  }
 ],
 "metadata": {
  "language_info": {
   "codemirror_mode": {
    "name": "ipython",
    "version": 3
   },
   "file_extension": ".py",
   "mimetype": "text/x-python",
   "name": "python",
   "nbconvert_exporter": "python",
   "pygments_lexer": "ipython3",
   "version": 3
  },
  "orig_nbformat": 2,
  "kernelspec": {
   "name": "python_defaultSpec_1594169461912",
   "display_name": "Python 3.7.7 64-bit"
  }
 },
 "nbformat": 4,
 "nbformat_minor": 2
}