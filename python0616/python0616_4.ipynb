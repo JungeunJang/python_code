{
 "cells": [
  {
   "cell_type": "code",
   "execution_count": 140,
   "metadata": {},
   "outputs": [
    {
     "output_type": "stream",
     "name": "stdout",
     "text": "BTS : 1.118033988749895\nBTS : 0.4721359549995794\n손흥민 : 1.118033988749895\n손흥민 : 0.4721359549995794\n레드벨벳 : 3.1622776601683795\n레드벨벳 : 0.2402530733520421\n트와이스 : 3.1622776601683795\n트와이스 : 0.2402530733520421\n"
    }
   ],
   "source": [
    "critics={\n",
    "  'BTS':{'암수살인':5, '바울':4, '할로윈':1.5},\n",
    "  '손흥민':{'바울':5, '할로윈':2},\n",
    "  '레드벨벳':{'암수살인':2.5, '바울':2, '할로윈':1},\n",
    "  '트와이스':{'암수살인':3.5, '바울':4, '할로윈':5}\n",
    "}\n",
    "\n",
    "for i in critics:\n",
    "    if i != '손흥민':\n",
    "        v1 = critics['손흥민']['바울'] - critics[i]['바울']\n",
    "        v2 = critics['손흥민']['할로윈'] - critics[i]['할로윈']\n",
    "    print(i, \":\", sim(v1,v2))\n",
    "    print(i, \":\", 1/(1+sim(v1,v2)))\n",
    "\n",
    "    "
   ]
  },
  {
   "cell_type": "code",
   "execution_count": 297,
   "metadata": {},
   "outputs": [
    {
     "output_type": "stream",
     "name": "stdout",
     "text": "3.75 3.5 2.75 62.4375 43.359375 0.07207207207207209\n"
    }
   ],
   "source": [
    "import numpy as numpy\n",
    "critics.keys()\n",
    "valueslist = critics.values()\n",
    "\n",
    "count = 0\n",
    "sum_1 = 0\n",
    "sum_2 = 0\n",
    "dist0 = 0\n",
    "\n",
    "for i in critics['손흥민']:\n",
    "    if i in critics['BTS']:\n",
    "        count += 1\n",
    "        sum_1 += critics['손흥민'][i]\n",
    "        sum_2 += critics['BTS'][i]\n",
    "mean_1 = sum_1/count\n",
    "mean_2 = sum_2/count\n",
    "\n",
    "for i in critics['손흥민']:\n",
    "    if i in critics['BTS']:\n",
    "        dist0 += (critics['손흥민'][i]-mean_1)*(critics['BTS'][i]-mean_2)\n",
    "cov = dist0\n",
    "for i in critics['손흥민']:\n",
    "    if i in critics['BTS']:\n",
    "        var1 += pow(critics['손흥민'][i]-mean_1, 2)\n",
    "        var2 += pow(critics['BTS'][i]-mean_2, 2)\n",
    "\n",
    "corr = cov/(sqrt(var1)*sqrt(var2))\n",
    "\n",
    "print(cov, mean_1, mean_2, var1, var2, corr)"
   ]
  },
  {
   "cell_type": "code",
   "execution_count": 281,
   "metadata": {},
   "outputs": [
    {
     "output_type": "stream",
     "name": "stdout",
     "text": "0.6052275326688025 -0.6052275326688022 0.5 -0.5 0.5 -0.5952380952380949\n"
    }
   ],
   "source": [
    "import math\n",
    "def simPearson(data, name1, name2):\n",
    "    count = 0\n",
    "    sum_1 = 0 \n",
    "    sum_2 = 0 \n",
    "    dist1 = 0\n",
    "    dist2 = 0\n",
    "    dist0 = 0\n",
    "\n",
    "    for i in data[name1]:\n",
    "        if i in data[name2]:\n",
    "            count += 1\n",
    "            sum_1 += data[name1][i]\n",
    "            sum_2 += data[name2][i]\n",
    "    mean_1 = sum_1/count\n",
    "    mean_2 = sum_2/count\n",
    "    dist0 += (data[name1][i]-mean_1)*(data[name2][i]-mean_2)\n",
    "    cov = dist0\n",
    "    \n",
    "    for i in data[name1]:\n",
    "        if i in data[name2]:\n",
    "            dist1 += pow(data[name1][i]-mean_1,2)\n",
    "            dist2 += pow(data[name2][i]-mean_2,2)\n",
    "    std1 = math.sqrt(dist1)\n",
    "    std2 = math.sqrt(dist2)\n",
    "\n",
    "    corr = cov/(std1*std2)\n",
    "    return corr\n",
    "\n",
    "\n",
    "re1 = simPearson(critics, 'BTS', '레드벨벳')\n",
    "re1\n",
    "\n",
    "re2 = simPearson(critics, 'BTS', '트와이스')\n",
    "re2\n",
    "\n",
    "re3 = simPearson(critics, 'BTS', '손흥민')\n",
    "re3\n",
    "\n",
    "re4 = simPearson(critics, '손흥민', '트와이스')\n",
    "re4\n",
    "\n",
    "re5 = simPearson(critics, '손흥민', '레드벨벳')\n",
    "re5\n",
    "\n",
    "re6 = simPearson(critics, '트와이스', '레드벨벳')\n",
    "re6\n",
    "\n",
    "print(re1, re2, re3, re4, re5, re6)"
   ]
  },
  {
   "cell_type": "code",
   "execution_count": null,
   "metadata": {},
   "outputs": [],
   "source": [
    "\n"
   ]
  }
 ],
 "metadata": {
  "language_info": {
   "codemirror_mode": {
    "name": "ipython",
    "version": 3
   },
   "file_extension": ".py",
   "mimetype": "text/x-python",
   "name": "python",
   "nbconvert_exporter": "python",
   "pygments_lexer": "ipython3",
   "version": "3.7.7-final"
  },
  "orig_nbformat": 2,
  "kernelspec": {
   "name": "python37764bit4dda73a9a4c74a0399c4c617d3b49df0",
   "display_name": "Python 3.7.7 64-bit"
  }
 },
 "nbformat": 4,
 "nbformat_minor": 2
}