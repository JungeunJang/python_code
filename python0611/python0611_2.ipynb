{
 "cells": [
  {
   "cell_type": "code",
   "execution_count": null,
   "metadata": {},
   "outputs": [],
   "source": [
    "import feedparser\n",
    "import newspaper\n",
    "import matplotlib.pyplot as plt\n",
    "# pip install feedparser\n",
    "# pip3 install newspaper3k\n",
    "from konlpy.tag import Kkma\n",
    "from collections import Counter\n",
    "from wordcloud import WordCloud\n",
    "\n",
    "feeds = feedparser.parse('https://media.daum.net/syndication/today_sisa.rss')\n",
    "links = [entry['link'] for entry in feeds['entries']]\n",
    "\n",
    "from tqdm import tqdm_notebook\n",
    "\n",
    "news_text = ''\n",
    "\n",
    "for link in links:\n",
    "    article = newspaper.Article(links[0], language='ko')\n",
    "    article.download()\n",
    "    article.parse()\n",
    "    news_text +=article.text\n",
    "\n",
    "kkma = Kkma()\n",
    "nouns = kkma.nouns(news_text)\n",
    "nouns = [n for n in nouns if len(n)>1]\n",
    "\n",
    "count = Counter(nouns)\n",
    "tags = count.most_common(40)\n",
    "\n",
    "wc = WordCloud(font_path=\"c:/Windows/Fonts/malgun.ttf\", background_color='white')\n",
    "cloud = wc.generate_from_frequencies(dict(tags))\n",
    "plt.figure(figsize = (10, 8))\n",
    "plt.axis('off')\n",
    "plt.imshow(cloud)"
   ]
  }
 ],
 "metadata": {
  "language_info": {
   "codemirror_mode": {
    "name": "ipython",
    "version": 3
   },
   "file_extension": ".py",
   "mimetype": "text/x-python",
   "name": "python",
   "nbconvert_exporter": "python",
   "pygments_lexer": "ipython3",
   "version": 3
  },
  "orig_nbformat": 2
 },
 "nbformat": 4,
 "nbformat_minor": 2
}