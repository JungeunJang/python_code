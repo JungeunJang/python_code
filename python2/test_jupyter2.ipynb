{
 "cells": [
  {
   "cell_type": "code",
   "execution_count": 17,
   "metadata": {},
   "outputs": [
    {
     "output_type": "execute_result",
     "data": {
      "text/plain": "[1, 2, 3, 4, 5, 6, 7, 8, 9]"
     },
     "metadata": {},
     "execution_count": 17
    }
   ],
   "source": [
    "Strings = [ 'a', 'as', 'bat', 'car', 'dove', 'python']\n",
    "[x.upper() for x in Strings if len(x) > 2]\n",
    "\n",
    "unique_lengths = [len(x) for x in Strings]\n",
    "unique_lengths\n",
    "\n",
    "set(map(len, Strings))\n",
    "\n",
    "loc_mapping = {val : index for index, val in enumerate(Strings)}\n",
    "loc_mapping\n",
    "\n",
    "all_data = [['john', 'emily', 'michael', 'Mary', 'Steven'],['maria', 'juan', 'javier', 'natalia', 'pliar']]\n",
    "\n",
    "result = [name for names in all_data for name in names if name.count('e') >= 2]\n",
    "result\n",
    "\n",
    "some_tuples = [(1,2,3), (4,5,6), (7,8,9)]\n",
    "flattered = [x for tup in some_tuples for x in tup]\n",
    "flattered"
   ]
  },
  {
   "cell_type": "code",
   "execution_count": 18,
   "metadata": {},
   "outputs": [
    {
     "output_type": "stream",
     "name": "stdout",
     "text": "[]\n"
    }
   ],
   "source": [
    "a = None\n",
    "def bind_a_variable():\n",
    "    global a\n",
    "    a = [] \n",
    "bind_a_variable()\n",
    "print(a)"
   ]
  }
 ],
 "metadata": {
  "language_info": {
   "codemirror_mode": {
    "name": "ipython",
    "version": 3
   },
   "file_extension": ".py",
   "mimetype": "text/x-python",
   "name": "python",
   "nbconvert_exporter": "python",
   "pygments_lexer": "ipython3",
   "version": "3.7.7-final"
  },
  "orig_nbformat": 2,
  "kernelspec": {
   "name": "python37764bit4dda73a9a4c74a0399c4c617d3b49df0",
   "display_name": "Python 3.7.7 64-bit"
  }
 },
 "nbformat": 4,
 "nbformat_minor": 2
}