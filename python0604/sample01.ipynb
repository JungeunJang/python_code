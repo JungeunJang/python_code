{
 "cells": [
  {
   "cell_type": "code",
   "execution_count": 12,
   "metadata": {
    "tags": [
     "outputPrepend"
    ]
   },
   "outputs": [
    {
     "output_type": "stream",
     "name": "stdout",
     "text": "addr      code        lat         lng  \\\n0             대구광역시 남구 중앙대로29길 27 (대명동)  37811461  35.846002  128.588814   \n1               경기도 광명시 시청로 30 1층 (철산동)  31896359  37.479424  126.864114   \n2                   경기도 화성시 정남면 만년로 540  31863515  37.169471  126.983655   \n3  경상남도 창원시 의창구 원이대로 269 (봉곡동, 한빛메디칼센터)  38810859  35.243272  128.649791   \n4    경기도 화성시 동탄지성로 136 203호 (능동, 우리프라자)  41812816  37.209666  127.060701   \n5               경상남도 진주시 도동천로 113 (상대동)  38807955  35.181304  128.111897   \n6             대구광역시 수성구 수성로 329 (수성동1가)  37849182  35.854896  128.613387   \n\n     neme remain_stat  \n0   대학당약국      plenty  \n1    이화약국      plenty  \n2  100세약국      plenty  \n3    예은약국      plenty  \n4  능동키즈약국      plenty  \n5    우인약국      plenty  \n6    두배약국        some  \n"
    },
    {
     "output_type": "execute_result",
     "data": {
      "text/plain": "<folium.folium.Map at 0x21e9415d148>",
      "text/html": "<div style=\"width:100%;\"><div style=\"position:relative;width:100%;height:0;padding-bottom:60%;\"><span style=\"color:#565656\">Make this Notebook Trusted to load map: File -> Trust Notebook</span><iframe src=\"about:blank\" style=\"position:absolute;width:100%;height:100%;left:0;top:0;border:none !important;\" data-html=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 onload=\"this.contentDocument.open();this.contentDocument.write(atob(this.getAttribute('data-html')));this.contentDocument.close();\" allowfullscreen webkitallowfullscreen mozallowfullscreen></iframe></div></div>"
     },
     "metadata": {},
     "execution_count": 12
    }
   ],
   "source": [
    "import numpy as np\n",
    "import pandas as pd\n",
    "import requests\n",
    "import json\n",
    "import folium\n",
    "\n",
    "url_stores = \"https://8oi9s0nnth.apigw.ntruss.com/corona19-masks/v1/stores/json\"\n",
    "url_sales = \"https://8oi9s0nnth.apigw.ntruss.com/corona19-masks/v1/sales/json?page=1\"\n",
    "json_stores = requests.get(url_stores).json()\n",
    "json_sales = requests.get(url_sales).json()\n",
    "json_stores\n",
    "# json_sales\n",
    "\n",
    "data_stores = []\n",
    "size_stores = len(json_stores['storeInfos'])\n",
    "for inx in range(size_stores):\n",
    "    # print(json_stores['storeInfos'][inx]['code'], json_stores['storeInfos'][inx]['name'])\n",
    "    addr, code, lat, lng, neme = json_stores['storeInfos'][inx]['addr'], \\\n",
    "        json_stores['storeInfos'][inx]['code'],json_stores['storeInfos'][inx]['lat'], \\\n",
    "        json_stores['storeInfos'][inx]['lng'],json_stores['storeInfos'][inx]['name']\n",
    "    data_stores.append([addr, code, lat, lng, neme])\n",
    "\n",
    "\n",
    "data_sales = []\n",
    "size_sales = len(json_sales['sales'])\n",
    "for inx in range(size_sales):\n",
    "    # print(json_sales['sales'][inx]['code'],json_sales['sales'][inx]['remain_stat'])\n",
    "    code, remain_stat = json_sales['sales'][inx]['code'],json_sales['sales'][inx]['remain_stat']\n",
    "    data_sales.append([code, remain_stat])\n",
    "\n",
    "df_stores = pd.DataFrame(data_stores, columns=['addr', 'code', 'lat', 'lng', 'neme'])\n",
    "df_sales = pd.DataFrame(data_sales, columns=['code','remain_stat'])\n",
    "\n",
    "\n",
    "df = pd.merge(df_stores, df_sales, on='code')\n",
    "print(df)\n",
    "\n",
    "# df_stores\n",
    "# #   \"lat\": 36.6029863,\n",
    "# #     \"lng\": 126.5489114,\n",
    "mean_lat = df['lat'].mean()\n",
    "mean_lng = df['lng'].mean()\n",
    "mapping = folium.Map(location=[mean_lat,mean_lng], zoom_start=11)\n",
    "\n",
    "for inx in df.index:\n",
    "    folium.Marker([df['lat'][inx], df['lng'][inx]], popup = folium.Popup(df['addr'][inx])).add_to(mapping)\n",
    "\n",
    "mapping\n",
    "# mapping.save(\"test.html\")\n",
    "\n",
    "# df_stores\n",
    "# df_sales\n",
    "# df = pd.merge(df_stores, df_sales, on='code')\n",
    "# df\n",
    "# kinds = {'plenty' : '충분함', 'some' : '보통'}\n",
    "# df['remain_stat'] = df['remain_stat'].map(kinds)\n",
    "# df\n"
   ]
  },
  {
   "cell_type": "code",
   "execution_count": null,
   "metadata": {},
   "outputs": [],
   "source": []
  }
 ],
 "metadata": {
  "language_info": {
   "codemirror_mode": {
    "name": "ipython",
    "version": 3
   },
   "file_extension": ".py",
   "mimetype": "text/x-python",
   "name": "python",
   "nbconvert_exporter": "python",
   "pygments_lexer": "ipython3",
   "version": "3.7.7-final"
  },
  "orig_nbformat": 2,
  "kernelspec": {
   "name": "python37764bit4dda73a9a4c74a0399c4c617d3b49df0",
   "display_name": "Python 3.7.7 64-bit"
  }
 },
 "nbformat": 4,
 "nbformat_minor": 2
}