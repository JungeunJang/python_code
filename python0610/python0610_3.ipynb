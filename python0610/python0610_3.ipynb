{
 "cells": [
  {
   "cell_type": "code",
   "execution_count": 39,
   "metadata": {},
   "outputs": [
    {
     "output_type": "stream",
     "name": "stdout",
     "text": "BLT\nOld Oak Tap\n"
    }
   ],
   "source": [
    "from bs4 import BeautifulSoup\n",
    "from urllib.request import urlopen\n",
    "\n",
    "url = 'https://www.chicagomag.com/Chicago-Magazine/November-2012/Best-Sandwiches-Chicago/'\n",
    "\n",
    "html = urlopen(url)\n",
    "soup = BeautifulSoup(html, 'html.parser')\n",
    "\n",
    "soup\n",
    "\n",
    "# print(soup.find_all('div', 'sammy'))\n",
    "len(soup.find_all('div', 'sammy'))\n",
    "\n",
    "tmp_one = soup.find_all('div', 'sammy')[0]\n",
    "tmp_one.find(class_ = 'sammyRank').get_text()\n",
    "tmp_one.find(class_ = 'sammyListing').get_text()\n",
    "tmp_one.find('a')['href']\n",
    "\n",
    "import re\n",
    "tmp_string = tmp_one.find(class_='sammyListing').get_text()\n",
    "re.split(('\\n|\\r\\n'), tmp_string)\n",
    "\n",
    "print(re.split(('\\n|\\r\\n'), tmp_string)[0])\n",
    "print(re.split(('\\n|\\r\\n'), tmp_string)[1])\n"
   ]
  },
  {
   "cell_type": "code",
   "execution_count": 52,
   "metadata": {},
   "outputs": [
    {
     "output_type": "execute_result",
     "data": {
      "text/plain": "   Rank                                            Menu  \\\n0     1                                             BLT   \n1     2                                   Fried Bologna   \n2     3                               Woodland Mushroom   \n3     4                                      Roast Beef   \n4     5                                            PB&L   \n5     6                     Belgian Chicken Curry Salad   \n6     7                                    Lobster Roll   \n7     8                             Smoked Salmon Salad   \n8     9                                 Atomica Cemitas   \n9    10  Grilled Laughing Bird Shrimp and Fried Po’ Boy   \n10   11                         Ham and Raclette Panino   \n11   12                                   Breaded Steak   \n12   13                                     The Hawkeye   \n13   14                                     Chicken Dip   \n14   15                            Wild Boar Sloppy Joe   \n15   16                                    Meatball Sub   \n16   17                                     Corned Beef   \n17   18                                     Turkey Club   \n18   19                                         Falafel   \n19   20                                       Crab Cake   \n20   21                               Chicken Schnitzel   \n21   22                                        Shawarma   \n22   23                         Toasted Pimiento Cheese   \n23   24                               Vegetarian Panino   \n24   25                                     Cali Chèvre   \n25   26                                        Pastrami   \n26   27                                       The Fredo   \n27   28                                      Smoked Ham   \n28   29                                        Jibarito   \n29   30                                Shaved Prime Rib   \n30   31                 Serrano Ham and Manchego Cheese   \n31   32                                      Tuna Salad   \n32   33                                Paramount Reuben   \n33   34                                    The Istanbul   \n34   35                                          B.A.D.   \n35   36                      Duck Confit and Mozzarella   \n36   37                                 Croque Monsieur   \n37   38                                  Green Garbanzo   \n38   39                                   The Hen House   \n39   40                                  Tuscan Chicken   \n40   41                                      The Marty    \n41   42                                       Whitefish   \n42   43          Oat Bread, Pecan Butter, and Fruit Jam   \n43   44                                Cauliflower Melt   \n44   45                                          Cubana   \n45   46                                           Kufta   \n46   47                              Debbie’s Egg Salad   \n47   48                                      Beef Curry   \n48   49                                   Le Végétarien   \n49   50                                      The Gatsby   \n\n                               Cafe  \\\n0                       Old Oak Tap   \n1                         Au Cheval   \n2                              Xoco   \n3                         Al’s Deli   \n4            Publican Quality Meats   \n5   Hendrickx Belgian Bread Crafter   \n6                            Acadia   \n7                 Birchwood Kitchen   \n8                    Cemitas Puebla   \n9                              Nana   \n10                        Lula Cafe   \n11                       Ricobene’s   \n12                     Frog n Snail   \n13                 Crosby’s Kitchen   \n14                  Longman & Eagle   \n15                             Bari   \n16                          Manny’s   \n17                           Eggy’s   \n18                    Old Jerusalem   \n19             Mindy’s HotChocolate   \n20              Olga’s Delicatessen   \n21     Dawali Mediterranean Kitchen   \n22                        Big Jones   \n23                          La Pane   \n24                         Pastoral   \n25                       Max’s Deli   \n26             Lucky’s Sandwich Co.   \n27                  City Provisions   \n28             Papa’s Cache Sabroso   \n29            Bavette’s Bar & Boeuf   \n30                 Hannah’s Bretzel   \n31                     La Fournette   \n32                   Paramount Room   \n33             Melt Sandwich Shoppe   \n34           Floriole Cafe & Bakery   \n35             First Slice Pie Café   \n36                          Troquet   \n37                       Grahamwich   \n38                   Saigon Sisters   \n39                   Rosalia’s Deli   \n40                   Z&H MarketCafe   \n41       Market House on the Square   \n42             Elaine’s Coffee Call   \n43      Marion Street Cheese Market   \n44                         Cafecito   \n45                         Chickpea   \n46           The Goddess and Grocer   \n47                          Zenwich   \n48                  Toni Patisserie   \n49                  Phoebe’s Bakery   \n\n                                                  URL  \n0   https://www.chicagomag.com/Chicago-Magazine/No...  \n1   https://www.chicagomag.com/Chicago-Magazine/No...  \n2   https://www.chicagomag.com/Chicago-Magazine/No...  \n3   https://www.chicagomag.com/Chicago-Magazine/No...  \n4   https://www.chicagomag.com/Chicago-Magazine/No...  \n5   http://www.chicagomag.com/Chicago-Magazine/Nov...  \n6   https://www.chicagomag.com/Chicago-Magazine/No...  \n7   https://www.chicagomag.com/Chicago-Magazine/No...  \n8   https://www.chicagomag.com/Chicago-Magazine/No...  \n9   https://www.chicagomag.com/Chicago-Magazine/No...  \n10  http://www.chicagomag.com/Chicago-Magazine/Nov...  \n11  http://www.chicagomag.com/Chicago-Magazine/Nov...  \n12  http://www.chicagomag.com/Chicago-Magazine/Nov...  \n13  http://www.chicagomag.com/Chicago-Magazine/Nov...  \n14  http://www.chicagomag.com/Chicago-Magazine/Nov...  \n15  http://www.chicagomag.com/Chicago-Magazine/Nov...  \n16  http://www.chicagomag.com/Chicago-Magazine/Nov...  \n17  http://www.chicagomag.com/Chicago-Magazine/Nov...  \n18  http://www.chicagomag.com/Chicago-Magazine/Nov...  \n19  http://www.chicagomag.com/Chicago-Magazine/Nov...  \n20  http://www.chicagomag.com/Chicago-Magazine/Nov...  \n21  http://www.chicagomag.com/Chicago-Magazine/Nov...  \n22  http://www.chicagomag.com/Chicago-Magazine/Nov...  \n23  http://www.chicagomag.com/Chicago-Magazine/Nov...  \n24  https://www.chicagomag.com/Chicago-Magazine/No...  \n25  http://www.chicagomag.com/Chicago-Magazine/Nov...  \n26  http://www.chicagomag.com/Chicago-Magazine/Nov...  \n27  http://www.chicagomag.com/Chicago-Magazine/Nov...  \n28  http://www.chicagomag.com/Chicago-Magazine/Nov...  \n29  http://www.chicagomag.com/Chicago-Magazine/Nov...  \n30  http://www.chicagomag.com/Chicago-Magazine/Nov...  \n31  http://www.chicagomag.com/Chicago-Magazine/Nov...  \n32  http://www.chicagomag.com/Chicago-Magazine/Nov...  \n33  http://www.chicagomag.com/Chicago-Magazine/Nov...  \n34  http://www.chicagomag.com/Chicago-Magazine/Nov...  \n35  http://www.chicagomag.com/Chicago-Magazine/Nov...  \n36  http://www.chicagomag.com/Chicago-Magazine/Nov...  \n37  http://www.chicagomag.com/Chicago-Magazine/Nov...  \n38  http://www.chicagomag.com/Chicago-Magazine/Nov...  \n39  http://www.chicagomag.com/Chicago-Magazine/Nov...  \n40  http://www.chicagomag.com/Chicago-Magazine/Nov...  \n41  http://www.chicagomag.com/Chicago-Magazine/Nov...  \n42  http://www.chicagomag.com/Chicago-Magazine/Nov...  \n43  http://www.chicagomag.com/Chicago-Magazine/Nov...  \n44  http://www.chicagomag.com/Chicago-Magazine/Nov...  \n45  http://www.chicagomag.com/Chicago-Magazine/Nov...  \n46  http://www.chicagomag.com/Chicago-Magazine/Nov...  \n47  http://www.chicagomag.com/Chicago-Magazine/Nov...  \n48  http://www.chicagomag.com/Chicago-Magazine/Nov...  \n49  http://www.chicagomag.com/Chicago-Magazine/Nov...  ",
      "text/html": "<div>\n<style scoped>\n    .dataframe tbody tr th:only-of-type {\n        vertical-align: middle;\n    }\n\n    .dataframe tbody tr th {\n        vertical-align: top;\n    }\n\n    .dataframe thead th {\n        text-align: right;\n    }\n</style>\n<table border=\"1\" class=\"dataframe\">\n  <thead>\n    <tr style=\"text-align: right;\">\n      <th></th>\n      <th>Rank</th>\n      <th>Menu</th>\n      <th>Cafe</th>\n      <th>URL</th>\n    </tr>\n  </thead>\n  <tbody>\n    <tr>\n      <th>0</th>\n      <td>1</td>\n      <td>BLT</td>\n      <td>Old Oak Tap</td>\n      <td>https://www.chicagomag.com/Chicago-Magazine/No...</td>\n    </tr>\n    <tr>\n      <th>1</th>\n      <td>2</td>\n      <td>Fried Bologna</td>\n      <td>Au Cheval</td>\n      <td>https://www.chicagomag.com/Chicago-Magazine/No...</td>\n    </tr>\n    <tr>\n      <th>2</th>\n      <td>3</td>\n      <td>Woodland Mushroom</td>\n      <td>Xoco</td>\n      <td>https://www.chicagomag.com/Chicago-Magazine/No...</td>\n    </tr>\n    <tr>\n      <th>3</th>\n      <td>4</td>\n      <td>Roast Beef</td>\n      <td>Al’s Deli</td>\n      <td>https://www.chicagomag.com/Chicago-Magazine/No...</td>\n    </tr>\n    <tr>\n      <th>4</th>\n      <td>5</td>\n      <td>PB&amp;L</td>\n      <td>Publican Quality Meats</td>\n      <td>https://www.chicagomag.com/Chicago-Magazine/No...</td>\n    </tr>\n    <tr>\n      <th>5</th>\n      <td>6</td>\n      <td>Belgian Chicken Curry Salad</td>\n      <td>Hendrickx Belgian Bread Crafter</td>\n      <td>http://www.chicagomag.com/Chicago-Magazine/Nov...</td>\n    </tr>\n    <tr>\n      <th>6</th>\n      <td>7</td>\n      <td>Lobster Roll</td>\n      <td>Acadia</td>\n      <td>https://www.chicagomag.com/Chicago-Magazine/No...</td>\n    </tr>\n    <tr>\n      <th>7</th>\n      <td>8</td>\n      <td>Smoked Salmon Salad</td>\n      <td>Birchwood Kitchen</td>\n      <td>https://www.chicagomag.com/Chicago-Magazine/No...</td>\n    </tr>\n    <tr>\n      <th>8</th>\n      <td>9</td>\n      <td>Atomica Cemitas</td>\n      <td>Cemitas Puebla</td>\n      <td>https://www.chicagomag.com/Chicago-Magazine/No...</td>\n    </tr>\n    <tr>\n      <th>9</th>\n      <td>10</td>\n      <td>Grilled Laughing Bird Shrimp and Fried Po’ Boy</td>\n      <td>Nana</td>\n      <td>https://www.chicagomag.com/Chicago-Magazine/No...</td>\n    </tr>\n    <tr>\n      <th>10</th>\n      <td>11</td>\n      <td>Ham and Raclette Panino</td>\n      <td>Lula Cafe</td>\n      <td>http://www.chicagomag.com/Chicago-Magazine/Nov...</td>\n    </tr>\n    <tr>\n      <th>11</th>\n      <td>12</td>\n      <td>Breaded Steak</td>\n      <td>Ricobene’s</td>\n      <td>http://www.chicagomag.com/Chicago-Magazine/Nov...</td>\n    </tr>\n    <tr>\n      <th>12</th>\n      <td>13</td>\n      <td>The Hawkeye</td>\n      <td>Frog n Snail</td>\n      <td>http://www.chicagomag.com/Chicago-Magazine/Nov...</td>\n    </tr>\n    <tr>\n      <th>13</th>\n      <td>14</td>\n      <td>Chicken Dip</td>\n      <td>Crosby’s Kitchen</td>\n      <td>http://www.chicagomag.com/Chicago-Magazine/Nov...</td>\n    </tr>\n    <tr>\n      <th>14</th>\n      <td>15</td>\n      <td>Wild Boar Sloppy Joe</td>\n      <td>Longman &amp; Eagle</td>\n      <td>http://www.chicagomag.com/Chicago-Magazine/Nov...</td>\n    </tr>\n    <tr>\n      <th>15</th>\n      <td>16</td>\n      <td>Meatball Sub</td>\n      <td>Bari</td>\n      <td>http://www.chicagomag.com/Chicago-Magazine/Nov...</td>\n    </tr>\n    <tr>\n      <th>16</th>\n      <td>17</td>\n      <td>Corned Beef</td>\n      <td>Manny’s</td>\n      <td>http://www.chicagomag.com/Chicago-Magazine/Nov...</td>\n    </tr>\n    <tr>\n      <th>17</th>\n      <td>18</td>\n      <td>Turkey Club</td>\n      <td>Eggy’s</td>\n      <td>http://www.chicagomag.com/Chicago-Magazine/Nov...</td>\n    </tr>\n    <tr>\n      <th>18</th>\n      <td>19</td>\n      <td>Falafel</td>\n      <td>Old Jerusalem</td>\n      <td>http://www.chicagomag.com/Chicago-Magazine/Nov...</td>\n    </tr>\n    <tr>\n      <th>19</th>\n      <td>20</td>\n      <td>Crab Cake</td>\n      <td>Mindy’s HotChocolate</td>\n      <td>http://www.chicagomag.com/Chicago-Magazine/Nov...</td>\n    </tr>\n    <tr>\n      <th>20</th>\n      <td>21</td>\n      <td>Chicken Schnitzel</td>\n      <td>Olga’s Delicatessen</td>\n      <td>http://www.chicagomag.com/Chicago-Magazine/Nov...</td>\n    </tr>\n    <tr>\n      <th>21</th>\n      <td>22</td>\n      <td>Shawarma</td>\n      <td>Dawali Mediterranean Kitchen</td>\n      <td>http://www.chicagomag.com/Chicago-Magazine/Nov...</td>\n    </tr>\n    <tr>\n      <th>22</th>\n      <td>23</td>\n      <td>Toasted Pimiento Cheese</td>\n      <td>Big Jones</td>\n      <td>http://www.chicagomag.com/Chicago-Magazine/Nov...</td>\n    </tr>\n    <tr>\n      <th>23</th>\n      <td>24</td>\n      <td>Vegetarian Panino</td>\n      <td>La Pane</td>\n      <td>http://www.chicagomag.com/Chicago-Magazine/Nov...</td>\n    </tr>\n    <tr>\n      <th>24</th>\n      <td>25</td>\n      <td>Cali Chèvre</td>\n      <td>Pastoral</td>\n      <td>https://www.chicagomag.com/Chicago-Magazine/No...</td>\n    </tr>\n    <tr>\n      <th>25</th>\n      <td>26</td>\n      <td>Pastrami</td>\n      <td>Max’s Deli</td>\n      <td>http://www.chicagomag.com/Chicago-Magazine/Nov...</td>\n    </tr>\n    <tr>\n      <th>26</th>\n      <td>27</td>\n      <td>The Fredo</td>\n      <td>Lucky’s Sandwich Co.</td>\n      <td>http://www.chicagomag.com/Chicago-Magazine/Nov...</td>\n    </tr>\n    <tr>\n      <th>27</th>\n      <td>28</td>\n      <td>Smoked Ham</td>\n      <td>City Provisions</td>\n      <td>http://www.chicagomag.com/Chicago-Magazine/Nov...</td>\n    </tr>\n    <tr>\n      <th>28</th>\n      <td>29</td>\n      <td>Jibarito</td>\n      <td>Papa’s Cache Sabroso</td>\n      <td>http://www.chicagomag.com/Chicago-Magazine/Nov...</td>\n    </tr>\n    <tr>\n      <th>29</th>\n      <td>30</td>\n      <td>Shaved Prime Rib</td>\n      <td>Bavette’s Bar &amp; Boeuf</td>\n      <td>http://www.chicagomag.com/Chicago-Magazine/Nov...</td>\n    </tr>\n    <tr>\n      <th>30</th>\n      <td>31</td>\n      <td>Serrano Ham and Manchego Cheese</td>\n      <td>Hannah’s Bretzel</td>\n      <td>http://www.chicagomag.com/Chicago-Magazine/Nov...</td>\n    </tr>\n    <tr>\n      <th>31</th>\n      <td>32</td>\n      <td>Tuna Salad</td>\n      <td>La Fournette</td>\n      <td>http://www.chicagomag.com/Chicago-Magazine/Nov...</td>\n    </tr>\n    <tr>\n      <th>32</th>\n      <td>33</td>\n      <td>Paramount Reuben</td>\n      <td>Paramount Room</td>\n      <td>http://www.chicagomag.com/Chicago-Magazine/Nov...</td>\n    </tr>\n    <tr>\n      <th>33</th>\n      <td>34</td>\n      <td>The Istanbul</td>\n      <td>Melt Sandwich Shoppe</td>\n      <td>http://www.chicagomag.com/Chicago-Magazine/Nov...</td>\n    </tr>\n    <tr>\n      <th>34</th>\n      <td>35</td>\n      <td>B.A.D.</td>\n      <td>Floriole Cafe &amp; Bakery</td>\n      <td>http://www.chicagomag.com/Chicago-Magazine/Nov...</td>\n    </tr>\n    <tr>\n      <th>35</th>\n      <td>36</td>\n      <td>Duck Confit and Mozzarella</td>\n      <td>First Slice Pie Café</td>\n      <td>http://www.chicagomag.com/Chicago-Magazine/Nov...</td>\n    </tr>\n    <tr>\n      <th>36</th>\n      <td>37</td>\n      <td>Croque Monsieur</td>\n      <td>Troquet</td>\n      <td>http://www.chicagomag.com/Chicago-Magazine/Nov...</td>\n    </tr>\n    <tr>\n      <th>37</th>\n      <td>38</td>\n      <td>Green Garbanzo</td>\n      <td>Grahamwich</td>\n      <td>http://www.chicagomag.com/Chicago-Magazine/Nov...</td>\n    </tr>\n    <tr>\n      <th>38</th>\n      <td>39</td>\n      <td>The Hen House</td>\n      <td>Saigon Sisters</td>\n      <td>http://www.chicagomag.com/Chicago-Magazine/Nov...</td>\n    </tr>\n    <tr>\n      <th>39</th>\n      <td>40</td>\n      <td>Tuscan Chicken</td>\n      <td>Rosalia’s Deli</td>\n      <td>http://www.chicagomag.com/Chicago-Magazine/Nov...</td>\n    </tr>\n    <tr>\n      <th>40</th>\n      <td>41</td>\n      <td>The Marty</td>\n      <td>Z&amp;H MarketCafe</td>\n      <td>http://www.chicagomag.com/Chicago-Magazine/Nov...</td>\n    </tr>\n    <tr>\n      <th>41</th>\n      <td>42</td>\n      <td>Whitefish</td>\n      <td>Market House on the Square</td>\n      <td>http://www.chicagomag.com/Chicago-Magazine/Nov...</td>\n    </tr>\n    <tr>\n      <th>42</th>\n      <td>43</td>\n      <td>Oat Bread, Pecan Butter, and Fruit Jam</td>\n      <td>Elaine’s Coffee Call</td>\n      <td>http://www.chicagomag.com/Chicago-Magazine/Nov...</td>\n    </tr>\n    <tr>\n      <th>43</th>\n      <td>44</td>\n      <td>Cauliflower Melt</td>\n      <td>Marion Street Cheese Market</td>\n      <td>http://www.chicagomag.com/Chicago-Magazine/Nov...</td>\n    </tr>\n    <tr>\n      <th>44</th>\n      <td>45</td>\n      <td>Cubana</td>\n      <td>Cafecito</td>\n      <td>http://www.chicagomag.com/Chicago-Magazine/Nov...</td>\n    </tr>\n    <tr>\n      <th>45</th>\n      <td>46</td>\n      <td>Kufta</td>\n      <td>Chickpea</td>\n      <td>http://www.chicagomag.com/Chicago-Magazine/Nov...</td>\n    </tr>\n    <tr>\n      <th>46</th>\n      <td>47</td>\n      <td>Debbie’s Egg Salad</td>\n      <td>The Goddess and Grocer</td>\n      <td>http://www.chicagomag.com/Chicago-Magazine/Nov...</td>\n    </tr>\n    <tr>\n      <th>47</th>\n      <td>48</td>\n      <td>Beef Curry</td>\n      <td>Zenwich</td>\n      <td>http://www.chicagomag.com/Chicago-Magazine/Nov...</td>\n    </tr>\n    <tr>\n      <th>48</th>\n      <td>49</td>\n      <td>Le Végétarien</td>\n      <td>Toni Patisserie</td>\n      <td>http://www.chicagomag.com/Chicago-Magazine/Nov...</td>\n    </tr>\n    <tr>\n      <th>49</th>\n      <td>50</td>\n      <td>The Gatsby</td>\n      <td>Phoebe’s Bakery</td>\n      <td>http://www.chicagomag.com/Chicago-Magazine/Nov...</td>\n    </tr>\n  </tbody>\n</table>\n</div>"
     },
     "metadata": {},
     "execution_count": 52
    }
   ],
   "source": [
    "from urllib.parse import urljoin\n",
    "import pandas as pd\n",
    "\n",
    "url_base = 'https://www.chicagomag.com'\n",
    "\n",
    "rank = [] \n",
    "main_menu = [] \n",
    "cafe_name = []\n",
    "url_add =[]\n",
    "\n",
    "list_soup = soup.find_all('div', 'sammy')\n",
    "\n",
    "for item in list_soup:\n",
    "    rank.append(item.find(class_='sammyRank').get_text())\n",
    "\n",
    "    tmp_string=item.find(class_='sammyListing').get_text()\n",
    "\n",
    "    main_menu.append(re.split(('\\n|\\r\\n'), tmp_string)[0])\n",
    "    cafe_name.append(re.split(('\\n|\\r\\n'), tmp_string)[1])\n",
    "\n",
    "    url_add.append(urljoin(url_base, item.find('a')['href']))\n",
    "\n"
   ]
  },
  {
   "cell_type": "code",
   "execution_count": 55,
   "metadata": {},
   "outputs": [],
   "source": [
    "data = {'Rank':rank, 'Menu':main_menu, 'Cafe':cafe_name,'URL':url_add}\n",
    "df = pd.DataFrame(data)\n",
    "df\n",
    "\n",
    "df.to_csv('../data/03. best_sandwiches_list_chicago_rev.csv', sep=',', encoding = 'utf-8')"
   ]
  }
 ],
 "metadata": {
  "language_info": {
   "codemirror_mode": {
    "name": "ipython",
    "version": 3
   },
   "file_extension": ".py",
   "mimetype": "text/x-python",
   "name": "python",
   "nbconvert_exporter": "python",
   "pygments_lexer": "ipython3",
   "version": "3.7.7-final"
  },
  "orig_nbformat": 2,
  "kernelspec": {
   "name": "python37764bit4dda73a9a4c74a0399c4c617d3b49df0",
   "display_name": "Python 3.7.7 64-bit"
  }
 },
 "nbformat": 4,
 "nbformat_minor": 2
}