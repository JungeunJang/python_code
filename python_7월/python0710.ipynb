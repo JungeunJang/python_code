{
 "cells": [
  {
   "cell_type": "code",
   "execution_count": 40,
   "metadata": {},
   "outputs": [],
   "source": [
    "import pandas as pd\n",
    "import numpy as np\n",
    "import matplotlib.pyplot as plt\n",
    "import seaborn as sns\n",
    "from sklearn.ensemble import RandomForestClassifier"
   ]
  },
  {
   "cell_type": "code",
   "execution_count": 41,
   "metadata": {},
   "outputs": [],
   "source": [
    "train = pd.read_csv('Kaggle/bike-sharing-demand/train.csv', parse_dates=['datetime'])\n",
    "test = pd.read_csv('Kaggle/bike-sharing-demand/test.csv', parse_dates=['datetime'])"
   ]
  },
  {
   "cell_type": "code",
   "execution_count": 42,
   "metadata": {},
   "outputs": [],
   "source": [
    "train['year'] = train.datetime.dt.year\n",
    "train['month'] = train.datetime.dt.month\n",
    "train['day'] = train.datetime.dt.day\n",
    "train['hour'] = train.datetime.dt.hour\n",
    "train['minute'] = train.datetime.dt.minute\n",
    "train['second'] = train.datetime.dt.second\n",
    "train['dayofweek'] = train.datetime.dt.dayofweek"
   ]
  },
  {
   "cell_type": "code",
   "execution_count": 43,
   "metadata": {},
   "outputs": [],
   "source": [
    "test['year'] = test.datetime.dt.year\n",
    "test['month'] = test.datetime.dt.month\n",
    "test['day'] = test.datetime.dt.day\n",
    "test['hour'] = test.datetime.dt.hour\n",
    "test['minute'] = test.datetime.dt.minute\n",
    "test['second'] = test.datetime.dt.second\n",
    "test['dayofweek'] = test.datetime.dt.dayofweek"
   ]
  },
  {
   "cell_type": "code",
   "execution_count": 44,
   "metadata": {},
   "outputs": [],
   "source": [
    "cfn = ['season', 'holiday', 'workingday', 'weather', 'dayofweek','month', 'year', 'hour']\n",
    "\n",
    "for v in cfn:\n",
    "    train[v] = train[v].astype('category')\n",
    "    test[v] = test[v].astype('category') "
   ]
  },
  {
   "cell_type": "code",
   "execution_count": 45,
   "metadata": {},
   "outputs": [],
   "source": [
    "fn = ['season', 'holiday', 'workingday', 'weather', 'dayofweek','month', 'year', 'hour', 'temp','humidity']"
   ]
  },
  {
   "cell_type": "code",
   "execution_count": 46,
   "metadata": {},
   "outputs": [],
   "source": [
    "train[fn].shape\n",
    "test[fn].shape\n",
    "yTrain = train['count']\n",
    "xTrain = train[fn]\n",
    "xTest = test[fn]"
   ]
  },
  {
   "cell_type": "code",
   "execution_count": 47,
   "metadata": {},
   "outputs": [],
   "source": [
    "def rmsle(av, pv):\n",
    "    # print(av)\n",
    "    av = np.array(av)\n",
    "    pv = np.array(pv)\n",
    "    logav = np.log(av+1) #로그를 씌워주는 것은 정규분포로 만들어주기 위함\n",
    "    logpv = np.log(pv+1)\n",
    "    diff = logpv - logav\n",
    "    ds = np.square(diff)\n",
    "    md = ds.mean()\n",
    "    score = np.sqrt(md)\n",
    "    return score\n",
    "# 회귀모델 -> 예측값 -> 실제값과의 차이-> 스코어 계산(rmsle)"
   ]
  },
  {
   "cell_type": "code",
   "execution_count": 48,
   "metadata": {},
   "outputs": [],
   "source": [
    "from sklearn.linear_model import LinearRegression\n",
    "# linear regression, lasso, ridge\n",
    "from sklearn.model_selection import GridSearchCV\n",
    "from sklearn import metrics"
   ]
  },
  {
   "cell_type": "code",
   "execution_count": 49,
   "metadata": {
    "tags": []
   },
   "outputs": [
    {
     "output_type": "stream",
     "name": "stdout",
     "text": "0.9795860605214377\n"
    }
   ],
   "source": [
    "model = LinearRegression()\n",
    "yTrain = np.log1p(yTrain)\n",
    "model.fit(xTrain, yTrain)\n",
    "\n",
    "predictions = model.predict(xTrain)\n",
    "print(rmsle(np.exp(yTrain), np.exp(predictions)))"
   ]
  },
  {
   "cell_type": "code",
   "execution_count": 50,
   "metadata": {},
   "outputs": [
    {
     "output_type": "execute_result",
     "data": {
      "text/plain": "1"
     },
     "metadata": {},
     "execution_count": 50
    }
   ],
   "source": [
    "def AND(x1, x2):\n",
    "    w1, w2, theta = 0.5, 0.5, 0.7\n",
    "    # w1x1 + w2x2 > theta(1) or not(0)\n",
    "    res = w1*x1 + w2*x2\n",
    "    if res <= theta:\n",
    "        return 0\n",
    "    elif res > theta:\n",
    "        return 1\n",
    "\n",
    "\n",
    "AND(0,0) #0\n",
    "AND(0,1) #0\n",
    "AND(1,0) #0\n",
    "AND(1,1) #1\n"
   ]
  },
  {
   "cell_type": "code",
   "execution_count": 65,
   "metadata": {},
   "outputs": [
    {
     "output_type": "execute_result",
     "data": {
      "text/plain": "0"
     },
     "metadata": {},
     "execution_count": 65
    }
   ],
   "source": [
    "def OR(x1, x2):\n",
    "    w1, w2, theta = 0.1, 0.1, 0.3\n",
    "    # w1x1 + w2x2 > theta(1) or not(0)\n",
    "    res = w1*x1 + w2*x2\n",
    "    if res <= theta:\n",
    "        return 0\n",
    "    elif res > theta:\n",
    "        return 1\n",
    "\n",
    "\n",
    "AND(0,0) #0\n",
    "AND(0,1) #1\n",
    "# AND(1,0) #1\n",
    "# AND(1,1) #1"
   ]
  },
  {
   "cell_type": "code",
   "execution_count": 89,
   "metadata": {
    "tags": []
   },
   "outputs": [
    {
     "output_type": "stream",
     "name": "stdout",
     "text": "0\n0\n0\n1\n"
    }
   ],
   "source": [
    "# y = w1x1 + w2x2 + bias\n",
    "\n",
    "def AND2(x1, x2):\n",
    "    x = np.array([x1, x2])\n",
    "    w = np.array([0.5, 0.5])\n",
    "    b = -0.7\n",
    "    t = np.sum(x*w) + b\n",
    "    if t<=0:\n",
    "        return 0\n",
    "    else:\n",
    "        return 1\n",
    "\n",
    "for data in [(0,0), (0,1),(1,0), (1,1)]:\n",
    "    y = AND2(data[0], data[1])\n",
    "    print(y)"
   ]
  },
  {
   "cell_type": "code",
   "execution_count": 88,
   "metadata": {
    "tags": []
   },
   "outputs": [
    {
     "output_type": "stream",
     "name": "stdout",
     "text": "0\n1\n1\n1\n"
    }
   ],
   "source": [
    "def OR2(x1, x2):\n",
    "    x = np.array([x1, x2])\n",
    "    w = np.array([0.5, 0.5])\n",
    "    b = -0.4\n",
    "    t = np.sum(x*w) + b\n",
    "    if t<=0:\n",
    "        return 0\n",
    "    else:\n",
    "        return 1\n",
    "\n",
    "for data in [(0,0), (0,1),(1,0), (1,1)]:\n",
    "    y = OR2(data[0], data[1])\n",
    "    print(y)"
   ]
  },
  {
   "cell_type": "code",
   "execution_count": null,
   "metadata": {},
   "outputs": [],
   "source": [
    "def XOR2(x1, x2):\n",
    "    x = np.array([x1, x2])\n",
    "    w = np.array([0.5, 0.5])\n",
    "    b = -0.4\n",
    "    t = np.sum(x*w) + b\n",
    "    if t<=0:\n",
    "        return 0\n",
    "    else:\n",
    "        return 1\n",
    "\n",
    "for data in [(0,0), (0,1),(1,0), (1,1)]:\n",
    "    y = OR2(data[0], data[1])\n",
    "    print(y)"
   ]
  },
  {
   "cell_type": "code",
   "execution_count": 96,
   "metadata": {
    "tags": []
   },
   "outputs": [
    {
     "output_type": "stream",
     "name": "stdout",
     "text": "1\n1\n1\n0\n"
    }
   ],
   "source": [
    "def NAND2(x1, x2): # AND의 반대 NOT AND\n",
    "    x = np.array([x1, x2])\n",
    "    w = np.array([-0.5, -0.5])\n",
    "    b = 0.7\n",
    "    t = np.sum(x*w) + b\n",
    "    if t<=0:\n",
    "        return 0\n",
    "    else:\n",
    "        return 1\n",
    "\n",
    "for data in [(0,0), (0,1),(1,0), (1,1)]:\n",
    "    y = NAND2(data[0], data[1])\n",
    "    print(y)"
   ]
  },
  {
   "cell_type": "code",
   "execution_count": 97,
   "metadata": {
    "tags": []
   },
   "outputs": [
    {
     "output_type": "stream",
     "name": "stdout",
     "text": "0\n1\n1\n0\n"
    }
   ],
   "source": [
    "def XOR2(x1, x2):\n",
    "    s1 = NAND2(x1, x2)\n",
    "    s2 = OR2(x1, x2)\n",
    "    y = AND2(s1, s2)\n",
    "    return y\n",
    "\n",
    "for data in [(0,0), (0,1),(1,0), (1,1)]:\n",
    "    y = XOR2(data[0], data[1])\n",
    "    print(y)\n"
   ]
  },
  {
   "cell_type": "code",
   "execution_count": null,
   "metadata": {},
   "outputs": [],
   "source": []
  }
 ],
 "metadata": {
  "language_info": {
   "codemirror_mode": {
    "name": "ipython",
    "version": 3
   },
   "file_extension": ".py",
   "mimetype": "text/x-python",
   "name": "python",
   "nbconvert_exporter": "python",
   "pygments_lexer": "ipython3",
   "version": 3
  },
  "orig_nbformat": 2,
  "kernelspec": {
   "name": "python_defaultSpec_1594604308526",
   "display_name": "Python 3.7.7 64-bit"
  }
 },
 "nbformat": 4,
 "nbformat_minor": 2
}