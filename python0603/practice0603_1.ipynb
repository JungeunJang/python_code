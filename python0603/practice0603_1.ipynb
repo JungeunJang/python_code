{
 "cells": [
  {
   "cell_type": "code",
   "execution_count": 96,
   "metadata": {},
   "outputs": [
    {
     "output_type": "execute_result",
     "data": {
      "text/plain": "          b    c    d\nutah   -2.0 -1.0  0.0\nohio   -2.0 -1.0  0.0\ntaxes  -2.0 -1.0  0.0\noregen -2.0 -1.0  0.0",
      "text/html": "<div>\n<style scoped>\n    .dataframe tbody tr th:only-of-type {\n        vertical-align: middle;\n    }\n\n    .dataframe tbody tr th {\n        vertical-align: top;\n    }\n\n    .dataframe thead th {\n        text-align: right;\n    }\n</style>\n<table border=\"1\" class=\"dataframe\">\n  <thead>\n    <tr style=\"text-align: right;\">\n      <th></th>\n      <th>b</th>\n      <th>c</th>\n      <th>d</th>\n    </tr>\n  </thead>\n  <tbody>\n    <tr>\n      <th>utah</th>\n      <td>-2.0</td>\n      <td>-1.0</td>\n      <td>0.0</td>\n    </tr>\n    <tr>\n      <th>ohio</th>\n      <td>-2.0</td>\n      <td>-1.0</td>\n      <td>0.0</td>\n    </tr>\n    <tr>\n      <th>taxes</th>\n      <td>-2.0</td>\n      <td>-1.0</td>\n      <td>0.0</td>\n    </tr>\n    <tr>\n      <th>oregen</th>\n      <td>-2.0</td>\n      <td>-1.0</td>\n      <td>0.0</td>\n    </tr>\n  </tbody>\n</table>\n</div>"
     },
     "metadata": {},
     "execution_count": 96
    }
   ],
   "source": [
    "import numpy as np\n",
    "import pandas as pd\n",
    "\n",
    "arr = np.arange(12.).reshape((3,4))\n",
    "arr - arr[0]\n",
    "\n",
    "frame = pd.DataFrame(np.arange(12.).reshape((4,3)), columns=list('bcd'), index=['utah', 'ohio','taxes', 'oregen'])\n",
    "series = frame.iloc[0]\n",
    "frame\n",
    "series\n",
    "\n",
    "frame - series\n",
    "\n",
    "series2 = pd.Series(range(3), index=['b', 'e', 'f'])\n",
    "frame + series2\n",
    "\n",
    "series3 =frame['d']\n",
    "frame\n",
    "series3\n",
    "frame.sub(series3, axis = 'index')"
   ]
  },
  {
   "cell_type": "code",
   "execution_count": 99,
   "metadata": {},
   "outputs": [
    {
     "output_type": "execute_result",
     "data": {
      "text/plain": "               b         d         e\nutah    0.286186 -1.747743 -0.242106\nohio   -1.319534 -0.278169  0.549588\ntaxes   0.534385 -0.439665 -0.350817\noregen  0.143704  1.629440 -0.142479",
      "text/html": "<div>\n<style scoped>\n    .dataframe tbody tr th:only-of-type {\n        vertical-align: middle;\n    }\n\n    .dataframe tbody tr th {\n        vertical-align: top;\n    }\n\n    .dataframe thead th {\n        text-align: right;\n    }\n</style>\n<table border=\"1\" class=\"dataframe\">\n  <thead>\n    <tr style=\"text-align: right;\">\n      <th></th>\n      <th>b</th>\n      <th>d</th>\n      <th>e</th>\n    </tr>\n  </thead>\n  <tbody>\n    <tr>\n      <th>utah</th>\n      <td>0.286186</td>\n      <td>-1.747743</td>\n      <td>-0.242106</td>\n    </tr>\n    <tr>\n      <th>ohio</th>\n      <td>-1.319534</td>\n      <td>-0.278169</td>\n      <td>0.549588</td>\n    </tr>\n    <tr>\n      <th>taxes</th>\n      <td>0.534385</td>\n      <td>-0.439665</td>\n      <td>-0.350817</td>\n    </tr>\n    <tr>\n      <th>oregen</th>\n      <td>0.143704</td>\n      <td>1.629440</td>\n      <td>-0.142479</td>\n    </tr>\n  </tbody>\n</table>\n</div>"
     },
     "metadata": {},
     "execution_count": 99
    }
   ],
   "source": [
    "frame = pd.DataFrame(np.random.randn(4,3), columns=list('bde'), index = ['utah', 'ohio','taxes', 'oregen'])\n",
    "frame "
   ]
  }
 ],
 "metadata": {
  "language_info": {
   "codemirror_mode": {
    "name": "ipython",
    "version": 3
   },
   "file_extension": ".py",
   "mimetype": "text/x-python",
   "name": "python",
   "nbconvert_exporter": "python",
   "pygments_lexer": "ipython3",
   "version": "3.7.7-final"
  },
  "orig_nbformat": 2,
  "kernelspec": {
   "name": "python37764bit4dda73a9a4c74a0399c4c617d3b49df0",
   "display_name": "Python 3.7.7 64-bit"
  }
 },
 "nbformat": 4,
 "nbformat_minor": 2
}