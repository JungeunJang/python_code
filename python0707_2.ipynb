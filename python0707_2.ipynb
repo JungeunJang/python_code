{
 "cells": [
  {
   "cell_type": "code",
   "execution_count": 1,
   "metadata": {},
   "outputs": [],
   "source": [
    "import pandas as pd\n",
    "import numpy as np"
   ]
  },
  {
   "cell_type": "code",
   "execution_count": 3,
   "metadata": {},
   "outputs": [
    {
     "output_type": "execute_result",
     "data": {
      "text/plain": "    c1        c2\n0    0 -0.330565\n1    2 -1.002773\n2   10 -1.553884\n3    9  0.708405\n4    5 -0.119043\n5    8 -0.791177\n6    8  1.037604\n7    1 -0.773755\n8    7 -0.837361\n9    3 -0.716108\n10  10  0.356637\n11  19  0.229413\n12  18  0.310186\n13  14 -1.252190\n14   2 -0.051728\n15  19 -1.147611\n16  19 -1.123890\n17   5 -0.701223\n18  17 -0.397388\n19  11 -0.803785",
      "text/html": "<div>\n<style scoped>\n    .dataframe tbody tr th:only-of-type {\n        vertical-align: middle;\n    }\n\n    .dataframe tbody tr th {\n        vertical-align: top;\n    }\n\n    .dataframe thead th {\n        text-align: right;\n    }\n</style>\n<table border=\"1\" class=\"dataframe\">\n  <thead>\n    <tr style=\"text-align: right;\">\n      <th></th>\n      <th>c1</th>\n      <th>c2</th>\n    </tr>\n  </thead>\n  <tbody>\n    <tr>\n      <th>0</th>\n      <td>0</td>\n      <td>-0.330565</td>\n    </tr>\n    <tr>\n      <th>1</th>\n      <td>2</td>\n      <td>-1.002773</td>\n    </tr>\n    <tr>\n      <th>2</th>\n      <td>10</td>\n      <td>-1.553884</td>\n    </tr>\n    <tr>\n      <th>3</th>\n      <td>9</td>\n      <td>0.708405</td>\n    </tr>\n    <tr>\n      <th>4</th>\n      <td>5</td>\n      <td>-0.119043</td>\n    </tr>\n    <tr>\n      <th>5</th>\n      <td>8</td>\n      <td>-0.791177</td>\n    </tr>\n    <tr>\n      <th>6</th>\n      <td>8</td>\n      <td>1.037604</td>\n    </tr>\n    <tr>\n      <th>7</th>\n      <td>1</td>\n      <td>-0.773755</td>\n    </tr>\n    <tr>\n      <th>8</th>\n      <td>7</td>\n      <td>-0.837361</td>\n    </tr>\n    <tr>\n      <th>9</th>\n      <td>3</td>\n      <td>-0.716108</td>\n    </tr>\n    <tr>\n      <th>10</th>\n      <td>10</td>\n      <td>0.356637</td>\n    </tr>\n    <tr>\n      <th>11</th>\n      <td>19</td>\n      <td>0.229413</td>\n    </tr>\n    <tr>\n      <th>12</th>\n      <td>18</td>\n      <td>0.310186</td>\n    </tr>\n    <tr>\n      <th>13</th>\n      <td>14</td>\n      <td>-1.252190</td>\n    </tr>\n    <tr>\n      <th>14</th>\n      <td>2</td>\n      <td>-0.051728</td>\n    </tr>\n    <tr>\n      <th>15</th>\n      <td>19</td>\n      <td>-1.147611</td>\n    </tr>\n    <tr>\n      <th>16</th>\n      <td>19</td>\n      <td>-1.123890</td>\n    </tr>\n    <tr>\n      <th>17</th>\n      <td>5</td>\n      <td>-0.701223</td>\n    </tr>\n    <tr>\n      <th>18</th>\n      <td>17</td>\n      <td>-0.397388</td>\n    </tr>\n    <tr>\n      <th>19</th>\n      <td>11</td>\n      <td>-0.803785</td>\n    </tr>\n  </tbody>\n</table>\n</div>"
     },
     "metadata": {},
     "execution_count": 3
    }
   ],
   "source": [
    "df = pd.DataFrame({'c1': np.random.randint(20, size=20), \n",
    "'c2':np.random.randn(20)})\n",
    "df"
   ]
  },
  {
   "cell_type": "code",
   "execution_count": 6,
   "metadata": {},
   "outputs": [],
   "source": [
    "fc1 = pd.cut(df.c1, 4) #c1 컬럼에 대해 4개의 동일한 길이로 범주를 만들어라 \n"
   ]
  },
  {
   "cell_type": "code",
   "execution_count": 10,
   "metadata": {},
   "outputs": [
    {
     "output_type": "execute_result",
     "data": {
      "text/plain": "c1\n(-0.019, 4.75]     0\n(4.75, 9.5]        5\n(9.5, 14.25]      10\n(14.25, 19.0]     17\nName: c1, dtype: int32"
     },
     "metadata": {},
     "execution_count": 10
    }
   ],
   "source": [
    "gc1 = df.c1.groupby(fc1)\n",
    "gc1.min()"
   ]
  }
 ],
 "metadata": {
  "language_info": {
   "codemirror_mode": {
    "name": "ipython",
    "version": 3
   },
   "file_extension": ".py",
   "mimetype": "text/x-python",
   "name": "python",
   "nbconvert_exporter": "python",
   "pygments_lexer": "ipython3",
   "version": 3
  },
  "orig_nbformat": 2,
  "kernelspec": {
   "name": "python_defaultSpec_1594105838511",
   "display_name": "Python 3.7.7 64-bit"
  }
 },
 "nbformat": 4,
 "nbformat_minor": 2
}