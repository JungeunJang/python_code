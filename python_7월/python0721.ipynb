{
 "metadata": {
  "language_info": {
   "codemirror_mode": {
    "name": "ipython",
    "version": 3
   },
   "file_extension": ".py",
   "mimetype": "text/x-python",
   "name": "python",
   "nbconvert_exporter": "python",
   "pygments_lexer": "ipython3",
   "version": 3
  },
  "orig_nbformat": 2,
  "kernelspec": {
   "name": "python_defaultSpec_1595314653985",
   "display_name": "Python 3.7.7 64-bit"
  }
 },
 "nbformat": 4,
 "nbformat_minor": 2,
 "cells": [
  {
   "cell_type": "markdown",
   "metadata": {},
   "source": [
    "# 코퍼스 : 문서의 집합 (분석 대상)\n",
    "문서1) 저는 사과 좋아요   \n",
    "문서2) 저는 바나나 좋아요  \n",
    "문서3) 저는 바나나 좋아요 저는 바나나 좋아요  \n",
    "\n",
    "딸기 -> out of vocab :oov\n"
   ]
  },
  {
   "cell_type": "code",
   "execution_count": 2,
   "metadata": {},
   "outputs": [],
   "source": [
    "import pandas as pd\n",
    "import numpy as np\n",
    "from numpy.linalg import norm\n",
    "from numpy import dot\n",
    "# dot : 두벡터의 내적\n",
    "# norm : 벡터의 크기\n",
    "\n"
   ]
  },
  {
   "cell_type": "code",
   "execution_count": 3,
   "metadata": {},
   "outputs": [],
   "source": [
    "doc1 = np.array([0,1,1,1])\n",
    "doc2 = np.array([1,0,1,1])\n",
    "doc3 = np.array([2,0,2,2])\n"
   ]
  },
  {
   "cell_type": "code",
   "execution_count": 4,
   "metadata": {},
   "outputs": [
    {
     "output_type": "execute_result",
     "data": {
      "text/plain": "1.7320508075688772"
     },
     "metadata": {},
     "execution_count": 4
    }
   ],
   "source": [
    "dot(doc1, doc2) # 두벡터의 내적\n",
    "norm(doc1)"
   ]
  },
  {
   "cell_type": "markdown",
   "metadata": {},
   "source": [
    "# 코사인 유사도 구하기"
   ]
  },
  {
   "cell_type": "code",
   "execution_count": 5,
   "metadata": {
    "tags": []
   },
   "outputs": [
    {
     "output_type": "execute_result",
     "data": {
      "text/plain": "0"
     },
     "metadata": {},
     "execution_count": 5
    }
   ],
   "source": [
    "import pandas as pd \n",
    "data = pd.read_csv(\"C:/Python37_Project/bundle_archive/movies_metadata.csv\")\n",
    "# data.head() \n",
    "# data.info()\n",
    "data=data.head(20000)\n",
    "data['overview'].isnull().sum()\n",
    "data['overview']=data['overview'].fillna('')\n",
    "data['overview'].isnull().sum()"
   ]
  },
  {
   "cell_type": "code",
   "execution_count": 6,
   "metadata": {},
   "outputs": [],
   "source": [
    "from sklearn.feature_extraction.text import  TfidfVectorizer"
   ]
  },
  {
   "cell_type": "code",
   "execution_count": 7,
   "metadata": {},
   "outputs": [],
   "source": [
    "Tfidf=TfidfVectorizer(stop_words='english')\n",
    "TfidfMatrix = Tfidf.fit_transform(data['overview'])"
   ]
  },
  {
   "cell_type": "code",
   "execution_count": 8,
   "metadata": {},
   "outputs": [
    {
     "output_type": "execute_result",
     "data": {
      "text/plain": "(20000, 47487)"
     },
     "metadata": {},
     "execution_count": 8
    }
   ],
   "source": [
    "TfidfMatrix.shape"
   ]
  },
  {
   "cell_type": "code",
   "execution_count": 9,
   "metadata": {},
   "outputs": [],
   "source": [
    "from sklearn.metrics.pairwise import linear_kernel"
   ]
  },
  {
   "cell_type": "markdown",
   "metadata": {},
   "source": [
    "# 코사인 유사도 구하기"
   ]
  },
  {
   "cell_type": "code",
   "execution_count": 10,
   "metadata": {},
   "outputs": [],
   "source": [
    "cos_sim = linear_kernel(TfidfMatrix, TfidfMatrix)"
   ]
  },
  {
   "cell_type": "code",
   "execution_count": 11,
   "metadata": {},
   "outputs": [
    {
     "output_type": "execute_result",
     "data": {
      "text/plain": "(20000, 20000)"
     },
     "metadata": {},
     "execution_count": 11
    }
   ],
   "source": [
    "cos_sim.shape"
   ]
  },
  {
   "cell_type": "markdown",
   "metadata": {},
   "source": [
    "toy stroy 영화제목을 입력 \n",
    "영화제목에 해당하는 코사인 유사도 확인"
   ]
  },
  {
   "cell_type": "code",
   "execution_count": 12,
   "metadata": {},
   "outputs": [
    {
     "output_type": "execute_result",
     "data": {
      "text/plain": "Index(['adult', 'belongs_to_collection', 'budget', 'genres', 'homepage', 'id',\n       'imdb_id', 'original_language', 'original_title', 'overview',\n       'popularity', 'poster_path', 'production_companies',\n       'production_countries', 'release_date', 'revenue', 'runtime',\n       'spoken_languages', 'status', 'tagline', 'title', 'video',\n       'vote_average', 'vote_count'],\n      dtype='object')"
     },
     "metadata": {},
     "execution_count": 12
    }
   ],
   "source": [
    "data.columns"
   ]
  },
  {
   "cell_type": "code",
   "execution_count": 13,
   "metadata": {},
   "outputs": [],
   "source": [
    "# 중복확인하기\n",
    "data['title'].duplicated().sum()\n",
    "\n",
    "indices = pd.Series(data.index, index = data['title']).drop_duplicates() # 인덱스를 가지고 시리즈 만들기! -> 인덱스가 데이터가 됨."
   ]
  },
  {
   "cell_type": "code",
   "execution_count": 14,
   "metadata": {},
   "outputs": [
    {
     "output_type": "execute_result",
     "data": {
      "text/plain": "Batman     585\nBatman    8603\ndtype: int64"
     },
     "metadata": {},
     "execution_count": 14
    }
   ],
   "source": [
    "indices.head()\n",
    "indices['Batman']"
   ]
  },
  {
   "cell_type": "code",
   "execution_count": 15,
   "metadata": {},
   "outputs": [],
   "source": [
    "def getRecommendation(title, cosine_sim = cos_sim ):\n",
    "    # 타이틀에 저장된 영화 제목으로 코사인 유사도가 높은 10편의 영화를 추출\n",
    "    idx = indices[title]\n",
    "    simScores = list(enumerate(cosine_sim[idx]))\n",
    "    # simScores의 유사도 값을 기준으로 내림차순 정렬\n",
    "    simScores = sorted(simScores, key= lambda x:x[1], reverse=True)\n",
    "    simScores = simScores[1:21]\n",
    "    movieidx = [i[0] for i in simScores]\n",
    "    return data['title'].iloc[movieidx]"
   ]
  },
  {
   "cell_type": "code",
   "execution_count": 16,
   "metadata": {
    "tags": []
   },
   "outputs": [
    {
     "output_type": "execute_result",
     "data": {
      "text/plain": "15348                                    Toy Story 3\n2997                                     Toy Story 2\n10301                         The 40 Year Old Virgin\n8327                                       The Champ\n1071                           Rebel Without a Cause\n11399                         For Your Consideration\n1932                                       Condorman\n3057                                 Man on the Moon\n485                                           Malice\n11606                                   Factory Girl\n17189                                      Group Sex\n7254                                  Africa Screams\n5797                                   Class of 1984\n13947                            The Gang's All Here\n1032                                   The Sunchaser\n3252                                 Bound for Glory\n2157                               Indecent Proposal\n7615     The First $20 Million Is Always the Hardest\n6944                                Rivers and Tides\n19976                                   Dragon Fight\nName: title, dtype: object"
     },
     "metadata": {},
     "execution_count": 16
    }
   ],
   "source": [
    "getRecommendation('Toy Story')"
   ]
  },
  {
   "cell_type": "markdown",
   "metadata": {},
   "source": [
    "# CNN 기반으로 분류"
   ]
  },
  {
   "cell_type": "markdown",
   "metadata": {},
   "source": [
    "# 영화 리뷰 분류(이진 분류)"
   ]
  },
  {
   "cell_type": "code",
   "execution_count": 17,
   "metadata": {},
   "outputs": [],
   "source": [
    "from keras.datasets import imdb"
   ]
  },
  {
   "cell_type": "code",
   "execution_count": 18,
   "metadata": {
    "tags": []
   },
   "outputs": [],
   "source": [
    "(traindata, trainlabel), (testdata, testlabel) = imdb.load_data(num_words=10000)\n",
    "#자주 사용되는 단어 10000개만 추려서 사용\n"
   ]
  },
  {
   "cell_type": "code",
   "execution_count": 19,
   "metadata": {},
   "outputs": [
    {
     "output_type": "execute_result",
     "data": {
      "text/plain": "(25000,)"
     },
     "metadata": {},
     "execution_count": 19
    }
   ],
   "source": [
    "trainlabel.shape # 0 : 부정, 1: 긍정\n"
   ]
  },
  {
   "cell_type": "code",
   "execution_count": 20,
   "metadata": {
    "tags": []
   },
   "outputs": [
    {
     "output_type": "execute_result",
     "data": {
      "text/plain": "9999"
     },
     "metadata": {},
     "execution_count": 20
    }
   ],
   "source": [
    "maxseq = [max(seq) for seq in traindata]\n",
    "max(maxseq) # 가장 큰 값을 출력했움!\n"
   ]
  },
  {
   "cell_type": "code",
   "execution_count": 21,
   "metadata": {
    "tags": []
   },
   "outputs": [
    {
     "output_type": "execute_result",
     "data": {
      "text/plain": "88584"
     },
     "metadata": {},
     "execution_count": 21
    }
   ],
   "source": [
    "word_index = imdb.get_word_index() # 자료구조는 딕셔너리\n",
    "len(word_index)\n"
   ]
  },
  {
   "cell_type": "code",
   "execution_count": 22,
   "metadata": {},
   "outputs": [],
   "source": [
    "reverse_word_index = dict([(value, key) for (key, value) in word_index.items()])"
   ]
  },
  {
   "cell_type": "code",
   "execution_count": 23,
   "metadata": {
    "tags": []
   },
   "outputs": [
    {
     "output_type": "stream",
     "name": "stdout",
     "text": "?\n"
    }
   ],
   "source": [
    "print(reverse_word_index.get(1000000, \"?\"))\n",
    "# 만약 인덱스가 1000000이 존재하지 않으면 ?으로 대체하라 \n",
    "# 0,1,2는 '패딩' ' 문서시작' '사전에 없음을 인덱스로 약속되어 사용됨 따라서 위 3개를 제외 위 3개는 물음표문자로 대체\n",
    "\n",
    "decodedReviews = \" \".join(reverse_word_index.get(i-3, '?')for i in traindata[0])"
   ]
  },
  {
   "cell_type": "code",
   "execution_count": 24,
   "metadata": {},
   "outputs": [
    {
     "output_type": "execute_result",
     "data": {
      "text/plain": "\"? this film was just brilliant casting location scenery story direction everyone's really suited the part they played and you could just imagine being there robert ? is an amazing actor and now the same being director ? father came from the same scottish island as myself so i loved the fact there was a real connection with this film the witty remarks throughout the film were great it was just brilliant so much that i bought the film as soon as it was released for ? and would recommend it to everyone to watch and the fly fishing was amazing really cried at the end it was so sad and you know what they say if you cry at a film it must have been good and this definitely was also ? to the two little boy's that played the ? of norman and paul they were just brilliant children are often left out of the ? list i think because the stars that play them all grown up are such a big profile for the whole film but these children are amazing and should be praised for what they have done don't you think the whole story was so lovely because it was true and was someone's life after all that was shared with us all\""
     },
     "metadata": {},
     "execution_count": 24
    }
   ],
   "source": [
    "decodedReviews"
   ]
  },
  {
   "cell_type": "markdown",
   "metadata": {},
   "source": [
    "\"\"\" \n",
    "패딩 : 문장의 길이가 다름 -> 문장의 길이를 동일하게 해줌 \n",
    "신경망 모델을 만들기 위해서는 먼저 패딩을 수행하여 모든 문장모든 문장의 길이를 동일하게 해줘야 함.  \n",
    "\"\"\"\n"
   ]
  },
  {
   "cell_type": "code",
   "execution_count": 25,
   "metadata": {},
   "outputs": [],
   "source": [
    "sentences = [['barber', 'person'], ['barber', 'good', 'person'], ['barber', 'huge', 'person'], ['knew', 'secret'], ['secret', 'kept', 'huge', 'secret'], ['huge', 'secret'], ['barber', 'kept', 'word'], ['barber', 'kept', 'word'], ['barber', 'kept', 'secret'], ['keeping', 'keeping', 'huge', 'secret', 'driving', 'barber', 'crazy'], ['barber', 'went', 'huge', 'mountain']]"
   ]
  },
  {
   "cell_type": "code",
   "execution_count": 26,
   "metadata": {},
   "outputs": [],
   "source": [
    "from tensorflow.keras.preprocessing.text import Tokenizer"
   ]
  },
  {
   "cell_type": "code",
   "execution_count": 27,
   "metadata": {},
   "outputs": [],
   "source": [
    "tok = Tokenizer()\n",
    "tok.fit_on_texts(sentences) # 빈도수를 기준으로 단어 집합 생성\n"
   ]
  },
  {
   "cell_type": "code",
   "execution_count": 28,
   "metadata": {},
   "outputs": [
    {
     "output_type": "execute_result",
     "data": {
      "text/plain": "OrderedDict([('barber', 8),\n             ('person', 3),\n             ('good', 1),\n             ('huge', 5),\n             ('knew', 1),\n             ('secret', 6),\n             ('kept', 4),\n             ('word', 2),\n             ('keeping', 2),\n             ('driving', 1),\n             ('crazy', 1),\n             ('went', 1),\n             ('mountain', 1)])"
     },
     "metadata": {},
     "execution_count": 28
    }
   ],
   "source": [
    "tok.word_counts # 단어들의 빈도 수를 알려줌 "
   ]
  },
  {
   "cell_type": "code",
   "execution_count": 29,
   "metadata": {},
   "outputs": [
    {
     "output_type": "execute_result",
     "data": {
      "text/plain": "{'barber': 1,\n 'secret': 2,\n 'huge': 3,\n 'kept': 4,\n 'person': 5,\n 'word': 6,\n 'keeping': 7,\n 'good': 8,\n 'knew': 9,\n 'driving': 10,\n 'crazy': 11,\n 'went': 12,\n 'mountain': 13}"
     },
     "metadata": {},
     "execution_count": 29
    }
   ],
   "source": [
    "tok.word_index # 이것을 기초로 단어를 숫자로 만들 수 있음 \n",
    "\n"
   ]
  },
  {
   "cell_type": "code",
   "execution_count": 30,
   "metadata": {},
   "outputs": [],
   "source": [
    "encoded = tok.texts_to_sequences(sentences)\n",
    "encoded\n",
    "\n",
    "maxLen = max(len(item) for item in encoded)"
   ]
  },
  {
   "cell_type": "code",
   "execution_count": 31,
   "metadata": {},
   "outputs": [
    {
     "output_type": "execute_result",
     "data": {
      "text/plain": "array([[ 1,  5,  0,  0,  0,  0,  0],\n       [ 1,  8,  5,  0,  0,  0,  0],\n       [ 1,  3,  5,  0,  0,  0,  0],\n       [ 9,  2,  0,  0,  0,  0,  0],\n       [ 2,  4,  3,  2,  0,  0,  0],\n       [ 3,  2,  0,  0,  0,  0,  0],\n       [ 1,  4,  6,  0,  0,  0,  0],\n       [ 1,  4,  6,  0,  0,  0,  0],\n       [ 1,  4,  2,  0,  0,  0,  0],\n       [ 7,  7,  3,  2, 10,  1, 11],\n       [ 1, 12,  3, 13,  0,  0,  0]])"
     },
     "metadata": {},
     "execution_count": 31
    }
   ],
   "source": [
    "for item in encoded:\n",
    "    while len(item) < maxLen:\n",
    "        item.append(0)\n",
    "\n",
    "padded_np = np.array(encoded)\n",
    "padded_np"
   ]
  },
  {
   "cell_type": "markdown",
   "metadata": {},
   "source": [
    "# 케라스에서 제로 패딩"
   ]
  },
  {
   "cell_type": "code",
   "execution_count": 32,
   "metadata": {},
   "outputs": [],
   "source": [
    "from tensorflow.keras.preprocessing.sequence import pad_sequences"
   ]
  },
  {
   "cell_type": "code",
   "execution_count": 33,
   "metadata": {},
   "outputs": [
    {
     "output_type": "execute_result",
     "data": {
      "text/plain": "array([[ 1,  5,  0,  0,  0,  0,  0],\n       [ 1,  8,  5,  0,  0,  0,  0],\n       [ 1,  3,  5,  0,  0,  0,  0],\n       [ 9,  2,  0,  0,  0,  0,  0],\n       [ 2,  4,  3,  2,  0,  0,  0],\n       [ 3,  2,  0,  0,  0,  0,  0],\n       [ 1,  4,  6,  0,  0,  0,  0],\n       [ 1,  4,  6,  0,  0,  0,  0],\n       [ 1,  4,  2,  0,  0,  0,  0],\n       [ 7,  7,  3,  2, 10,  1, 11],\n       [ 1, 12,  3, 13,  0,  0,  0]])"
     },
     "metadata": {},
     "execution_count": 33
    }
   ],
   "source": [
    "encoded = tok.texts_to_sequences(sentences)\n",
    "padded = pad_sequences(encoded, padding = 'post')\n",
    "padded"
   ]
  },
  {
   "cell_type": "code",
   "execution_count": 34,
   "metadata": {
    "tags": []
   },
   "outputs": [],
   "source": [
    "def vectorize_sequences(sequences, dimension = 10000):\n",
    "    result = np.zeros((len(sequences), dimension))\n",
    "    for i, seq in enumerate(sequences):\n",
    "        # print(i, \"번 리뷰:\",seq)\n",
    "        result[i, seq]= 1\n",
    "    return result\n",
    "xtrain = vectorize_sequences(traindata)\n",
    "xtest = vectorize_sequences(testdata)\n"
   ]
  },
  {
   "cell_type": "code",
   "execution_count": 35,
   "metadata": {},
   "outputs": [
    {
     "output_type": "execute_result",
     "data": {
      "text/plain": "array([1., 0., 0., ..., 0., 1., 0.], dtype=float32)"
     },
     "metadata": {},
     "execution_count": 35
    }
   ],
   "source": [
    "ytrain = np.array(trainlabel).astype('float32')\n",
    "ytrain\n",
    "ytest = np.array(trainlabel).astype('float32')\n",
    "ytest"
   ]
  },
  {
   "cell_type": "code",
   "execution_count": 36,
   "metadata": {},
   "outputs": [],
   "source": [
    "from keras import models, layers"
   ]
  },
  {
   "cell_type": "code",
   "execution_count": 37,
   "metadata": {},
   "outputs": [],
   "source": [
    "model=models.Sequential()\n",
    "# 입력 계층을 추가해보자\n",
    "model.add(layers.Dense(16, activation='relu',input_shape=(10000,))) \n",
    "# layer(층)을 추가. =모델에다가 계층 1개를 추가해라.\n",
    "# 히든 계층을 추가해보자\n",
    "model.add(layers.Dense(16, activation='relu')) \n",
    "# 출력 계층을 추가해보자\n",
    "model.add(layers.Dense(1, activation='sigmoid')) # 마지막은 sigmoid\n"
   ]
  },
  {
   "cell_type": "code",
   "execution_count": 38,
   "metadata": {},
   "outputs": [],
   "source": [
    "model.compile(optimizer='rmsprop', loss ='binary_crossentropy', metrics= [\"accuracy\"])"
   ]
  },
  {
   "cell_type": "code",
   "execution_count": 39,
   "metadata": {},
   "outputs": [],
   "source": [
    "xval = xtrain[:10000]\n",
    "pxtrain = xtrain[10000:]\n",
    "yval = ytrain[:10000]\n",
    "pytrain = ytrain[10000:]"
   ]
  },
  {
   "cell_type": "code",
   "execution_count": 42,
   "metadata": {
    "tags": []
   },
   "outputs": [
    {
     "output_type": "stream",
     "name": "stdout",
     "text": "Epoch 1/30\n59/59 [==============================] - 1s 18ms/step - loss: 1.8515e-04 - accuracy: 1.0000 - val_loss: 1.0507 - val_accuracy: 0.8628\nEpoch 2/30\n59/59 [==============================] - 1s 13ms/step - loss: 4.6124e-04 - accuracy: 0.9999 - val_loss: 1.0947 - val_accuracy: 0.8622\nEpoch 3/30\n59/59 [==============================] - 1s 14ms/step - loss: 8.1783e-05 - accuracy: 1.0000 - val_loss: 1.1536 - val_accuracy: 0.8587\nEpoch 4/30\n59/59 [==============================] - 1s 20ms/step - loss: 1.6625e-04 - accuracy: 0.9999 - val_loss: 1.2170 - val_accuracy: 0.8606\nEpoch 5/30\n59/59 [==============================] - 1s 12ms/step - loss: 3.5720e-05 - accuracy: 1.0000 - val_loss: 1.2915 - val_accuracy: 0.8604\nEpoch 6/30\n59/59 [==============================] - 1s 13ms/step - loss: 2.4163e-04 - accuracy: 0.9999 - val_loss: 1.4005 - val_accuracy: 0.8600\nEpoch 7/30\n59/59 [==============================] - 1s 13ms/step - loss: 1.0558e-05 - accuracy: 1.0000 - val_loss: 1.4286 - val_accuracy: 0.8618\nEpoch 8/30\n59/59 [==============================] - 1s 19ms/step - loss: 7.3218e-06 - accuracy: 1.0000 - val_loss: 1.5634 - val_accuracy: 0.8490\nEpoch 9/30\n59/59 [==============================] - 1s 19ms/step - loss: 2.8307e-05 - accuracy: 1.0000 - val_loss: 1.5774 - val_accuracy: 0.8629\nEpoch 10/30\n59/59 [==============================] - 1s 20ms/step - loss: 2.3582e-06 - accuracy: 1.0000 - val_loss: 1.5829 - val_accuracy: 0.8628\nEpoch 11/30\n59/59 [==============================] - 1s 22ms/step - loss: 1.6836e-06 - accuracy: 1.0000 - val_loss: 1.6371 - val_accuracy: 0.8619\nEpoch 12/30\n59/59 [==============================] - 1s 19ms/step - loss: 3.0507e-04 - accuracy: 0.9999 - val_loss: 1.7021 - val_accuracy: 0.8619\nEpoch 13/30\n59/59 [==============================] - 1s 12ms/step - loss: 2.5991e-06 - accuracy: 1.0000 - val_loss: 1.7100 - val_accuracy: 0.8616\nEpoch 14/30\n59/59 [==============================] - 1s 12ms/step - loss: 7.6402e-07 - accuracy: 1.0000 - val_loss: 1.7323 - val_accuracy: 0.8619\nEpoch 15/30\n59/59 [==============================] - 1s 12ms/step - loss: 4.8283e-07 - accuracy: 1.0000 - val_loss: 1.8048 - val_accuracy: 0.8613\nEpoch 16/30\n59/59 [==============================] - 1s 14ms/step - loss: 2.0872e-07 - accuracy: 1.0000 - val_loss: 1.9121 - val_accuracy: 0.8620\nEpoch 17/30\n59/59 [==============================] - 1s 15ms/step - loss: 9.7804e-08 - accuracy: 1.0000 - val_loss: 1.9886 - val_accuracy: 0.8627\nEpoch 18/30\n59/59 [==============================] - 1s 12ms/step - loss: 5.6277e-08 - accuracy: 1.0000 - val_loss: 2.0447 - val_accuracy: 0.8632\nEpoch 19/30\n59/59 [==============================] - 1s 14ms/step - loss: 3.6697e-08 - accuracy: 1.0000 - val_loss: 2.0790 - val_accuracy: 0.8624\nEpoch 20/30\n59/59 [==============================] - 1s 18ms/step - loss: 2.5029e-08 - accuracy: 1.0000 - val_loss: 2.1187 - val_accuracy: 0.8621\nEpoch 21/30\n59/59 [==============================] - 1s 24ms/step - loss: 1.8934e-08 - accuracy: 1.0000 - val_loss: 2.1431 - val_accuracy: 0.8621\nEpoch 22/30\n59/59 [==============================] - 1s 16ms/step - loss: 1.4649e-08 - accuracy: 1.0000 - val_loss: 2.1707 - val_accuracy: 0.8622\nEpoch 23/30\n59/59 [==============================] - 1s 13ms/step - loss: 1.1947e-08 - accuracy: 1.0000 - val_loss: 2.1896 - val_accuracy: 0.8620\nEpoch 24/30\n59/59 [==============================] - 1s 13ms/step - loss: 9.9388e-09 - accuracy: 1.0000 - val_loss: 2.2072 - val_accuracy: 0.8622\nEpoch 25/30\n59/59 [==============================] - 1s 14ms/step - loss: 8.4668e-09 - accuracy: 1.0000 - val_loss: 2.2239 - val_accuracy: 0.8622\nEpoch 26/30\n59/59 [==============================] - 1s 14ms/step - loss: 7.3236e-09 - accuracy: 1.0000 - val_loss: 2.2396 - val_accuracy: 0.8625\nEpoch 27/30\n59/59 [==============================] - 1s 15ms/step - loss: 6.4846e-09 - accuracy: 1.0000 - val_loss: 2.2512 - val_accuracy: 0.8618\nEpoch 28/30\n59/59 [==============================] - 1s 15ms/step - loss: 5.8157e-09 - accuracy: 1.0000 - val_loss: 2.2642 - val_accuracy: 0.8616\nEpoch 29/30\n59/59 [==============================] - 1s 12ms/step - loss: 5.2698e-09 - accuracy: 1.0000 - val_loss: 2.2737 - val_accuracy: 0.8618\nEpoch 30/30\n59/59 [==============================] - 1s 14ms/step - loss: 4.8165e-09 - accuracy: 1.0000 - val_loss: 2.2848 - val_accuracy: 0.8616\n"
    },
    {
     "output_type": "execute_result",
     "data": {
      "text/plain": "<tensorflow.python.keras.callbacks.History at 0x24b91c9ff48>"
     },
     "metadata": {},
     "execution_count": 42
    }
   ],
   "source": [
    "history = model.fit(pxtrain, pytrain, \n",
    "                    epochs=30, batch_size=256, validation_data=(xval, yval))\n",
    "history"
   ]
  },
  {
   "cell_type": "code",
   "execution_count": 44,
   "metadata": {},
   "outputs": [
    {
     "output_type": "execute_result",
     "data": {
      "text/plain": "[1.0,\n 0.9998666644096375,\n 1.0,\n 0.9999333620071411,\n 1.0,\n 0.9999333620071411,\n 1.0,\n 1.0,\n 1.0,\n 1.0,\n 1.0,\n 0.9999333620071411,\n 1.0,\n 1.0,\n 1.0,\n 1.0,\n 1.0,\n 1.0,\n 1.0,\n 1.0,\n 1.0,\n 1.0,\n 1.0,\n 1.0,\n 1.0,\n 1.0,\n 1.0,\n 1.0,\n 1.0,\n 1.0]"
     },
     "metadata": {},
     "execution_count": 44
    }
   ],
   "source": [
    "histDict = history.history\n",
    "histDict.keys()\n",
    "history.history['accuracy']"
   ]
  },
  {
   "cell_type": "code",
   "execution_count": 48,
   "metadata": {},
   "outputs": [
    {
     "output_type": "execute_result",
     "data": {
      "text/plain": "<matplotlib.legend.Legend at 0x24b92028948>"
     },
     "metadata": {},
     "execution_count": 48
    },
    {
     "output_type": "display_data",
     "data": {
      "text/plain": "<Figure size 432x288 with 1 Axes>",
      "image/svg+xml": "<?xml version=\"1.0\" encoding=\"utf-8\" standalone=\"no\"?>\r\n<!DOCTYPE svg PUBLIC \"-//W3C//DTD SVG 1.1//EN\"\r\n  \"http://www.w3.org/Graphics/SVG/1.1/DTD/svg11.dtd\">\r\n<!-- Created with matplotlib (https://matplotlib.org/) -->\r\n<svg height=\"248.518125pt\" version=\"1.1\" viewBox=\"0 0 372.103125 248.518125\" width=\"372.103125pt\" xmlns=\"http://www.w3.org/2000/svg\" xmlns:xlink=\"http://www.w3.org/1999/xlink\">\r\n <defs>\r\n  <style type=\"text/css\">\r\n*{stroke-linecap:butt;stroke-linejoin:round;}\r\n  </style>\r\n </defs>\r\n <g id=\"figure_1\">\r\n  <g id=\"patch_1\">\r\n   <path d=\"M 0 248.518125 \r\nL 372.103125 248.518125 \r\nL 372.103125 0 \r\nL 0 0 \r\nz\r\n\" style=\"fill:none;\"/>\r\n  </g>\r\n  <g id=\"axes_1\">\r\n   <g id=\"patch_2\">\r\n    <path d=\"M 30.103125 224.64 \r\nL 364.903125 224.64 \r\nL 364.903125 7.2 \r\nL 30.103125 7.2 \r\nz\r\n\" style=\"fill:#ffffff;\"/>\r\n   </g>\r\n   <g id=\"matplotlib.axis_1\">\r\n    <g id=\"xtick_1\">\r\n     <g id=\"line2d_1\">\r\n      <defs>\r\n       <path d=\"M 0 0 \r\nL 0 3.5 \r\n\" id=\"m2d3db95e2f\" style=\"stroke:#000000;stroke-width:0.8;\"/>\r\n      </defs>\r\n      <g>\r\n       <use style=\"stroke:#000000;stroke-width:0.8;\" x=\"34.826009\" xlink:href=\"#m2d3db95e2f\" y=\"224.64\"/>\r\n      </g>\r\n     </g>\r\n     <g id=\"text_1\">\r\n      <!-- 0 -->\r\n      <defs>\r\n       <path d=\"M 31.78125 66.40625 \r\nQ 24.171875 66.40625 20.328125 58.90625 \r\nQ 16.5 51.421875 16.5 36.375 \r\nQ 16.5 21.390625 20.328125 13.890625 \r\nQ 24.171875 6.390625 31.78125 6.390625 \r\nQ 39.453125 6.390625 43.28125 13.890625 \r\nQ 47.125 21.390625 47.125 36.375 \r\nQ 47.125 51.421875 43.28125 58.90625 \r\nQ 39.453125 66.40625 31.78125 66.40625 \r\nz\r\nM 31.78125 74.21875 \r\nQ 44.046875 74.21875 50.515625 64.515625 \r\nQ 56.984375 54.828125 56.984375 36.375 \r\nQ 56.984375 17.96875 50.515625 8.265625 \r\nQ 44.046875 -1.421875 31.78125 -1.421875 \r\nQ 19.53125 -1.421875 13.0625 8.265625 \r\nQ 6.59375 17.96875 6.59375 36.375 \r\nQ 6.59375 54.828125 13.0625 64.515625 \r\nQ 19.53125 74.21875 31.78125 74.21875 \r\nz\r\n\" id=\"DejaVuSans-48\"/>\r\n      </defs>\r\n      <g transform=\"translate(31.644759 239.238437)scale(0.1 -0.1)\">\r\n       <use xlink:href=\"#DejaVuSans-48\"/>\r\n      </g>\r\n     </g>\r\n    </g>\r\n    <g id=\"xtick_2\">\r\n     <g id=\"line2d_2\">\r\n      <g>\r\n       <use style=\"stroke:#000000;stroke-width:0.8;\" x=\"87.302498\" xlink:href=\"#m2d3db95e2f\" y=\"224.64\"/>\r\n      </g>\r\n     </g>\r\n     <g id=\"text_2\">\r\n      <!-- 5 -->\r\n      <defs>\r\n       <path d=\"M 10.796875 72.90625 \r\nL 49.515625 72.90625 \r\nL 49.515625 64.59375 \r\nL 19.828125 64.59375 \r\nL 19.828125 46.734375 \r\nQ 21.96875 47.46875 24.109375 47.828125 \r\nQ 26.265625 48.1875 28.421875 48.1875 \r\nQ 40.625 48.1875 47.75 41.5 \r\nQ 54.890625 34.8125 54.890625 23.390625 \r\nQ 54.890625 11.625 47.5625 5.09375 \r\nQ 40.234375 -1.421875 26.90625 -1.421875 \r\nQ 22.3125 -1.421875 17.546875 -0.640625 \r\nQ 12.796875 0.140625 7.71875 1.703125 \r\nL 7.71875 11.625 \r\nQ 12.109375 9.234375 16.796875 8.0625 \r\nQ 21.484375 6.890625 26.703125 6.890625 \r\nQ 35.15625 6.890625 40.078125 11.328125 \r\nQ 45.015625 15.765625 45.015625 23.390625 \r\nQ 45.015625 31 40.078125 35.4375 \r\nQ 35.15625 39.890625 26.703125 39.890625 \r\nQ 22.75 39.890625 18.8125 39.015625 \r\nQ 14.890625 38.140625 10.796875 36.28125 \r\nz\r\n\" id=\"DejaVuSans-53\"/>\r\n      </defs>\r\n      <g transform=\"translate(84.121248 239.238437)scale(0.1 -0.1)\">\r\n       <use xlink:href=\"#DejaVuSans-53\"/>\r\n      </g>\r\n     </g>\r\n    </g>\r\n    <g id=\"xtick_3\">\r\n     <g id=\"line2d_3\">\r\n      <g>\r\n       <use style=\"stroke:#000000;stroke-width:0.8;\" x=\"139.778987\" xlink:href=\"#m2d3db95e2f\" y=\"224.64\"/>\r\n      </g>\r\n     </g>\r\n     <g id=\"text_3\">\r\n      <!-- 10 -->\r\n      <defs>\r\n       <path d=\"M 12.40625 8.296875 \r\nL 28.515625 8.296875 \r\nL 28.515625 63.921875 \r\nL 10.984375 60.40625 \r\nL 10.984375 69.390625 \r\nL 28.421875 72.90625 \r\nL 38.28125 72.90625 \r\nL 38.28125 8.296875 \r\nL 54.390625 8.296875 \r\nL 54.390625 0 \r\nL 12.40625 0 \r\nz\r\n\" id=\"DejaVuSans-49\"/>\r\n      </defs>\r\n      <g transform=\"translate(133.416487 239.238437)scale(0.1 -0.1)\">\r\n       <use xlink:href=\"#DejaVuSans-49\"/>\r\n       <use x=\"63.623047\" xlink:href=\"#DejaVuSans-48\"/>\r\n      </g>\r\n     </g>\r\n    </g>\r\n    <g id=\"xtick_4\">\r\n     <g id=\"line2d_4\">\r\n      <g>\r\n       <use style=\"stroke:#000000;stroke-width:0.8;\" x=\"192.255476\" xlink:href=\"#m2d3db95e2f\" y=\"224.64\"/>\r\n      </g>\r\n     </g>\r\n     <g id=\"text_4\">\r\n      <!-- 15 -->\r\n      <g transform=\"translate(185.892976 239.238437)scale(0.1 -0.1)\">\r\n       <use xlink:href=\"#DejaVuSans-49\"/>\r\n       <use x=\"63.623047\" xlink:href=\"#DejaVuSans-53\"/>\r\n      </g>\r\n     </g>\r\n    </g>\r\n    <g id=\"xtick_5\">\r\n     <g id=\"line2d_5\">\r\n      <g>\r\n       <use style=\"stroke:#000000;stroke-width:0.8;\" x=\"244.731965\" xlink:href=\"#m2d3db95e2f\" y=\"224.64\"/>\r\n      </g>\r\n     </g>\r\n     <g id=\"text_5\">\r\n      <!-- 20 -->\r\n      <defs>\r\n       <path d=\"M 19.1875 8.296875 \r\nL 53.609375 8.296875 \r\nL 53.609375 0 \r\nL 7.328125 0 \r\nL 7.328125 8.296875 \r\nQ 12.9375 14.109375 22.625 23.890625 \r\nQ 32.328125 33.6875 34.8125 36.53125 \r\nQ 39.546875 41.84375 41.421875 45.53125 \r\nQ 43.3125 49.21875 43.3125 52.78125 \r\nQ 43.3125 58.59375 39.234375 62.25 \r\nQ 35.15625 65.921875 28.609375 65.921875 \r\nQ 23.96875 65.921875 18.8125 64.3125 \r\nQ 13.671875 62.703125 7.8125 59.421875 \r\nL 7.8125 69.390625 \r\nQ 13.765625 71.78125 18.9375 73 \r\nQ 24.125 74.21875 28.421875 74.21875 \r\nQ 39.75 74.21875 46.484375 68.546875 \r\nQ 53.21875 62.890625 53.21875 53.421875 \r\nQ 53.21875 48.921875 51.53125 44.890625 \r\nQ 49.859375 40.875 45.40625 35.40625 \r\nQ 44.1875 33.984375 37.640625 27.21875 \r\nQ 31.109375 20.453125 19.1875 8.296875 \r\nz\r\n\" id=\"DejaVuSans-50\"/>\r\n      </defs>\r\n      <g transform=\"translate(238.369465 239.238437)scale(0.1 -0.1)\">\r\n       <use xlink:href=\"#DejaVuSans-50\"/>\r\n       <use x=\"63.623047\" xlink:href=\"#DejaVuSans-48\"/>\r\n      </g>\r\n     </g>\r\n    </g>\r\n    <g id=\"xtick_6\">\r\n     <g id=\"line2d_6\">\r\n      <g>\r\n       <use style=\"stroke:#000000;stroke-width:0.8;\" x=\"297.208454\" xlink:href=\"#m2d3db95e2f\" y=\"224.64\"/>\r\n      </g>\r\n     </g>\r\n     <g id=\"text_6\">\r\n      <!-- 25 -->\r\n      <g transform=\"translate(290.845954 239.238437)scale(0.1 -0.1)\">\r\n       <use xlink:href=\"#DejaVuSans-50\"/>\r\n       <use x=\"63.623047\" xlink:href=\"#DejaVuSans-53\"/>\r\n      </g>\r\n     </g>\r\n    </g>\r\n    <g id=\"xtick_7\">\r\n     <g id=\"line2d_7\">\r\n      <g>\r\n       <use style=\"stroke:#000000;stroke-width:0.8;\" x=\"349.684943\" xlink:href=\"#m2d3db95e2f\" y=\"224.64\"/>\r\n      </g>\r\n     </g>\r\n     <g id=\"text_7\">\r\n      <!-- 30 -->\r\n      <defs>\r\n       <path d=\"M 40.578125 39.3125 \r\nQ 47.65625 37.796875 51.625 33 \r\nQ 55.609375 28.21875 55.609375 21.1875 \r\nQ 55.609375 10.40625 48.1875 4.484375 \r\nQ 40.765625 -1.421875 27.09375 -1.421875 \r\nQ 22.515625 -1.421875 17.65625 -0.515625 \r\nQ 12.796875 0.390625 7.625 2.203125 \r\nL 7.625 11.71875 \r\nQ 11.71875 9.328125 16.59375 8.109375 \r\nQ 21.484375 6.890625 26.8125 6.890625 \r\nQ 36.078125 6.890625 40.9375 10.546875 \r\nQ 45.796875 14.203125 45.796875 21.1875 \r\nQ 45.796875 27.640625 41.28125 31.265625 \r\nQ 36.765625 34.90625 28.71875 34.90625 \r\nL 20.21875 34.90625 \r\nL 20.21875 43.015625 \r\nL 29.109375 43.015625 \r\nQ 36.375 43.015625 40.234375 45.921875 \r\nQ 44.09375 48.828125 44.09375 54.296875 \r\nQ 44.09375 59.90625 40.109375 62.90625 \r\nQ 36.140625 65.921875 28.71875 65.921875 \r\nQ 24.65625 65.921875 20.015625 65.03125 \r\nQ 15.375 64.15625 9.8125 62.3125 \r\nL 9.8125 71.09375 \r\nQ 15.4375 72.65625 20.34375 73.4375 \r\nQ 25.25 74.21875 29.59375 74.21875 \r\nQ 40.828125 74.21875 47.359375 69.109375 \r\nQ 53.90625 64.015625 53.90625 55.328125 \r\nQ 53.90625 49.265625 50.4375 45.09375 \r\nQ 46.96875 40.921875 40.578125 39.3125 \r\nz\r\n\" id=\"DejaVuSans-51\"/>\r\n      </defs>\r\n      <g transform=\"translate(343.322443 239.238437)scale(0.1 -0.1)\">\r\n       <use xlink:href=\"#DejaVuSans-51\"/>\r\n       <use x=\"63.623047\" xlink:href=\"#DejaVuSans-48\"/>\r\n      </g>\r\n     </g>\r\n    </g>\r\n   </g>\r\n   <g id=\"matplotlib.axis_2\">\r\n    <g id=\"ytick_1\">\r\n     <g id=\"line2d_8\">\r\n      <defs>\r\n       <path d=\"M 0 0 \r\nL -3.5 0 \r\n\" id=\"m043187d6eb\" style=\"stroke:#000000;stroke-width:0.8;\"/>\r\n      </defs>\r\n      <g>\r\n       <use style=\"stroke:#000000;stroke-width:0.8;\" x=\"30.103125\" xlink:href=\"#m043187d6eb\" y=\"214.756364\"/>\r\n      </g>\r\n     </g>\r\n     <g id=\"text_8\">\r\n      <!-- 0.0 -->\r\n      <defs>\r\n       <path d=\"M 10.6875 12.40625 \r\nL 21 12.40625 \r\nL 21 0 \r\nL 10.6875 0 \r\nz\r\n\" id=\"DejaVuSans-46\"/>\r\n      </defs>\r\n      <g transform=\"translate(7.2 218.555583)scale(0.1 -0.1)\">\r\n       <use xlink:href=\"#DejaVuSans-48\"/>\r\n       <use x=\"63.623047\" xlink:href=\"#DejaVuSans-46\"/>\r\n       <use x=\"95.410156\" xlink:href=\"#DejaVuSans-48\"/>\r\n      </g>\r\n     </g>\r\n    </g>\r\n    <g id=\"ytick_2\">\r\n     <g id=\"line2d_9\">\r\n      <g>\r\n       <use style=\"stroke:#000000;stroke-width:0.8;\" x=\"30.103125\" xlink:href=\"#m043187d6eb\" y=\"171.49873\"/>\r\n      </g>\r\n     </g>\r\n     <g id=\"text_9\">\r\n      <!-- 0.5 -->\r\n      <g transform=\"translate(7.2 175.297949)scale(0.1 -0.1)\">\r\n       <use xlink:href=\"#DejaVuSans-48\"/>\r\n       <use x=\"63.623047\" xlink:href=\"#DejaVuSans-46\"/>\r\n       <use x=\"95.410156\" xlink:href=\"#DejaVuSans-53\"/>\r\n      </g>\r\n     </g>\r\n    </g>\r\n    <g id=\"ytick_3\">\r\n     <g id=\"line2d_10\">\r\n      <g>\r\n       <use style=\"stroke:#000000;stroke-width:0.8;\" x=\"30.103125\" xlink:href=\"#m043187d6eb\" y=\"128.241097\"/>\r\n      </g>\r\n     </g>\r\n     <g id=\"text_10\">\r\n      <!-- 1.0 -->\r\n      <g transform=\"translate(7.2 132.040315)scale(0.1 -0.1)\">\r\n       <use xlink:href=\"#DejaVuSans-49\"/>\r\n       <use x=\"63.623047\" xlink:href=\"#DejaVuSans-46\"/>\r\n       <use x=\"95.410156\" xlink:href=\"#DejaVuSans-48\"/>\r\n      </g>\r\n     </g>\r\n    </g>\r\n    <g id=\"ytick_4\">\r\n     <g id=\"line2d_11\">\r\n      <g>\r\n       <use style=\"stroke:#000000;stroke-width:0.8;\" x=\"30.103125\" xlink:href=\"#m043187d6eb\" y=\"84.983463\"/>\r\n      </g>\r\n     </g>\r\n     <g id=\"text_11\">\r\n      <!-- 1.5 -->\r\n      <g transform=\"translate(7.2 88.782682)scale(0.1 -0.1)\">\r\n       <use xlink:href=\"#DejaVuSans-49\"/>\r\n       <use x=\"63.623047\" xlink:href=\"#DejaVuSans-46\"/>\r\n       <use x=\"95.410156\" xlink:href=\"#DejaVuSans-53\"/>\r\n      </g>\r\n     </g>\r\n    </g>\r\n    <g id=\"ytick_5\">\r\n     <g id=\"line2d_12\">\r\n      <g>\r\n       <use style=\"stroke:#000000;stroke-width:0.8;\" x=\"30.103125\" xlink:href=\"#m043187d6eb\" y=\"41.725829\"/>\r\n      </g>\r\n     </g>\r\n     <g id=\"text_12\">\r\n      <!-- 2.0 -->\r\n      <g transform=\"translate(7.2 45.525048)scale(0.1 -0.1)\">\r\n       <use xlink:href=\"#DejaVuSans-50\"/>\r\n       <use x=\"63.623047\" xlink:href=\"#DejaVuSans-46\"/>\r\n       <use x=\"95.410156\" xlink:href=\"#DejaVuSans-48\"/>\r\n      </g>\r\n     </g>\r\n    </g>\r\n   </g>\r\n   <g id=\"line2d_13\">\r\n    <defs>\r\n     <path d=\"M 0 3 \r\nC 0.795609 3 1.55874 2.683901 2.12132 2.12132 \r\nC 2.683901 1.55874 3 0.795609 3 0 \r\nC 3 -0.795609 2.683901 -1.55874 2.12132 -2.12132 \r\nC 1.55874 -2.683901 0.795609 -3 0 -3 \r\nC -0.795609 -3 -1.55874 -2.683901 -2.12132 -2.12132 \r\nC -2.683901 -1.55874 -3 -0.795609 -3 0 \r\nC -3 0.795609 -2.683901 1.55874 -2.12132 2.12132 \r\nC -1.55874 2.683901 -0.795609 3 0 3 \r\nz\r\n\" id=\"m9558b5081c\" style=\"stroke:#0000ff;\"/>\r\n    </defs>\r\n    <g clip-path=\"url(#p9c062a2614)\">\r\n     <use style=\"fill:#0000ff;stroke:#0000ff;\" x=\"45.321307\" xlink:href=\"#m9558b5081c\" y=\"214.740346\"/>\r\n     <use style=\"fill:#0000ff;stroke:#0000ff;\" x=\"55.816605\" xlink:href=\"#m9558b5081c\" y=\"214.716459\"/>\r\n     <use style=\"fill:#0000ff;stroke:#0000ff;\" x=\"66.311902\" xlink:href=\"#m9558b5081c\" y=\"214.749289\"/>\r\n     <use style=\"fill:#0000ff;stroke:#0000ff;\" x=\"76.8072\" xlink:href=\"#m9558b5081c\" y=\"214.741981\"/>\r\n     <use style=\"fill:#0000ff;stroke:#0000ff;\" x=\"87.302498\" xlink:href=\"#m9558b5081c\" y=\"214.753274\"/>\r\n     <use style=\"fill:#0000ff;stroke:#0000ff;\" x=\"97.797796\" xlink:href=\"#m9558b5081c\" y=\"214.735459\"/>\r\n     <use style=\"fill:#0000ff;stroke:#0000ff;\" x=\"108.293094\" xlink:href=\"#m9558b5081c\" y=\"214.755451\"/>\r\n     <use style=\"fill:#0000ff;stroke:#0000ff;\" x=\"118.788391\" xlink:href=\"#m9558b5081c\" y=\"214.755731\"/>\r\n     <use style=\"fill:#0000ff;stroke:#0000ff;\" x=\"129.283689\" xlink:href=\"#m9558b5081c\" y=\"214.753915\"/>\r\n     <use style=\"fill:#0000ff;stroke:#0000ff;\" x=\"139.778987\" xlink:href=\"#m9558b5081c\" y=\"214.75616\"/>\r\n     <use style=\"fill:#0000ff;stroke:#0000ff;\" x=\"150.274285\" xlink:href=\"#m9558b5081c\" y=\"214.756218\"/>\r\n     <use style=\"fill:#0000ff;stroke:#0000ff;\" x=\"160.769583\" xlink:href=\"#m9558b5081c\" y=\"214.729971\"/>\r\n     <use style=\"fill:#0000ff;stroke:#0000ff;\" x=\"171.26488\" xlink:href=\"#m9558b5081c\" y=\"214.756139\"/>\r\n     <use style=\"fill:#0000ff;stroke:#0000ff;\" x=\"181.760178\" xlink:href=\"#m9558b5081c\" y=\"214.756298\"/>\r\n     <use style=\"fill:#0000ff;stroke:#0000ff;\" x=\"192.255476\" xlink:href=\"#m9558b5081c\" y=\"214.756322\"/>\r\n     <use style=\"fill:#0000ff;stroke:#0000ff;\" x=\"202.750774\" xlink:href=\"#m9558b5081c\" y=\"214.756346\"/>\r\n     <use style=\"fill:#0000ff;stroke:#0000ff;\" x=\"213.246072\" xlink:href=\"#m9558b5081c\" y=\"214.756356\"/>\r\n     <use style=\"fill:#0000ff;stroke:#0000ff;\" x=\"223.74137\" xlink:href=\"#m9558b5081c\" y=\"214.756359\"/>\r\n     <use style=\"fill:#0000ff;stroke:#0000ff;\" x=\"234.236667\" xlink:href=\"#m9558b5081c\" y=\"214.756361\"/>\r\n     <use style=\"fill:#0000ff;stroke:#0000ff;\" x=\"244.731965\" xlink:href=\"#m9558b5081c\" y=\"214.756362\"/>\r\n     <use style=\"fill:#0000ff;stroke:#0000ff;\" x=\"255.227263\" xlink:href=\"#m9558b5081c\" y=\"214.756362\"/>\r\n     <use style=\"fill:#0000ff;stroke:#0000ff;\" x=\"265.722561\" xlink:href=\"#m9558b5081c\" y=\"214.756363\"/>\r\n     <use style=\"fill:#0000ff;stroke:#0000ff;\" x=\"276.217859\" xlink:href=\"#m9558b5081c\" y=\"214.756363\"/>\r\n     <use style=\"fill:#0000ff;stroke:#0000ff;\" x=\"286.713156\" xlink:href=\"#m9558b5081c\" y=\"214.756363\"/>\r\n     <use style=\"fill:#0000ff;stroke:#0000ff;\" x=\"297.208454\" xlink:href=\"#m9558b5081c\" y=\"214.756363\"/>\r\n     <use style=\"fill:#0000ff;stroke:#0000ff;\" x=\"307.703752\" xlink:href=\"#m9558b5081c\" y=\"214.756363\"/>\r\n     <use style=\"fill:#0000ff;stroke:#0000ff;\" x=\"318.19905\" xlink:href=\"#m9558b5081c\" y=\"214.756363\"/>\r\n     <use style=\"fill:#0000ff;stroke:#0000ff;\" x=\"328.694348\" xlink:href=\"#m9558b5081c\" y=\"214.756364\"/>\r\n     <use style=\"fill:#0000ff;stroke:#0000ff;\" x=\"339.189645\" xlink:href=\"#m9558b5081c\" y=\"214.756364\"/>\r\n     <use style=\"fill:#0000ff;stroke:#0000ff;\" x=\"349.684943\" xlink:href=\"#m9558b5081c\" y=\"214.756364\"/>\r\n    </g>\r\n   </g>\r\n   <g id=\"line2d_14\">\r\n    <path clip-path=\"url(#p9c062a2614)\" d=\"M 45.321307 123.857221 \r\nL 55.816605 120.044173 \r\nL 66.311902 114.951013 \r\nL 76.8072 109.466118 \r\nL 87.302498 103.02261 \r\nL 97.797796 93.593078 \r\nL 108.293094 91.157945 \r\nL 118.788391 79.496371 \r\nL 129.283689 78.291268 \r\nL 139.778987 77.810075 \r\nL 150.274285 73.124346 \r\nL 160.769583 67.494454 \r\nL 171.26488 66.81581 \r\nL 181.760178 64.889686 \r\nL 192.255476 58.614267 \r\nL 202.750774 49.327627 \r\nL 213.246072 42.712741 \r\nL 223.74137 37.859265 \r\nL 234.236667 34.890051 \r\nL 244.731965 31.453721 \r\nL 255.227263 29.34838 \r\nL 265.722561 26.957667 \r\nL 276.217859 25.31971 \r\nL 286.713156 23.803987 \r\nL 297.208454 22.351176 \r\nL 307.703752 20.998674 \r\nL 318.19905 19.99163 \r\nL 328.694348 18.864765 \r\nL 339.189645 18.048003 \r\nL 349.684943 17.083636 \r\n\" style=\"fill:none;stroke:#ff0000;stroke-linecap:square;stroke-width:1.5;\"/>\r\n   </g>\r\n   <g id=\"patch_3\">\r\n    <path d=\"M 30.103125 224.64 \r\nL 30.103125 7.2 \r\n\" style=\"fill:none;stroke:#000000;stroke-linecap:square;stroke-linejoin:miter;stroke-width:0.8;\"/>\r\n   </g>\r\n   <g id=\"patch_4\">\r\n    <path d=\"M 364.903125 224.64 \r\nL 364.903125 7.2 \r\n\" style=\"fill:none;stroke:#000000;stroke-linecap:square;stroke-linejoin:miter;stroke-width:0.8;\"/>\r\n   </g>\r\n   <g id=\"patch_5\">\r\n    <path d=\"M 30.103125 224.64 \r\nL 364.903125 224.64 \r\n\" style=\"fill:none;stroke:#000000;stroke-linecap:square;stroke-linejoin:miter;stroke-width:0.8;\"/>\r\n   </g>\r\n   <g id=\"patch_6\">\r\n    <path d=\"M 30.103125 7.2 \r\nL 364.903125 7.2 \r\n\" style=\"fill:none;stroke:#000000;stroke-linecap:square;stroke-linejoin:miter;stroke-width:0.8;\"/>\r\n   </g>\r\n   <g id=\"legend_1\">\r\n    <g id=\"patch_7\">\r\n     <path d=\"M 37.103125 44.55625 \r\nL 116.303125 44.55625 \r\nQ 118.303125 44.55625 118.303125 42.55625 \r\nL 118.303125 14.2 \r\nQ 118.303125 12.2 116.303125 12.2 \r\nL 37.103125 12.2 \r\nQ 35.103125 12.2 35.103125 14.2 \r\nL 35.103125 42.55625 \r\nQ 35.103125 44.55625 37.103125 44.55625 \r\nz\r\n\" style=\"fill:#ffffff;opacity:0.8;stroke:#cccccc;stroke-linejoin:miter;\"/>\r\n    </g>\r\n    <g id=\"line2d_15\"/>\r\n    <g id=\"line2d_16\">\r\n     <g>\r\n      <use style=\"fill:#0000ff;stroke:#0000ff;\" x=\"49.103125\" xlink:href=\"#m9558b5081c\" y=\"20.298437\"/>\r\n     </g>\r\n    </g>\r\n    <g id=\"text_13\">\r\n     <!-- train cost -->\r\n     <defs>\r\n      <path d=\"M 18.3125 70.21875 \r\nL 18.3125 54.6875 \r\nL 36.8125 54.6875 \r\nL 36.8125 47.703125 \r\nL 18.3125 47.703125 \r\nL 18.3125 18.015625 \r\nQ 18.3125 11.328125 20.140625 9.421875 \r\nQ 21.96875 7.515625 27.59375 7.515625 \r\nL 36.8125 7.515625 \r\nL 36.8125 0 \r\nL 27.59375 0 \r\nQ 17.1875 0 13.234375 3.875 \r\nQ 9.28125 7.765625 9.28125 18.015625 \r\nL 9.28125 47.703125 \r\nL 2.6875 47.703125 \r\nL 2.6875 54.6875 \r\nL 9.28125 54.6875 \r\nL 9.28125 70.21875 \r\nz\r\n\" id=\"DejaVuSans-116\"/>\r\n      <path d=\"M 41.109375 46.296875 \r\nQ 39.59375 47.171875 37.8125 47.578125 \r\nQ 36.03125 48 33.890625 48 \r\nQ 26.265625 48 22.1875 43.046875 \r\nQ 18.109375 38.09375 18.109375 28.8125 \r\nL 18.109375 0 \r\nL 9.078125 0 \r\nL 9.078125 54.6875 \r\nL 18.109375 54.6875 \r\nL 18.109375 46.1875 \r\nQ 20.953125 51.171875 25.484375 53.578125 \r\nQ 30.03125 56 36.53125 56 \r\nQ 37.453125 56 38.578125 55.875 \r\nQ 39.703125 55.765625 41.0625 55.515625 \r\nz\r\n\" id=\"DejaVuSans-114\"/>\r\n      <path d=\"M 34.28125 27.484375 \r\nQ 23.390625 27.484375 19.1875 25 \r\nQ 14.984375 22.515625 14.984375 16.5 \r\nQ 14.984375 11.71875 18.140625 8.90625 \r\nQ 21.296875 6.109375 26.703125 6.109375 \r\nQ 34.1875 6.109375 38.703125 11.40625 \r\nQ 43.21875 16.703125 43.21875 25.484375 \r\nL 43.21875 27.484375 \r\nz\r\nM 52.203125 31.203125 \r\nL 52.203125 0 \r\nL 43.21875 0 \r\nL 43.21875 8.296875 \r\nQ 40.140625 3.328125 35.546875 0.953125 \r\nQ 30.953125 -1.421875 24.3125 -1.421875 \r\nQ 15.921875 -1.421875 10.953125 3.296875 \r\nQ 6 8.015625 6 15.921875 \r\nQ 6 25.140625 12.171875 29.828125 \r\nQ 18.359375 34.515625 30.609375 34.515625 \r\nL 43.21875 34.515625 \r\nL 43.21875 35.40625 \r\nQ 43.21875 41.609375 39.140625 45 \r\nQ 35.0625 48.390625 27.6875 48.390625 \r\nQ 23 48.390625 18.546875 47.265625 \r\nQ 14.109375 46.140625 10.015625 43.890625 \r\nL 10.015625 52.203125 \r\nQ 14.9375 54.109375 19.578125 55.046875 \r\nQ 24.21875 56 28.609375 56 \r\nQ 40.484375 56 46.34375 49.84375 \r\nQ 52.203125 43.703125 52.203125 31.203125 \r\nz\r\n\" id=\"DejaVuSans-97\"/>\r\n      <path d=\"M 9.421875 54.6875 \r\nL 18.40625 54.6875 \r\nL 18.40625 0 \r\nL 9.421875 0 \r\nz\r\nM 9.421875 75.984375 \r\nL 18.40625 75.984375 \r\nL 18.40625 64.59375 \r\nL 9.421875 64.59375 \r\nz\r\n\" id=\"DejaVuSans-105\"/>\r\n      <path d=\"M 54.890625 33.015625 \r\nL 54.890625 0 \r\nL 45.90625 0 \r\nL 45.90625 32.71875 \r\nQ 45.90625 40.484375 42.875 44.328125 \r\nQ 39.84375 48.1875 33.796875 48.1875 \r\nQ 26.515625 48.1875 22.3125 43.546875 \r\nQ 18.109375 38.921875 18.109375 30.90625 \r\nL 18.109375 0 \r\nL 9.078125 0 \r\nL 9.078125 54.6875 \r\nL 18.109375 54.6875 \r\nL 18.109375 46.1875 \r\nQ 21.34375 51.125 25.703125 53.5625 \r\nQ 30.078125 56 35.796875 56 \r\nQ 45.21875 56 50.046875 50.171875 \r\nQ 54.890625 44.34375 54.890625 33.015625 \r\nz\r\n\" id=\"DejaVuSans-110\"/>\r\n      <path id=\"DejaVuSans-32\"/>\r\n      <path d=\"M 48.78125 52.59375 \r\nL 48.78125 44.1875 \r\nQ 44.96875 46.296875 41.140625 47.34375 \r\nQ 37.3125 48.390625 33.40625 48.390625 \r\nQ 24.65625 48.390625 19.8125 42.84375 \r\nQ 14.984375 37.3125 14.984375 27.296875 \r\nQ 14.984375 17.28125 19.8125 11.734375 \r\nQ 24.65625 6.203125 33.40625 6.203125 \r\nQ 37.3125 6.203125 41.140625 7.25 \r\nQ 44.96875 8.296875 48.78125 10.40625 \r\nL 48.78125 2.09375 \r\nQ 45.015625 0.34375 40.984375 -0.53125 \r\nQ 36.96875 -1.421875 32.421875 -1.421875 \r\nQ 20.0625 -1.421875 12.78125 6.34375 \r\nQ 5.515625 14.109375 5.515625 27.296875 \r\nQ 5.515625 40.671875 12.859375 48.328125 \r\nQ 20.21875 56 33.015625 56 \r\nQ 37.15625 56 41.109375 55.140625 \r\nQ 45.0625 54.296875 48.78125 52.59375 \r\nz\r\n\" id=\"DejaVuSans-99\"/>\r\n      <path d=\"M 30.609375 48.390625 \r\nQ 23.390625 48.390625 19.1875 42.75 \r\nQ 14.984375 37.109375 14.984375 27.296875 \r\nQ 14.984375 17.484375 19.15625 11.84375 \r\nQ 23.34375 6.203125 30.609375 6.203125 \r\nQ 37.796875 6.203125 41.984375 11.859375 \r\nQ 46.1875 17.53125 46.1875 27.296875 \r\nQ 46.1875 37.015625 41.984375 42.703125 \r\nQ 37.796875 48.390625 30.609375 48.390625 \r\nz\r\nM 30.609375 56 \r\nQ 42.328125 56 49.015625 48.375 \r\nQ 55.71875 40.765625 55.71875 27.296875 \r\nQ 55.71875 13.875 49.015625 6.21875 \r\nQ 42.328125 -1.421875 30.609375 -1.421875 \r\nQ 18.84375 -1.421875 12.171875 6.21875 \r\nQ 5.515625 13.875 5.515625 27.296875 \r\nQ 5.515625 40.765625 12.171875 48.375 \r\nQ 18.84375 56 30.609375 56 \r\nz\r\n\" id=\"DejaVuSans-111\"/>\r\n      <path d=\"M 44.28125 53.078125 \r\nL 44.28125 44.578125 \r\nQ 40.484375 46.53125 36.375 47.5 \r\nQ 32.28125 48.484375 27.875 48.484375 \r\nQ 21.1875 48.484375 17.84375 46.4375 \r\nQ 14.5 44.390625 14.5 40.28125 \r\nQ 14.5 37.15625 16.890625 35.375 \r\nQ 19.28125 33.59375 26.515625 31.984375 \r\nL 29.59375 31.296875 \r\nQ 39.15625 29.25 43.1875 25.515625 \r\nQ 47.21875 21.78125 47.21875 15.09375 \r\nQ 47.21875 7.46875 41.1875 3.015625 \r\nQ 35.15625 -1.421875 24.609375 -1.421875 \r\nQ 20.21875 -1.421875 15.453125 -0.5625 \r\nQ 10.6875 0.296875 5.421875 2 \r\nL 5.421875 11.28125 \r\nQ 10.40625 8.6875 15.234375 7.390625 \r\nQ 20.0625 6.109375 24.8125 6.109375 \r\nQ 31.15625 6.109375 34.5625 8.28125 \r\nQ 37.984375 10.453125 37.984375 14.40625 \r\nQ 37.984375 18.0625 35.515625 20.015625 \r\nQ 33.0625 21.96875 24.703125 23.78125 \r\nL 21.578125 24.515625 \r\nQ 13.234375 26.265625 9.515625 29.90625 \r\nQ 5.8125 33.546875 5.8125 39.890625 \r\nQ 5.8125 47.609375 11.28125 51.796875 \r\nQ 16.75 56 26.8125 56 \r\nQ 31.78125 56 36.171875 55.265625 \r\nQ 40.578125 54.546875 44.28125 53.078125 \r\nz\r\n\" id=\"DejaVuSans-115\"/>\r\n     </defs>\r\n     <g transform=\"translate(67.103125 23.798437)scale(0.1 -0.1)\">\r\n      <use xlink:href=\"#DejaVuSans-116\"/>\r\n      <use x=\"39.208984\" xlink:href=\"#DejaVuSans-114\"/>\r\n      <use x=\"80.322266\" xlink:href=\"#DejaVuSans-97\"/>\r\n      <use x=\"141.601562\" xlink:href=\"#DejaVuSans-105\"/>\r\n      <use x=\"169.384766\" xlink:href=\"#DejaVuSans-110\"/>\r\n      <use x=\"232.763672\" xlink:href=\"#DejaVuSans-32\"/>\r\n      <use x=\"264.550781\" xlink:href=\"#DejaVuSans-99\"/>\r\n      <use x=\"319.53125\" xlink:href=\"#DejaVuSans-111\"/>\r\n      <use x=\"380.712891\" xlink:href=\"#DejaVuSans-115\"/>\r\n      <use x=\"432.8125\" xlink:href=\"#DejaVuSans-116\"/>\r\n     </g>\r\n    </g>\r\n    <g id=\"line2d_17\">\r\n     <path d=\"M 39.103125 34.976562 \r\nL 59.103125 34.976562 \r\n\" style=\"fill:none;stroke:#ff0000;stroke-linecap:square;stroke-width:1.5;\"/>\r\n    </g>\r\n    <g id=\"line2d_18\"/>\r\n    <g id=\"text_14\">\r\n     <!-- val cost -->\r\n     <defs>\r\n      <path d=\"M 2.984375 54.6875 \r\nL 12.5 54.6875 \r\nL 29.59375 8.796875 \r\nL 46.6875 54.6875 \r\nL 56.203125 54.6875 \r\nL 35.6875 0 \r\nL 23.484375 0 \r\nz\r\n\" id=\"DejaVuSans-118\"/>\r\n      <path d=\"M 9.421875 75.984375 \r\nL 18.40625 75.984375 \r\nL 18.40625 0 \r\nL 9.421875 0 \r\nz\r\n\" id=\"DejaVuSans-108\"/>\r\n     </defs>\r\n     <g transform=\"translate(67.103125 38.476562)scale(0.1 -0.1)\">\r\n      <use xlink:href=\"#DejaVuSans-118\"/>\r\n      <use x=\"59.179688\" xlink:href=\"#DejaVuSans-97\"/>\r\n      <use x=\"120.458984\" xlink:href=\"#DejaVuSans-108\"/>\r\n      <use x=\"148.242188\" xlink:href=\"#DejaVuSans-32\"/>\r\n      <use x=\"180.029297\" xlink:href=\"#DejaVuSans-99\"/>\r\n      <use x=\"235.009766\" xlink:href=\"#DejaVuSans-111\"/>\r\n      <use x=\"296.191406\" xlink:href=\"#DejaVuSans-115\"/>\r\n      <use x=\"348.291016\" xlink:href=\"#DejaVuSans-116\"/>\r\n     </g>\r\n    </g>\r\n   </g>\r\n  </g>\r\n </g>\r\n <defs>\r\n  <clipPath id=\"p9c062a2614\">\r\n   <rect height=\"217.44\" width=\"334.8\" x=\"30.103125\" y=\"7.2\"/>\r\n  </clipPath>\r\n </defs>\r\n</svg>\r\n",
      "image/png": "[encoded data removed]"
     },
     "metadata": {
      "needs_background": "light"
     }
    }
   ],
   "source": [
    "import matplotlib.pyplot as plt\n",
    "plt.plot(range(1,len(history.history['accuracy'])+1),history.history['loss'],'bo', label = 'train cost')\n",
    "plt.plot(range(1,len(history.history['accuracy'])+1),history.history['val_loss'],'r', label = 'val cost')\n",
    "\n",
    "plt.legend()"
   ]
  },
  {
   "cell_type": "code",
   "execution_count": 49,
   "metadata": {
    "tags": []
   },
   "outputs": [
    {
     "output_type": "stream",
     "name": "stdout",
     "text": "Epoch 1/4\n49/49 [==============================] - ETA: 0s - loss: 0.6285 - accuracy: 0.9449/49 [==============================] - 1s 11ms/step - loss: 0.6285 - accuracy: 0.9413\nEpoch 2/4\n49/49 [==============================] - 1s 12ms/step - loss: 0.2653 - accuracy: 0.9506\nEpoch 3/4\n49/49 [==============================] - 1s 15ms/step - loss: 0.1793 - accuracy: 0.9610\nEpoch 4/4\n49/49 [==============================] - 1s 14ms/step - loss: 0.1278 - accuracy: 0.9693\n"
    },
    {
     "output_type": "execute_result",
     "data": {
      "text/plain": "<tensorflow.python.keras.callbacks.History at 0x24b96dc0888>"
     },
     "metadata": {},
     "execution_count": 49
    }
   ],
   "source": [
    "history = model.fit(xtrain, ytrain, \n",
    "                    epochs=4, batch_size=512)\n",
    "history"
   ]
  },
  {
   "cell_type": "code",
   "execution_count": 50,
   "metadata": {
    "tags": []
   },
   "outputs": [
    {
     "output_type": "stream",
     "name": "stdout",
     "text": "782/782 [==============================] - 1s 2ms/step - loss: 6.2525 - accuracy: 0.5006\n"
    },
    {
     "output_type": "execute_result",
     "data": {
      "text/plain": "[6.252484321594238, 0.5005599856376648]"
     },
     "metadata": {},
     "execution_count": 50
    }
   ],
   "source": [
    "res = model.evaluate(xtest, ytest)\n",
    "res"
   ]
  },
  {
   "cell_type": "code",
   "execution_count": 51,
   "metadata": {},
   "outputs": [
    {
     "output_type": "execute_result",
     "data": {
      "text/plain": "array([[4.5189261e-04],\n       [1.0000000e+00],\n       [9.9992764e-01],\n       ...,\n       [1.6583830e-02],\n       [3.9990336e-02],\n       [9.4925034e-01]], dtype=float32)"
     },
     "metadata": {},
     "execution_count": 51
    }
   ],
   "source": [
    "model.predict(xtest)"
   ]
  }
 ]
}