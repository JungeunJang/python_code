{
 "cells": [
  {
   "cell_type": "code",
   "execution_count": 5,
   "metadata": {},
   "outputs": [
    {
     "output_type": "stream",
     "name": "stdout",
     "text": "(3,) (2, 2) (1, 6)\nint32 int32 int32 complex128\n1 2 2 1\n"
    }
   ],
   "source": [
    "import numpy as np\n",
    "a = np.array([1,2,3])\n",
    "a1 = np.array([[1,2],[3,4]])\n",
    "a1\n",
    "type(a1)\n",
    "a2 = np.array([1,2,3,4,5,6], ndmin = 2)\n",
    "a2\n",
    "\n",
    "a3 = np.array([1,2,3], dtype = complex)\n",
    "a3\n",
    "print (a.shape, a1.shape, a2.shape)\n",
    "print(a.dtype, a1.dtype, a2.dtype, a3.dtype)\n",
    "print(a.ndim, a1.ndim, a2.ndim, a3.ndim)\n"
   ]
  },
  {
   "cell_type": "code",
   "execution_count": 8,
   "metadata": {},
   "outputs": [
    {
     "output_type": "execute_result",
     "data": {
      "text/plain": "dtype('int32')"
     },
     "metadata": {},
     "execution_count": 8
    }
   ],
   "source": [
    "a4 = np.array([1,2,3,4,5,6,7])\n",
    "a4.size, a4.shape\n",
    "\n",
    "# numpy.array(object, dtype, copy, order, ndmin)\n",
    "\n",
    "dt = np.dtype(np.int32)\n",
    "dt\n",
    "\n",
    "a5 = np.array([1,2,3], dtype = \"float64\")\n",
    "print(a5.dtype)"
   ]
  },
  {
   "cell_type": "code",
   "execution_count": null,
   "metadata": {},
   "outputs": [],
   "source": []
  }
 ],
 "metadata": {
  "language_info": {
   "codemirror_mode": {
    "name": "ipython",
    "version": 3
   },
   "file_extension": ".py",
   "mimetype": "text/x-python",
   "name": "python",
   "nbconvert_exporter": "python",
   "pygments_lexer": "ipython3",
   "version": "3.7.7-final"
  },
  "orig_nbformat": 2,
  "kernelspec": {
   "name": "python37764bit4dda73a9a4c74a0399c4c617d3b49df0",
   "display_name": "Python 3.7.7 64-bit"
  }
 },
 "nbformat": 4,
 "nbformat_minor": 2
}