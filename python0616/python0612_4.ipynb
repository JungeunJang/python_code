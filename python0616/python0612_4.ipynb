{
 "cells": [
  {
   "cell_type": "code",
   "execution_count": 105,
   "metadata": {},
   "outputs": [],
   "source": [
    "from wordcloud import wordcloud, STOPWORDS\n",
    "import numpy as np\n",
    "from PIL import Image\n",
    "import platform\n",
    "import matplotlib.pyplot as plt\n",
    "\n",
    "path = \"c:/Wimdows/Fonts/malgun.ttf\"\n",
    "from matplotlib import font_manager, rc\n",
    "plt.rcParams['axes.unicode_minus'] = False\n",
    "if platform.system() == 'Darwin':\n",
    "    rc('font', family='AppleGothic')\n",
    "elif platform.system() == 'Windows':\n",
    "    path = \"c:/Windows/Fonts/malgun.ttf\"\n",
    "    font_name = font_manager.FontProperties(fname=path).get_name()\n",
    "    rc('font', family=font_name)\n",
    "else:\n",
    "    print('Unknown system... sorry~~~~')\n",
    "%matplotlib inline\n",
    "\n",
    "mask = np.array(Image.open('../data/09. heart.jpg'))\n",
    "\n",
    "text = open('../data/어린왕자.txt')\n",
    "\n",
    "stopword = set(STOPWORDS)\n",
    "stopwords.add('말했다')\n",
    "\n",
    "plt.figure(figsize=(12,12))\n",
    "plt.imshow(mask, camp = RdYlBu, interpolation='bilinear')\n",
    "plt.axis('off')\n",
    "plt.show()"
   ]
  }
 ],
 "metadata": {
  "language_info": {
   "codemirror_mode": {
    "name": "ipython",
    "version": 3
   },
   "file_extension": ".py",
   "mimetype": "text/x-python",
   "name": "python",
   "nbconvert_exporter": "python",
   "pygments_lexer": "ipython3",
   "version": "3.7.7-final"
  },
  "orig_nbformat": 2,
  "kernelspec": {
   "name": "python37764bit4dda73a9a4c74a0399c4c617d3b49df0",
   "display_name": "Python 3.7.7 64-bit"
  }
 },
 "nbformat": 4,
 "nbformat_minor": 2
}