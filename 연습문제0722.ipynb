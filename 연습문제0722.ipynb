{
 "metadata": {
  "language_info": {
   "codemirror_mode": {
    "name": "ipython",
    "version": 3
   },
   "file_extension": ".py",
   "mimetype": "text/x-python",
   "name": "python",
   "nbconvert_exporter": "python",
   "pygments_lexer": "ipython3",
   "version": 3
  },
  "orig_nbformat": 2,
  "kernelspec": {
   "name": "python_defaultSpec_1595413105221",
   "display_name": "Python 3.7.7 64-bit"
  }
 },
 "nbformat": 4,
 "nbformat_minor": 2,
 "cells": [
  {
   "cell_type": "code",
   "execution_count": 1,
   "metadata": {},
   "outputs": [],
   "source": [
    "import pandas as pd\n",
    "import numpy as np\n",
    "from numpy.linalg import norm\n",
    "from numpy import dot"
   ]
  },
  {
   "cell_type": "code",
   "execution_count": 2,
   "metadata": {},
   "outputs": [
    {
     "output_type": "execute_result",
     "data": {
      "text/plain": "0"
     },
     "metadata": {},
     "execution_count": 2
    }
   ],
   "source": [
    "import pandas as pd \n",
    "data = pd.read_csv(\"C:/Python37_Project/bundle_archive/movies_metadata.csv\")\n",
    "# data.head() \n",
    "# data.info()\n",
    "data=data.head(20000)\n",
    "data['overview'].isnull().sum()\n",
    "data['overview']=data['overview'].fillna('')\n",
    "data['overview'].isnull().sum()"
   ]
  },
  {
   "cell_type": "code",
   "execution_count": 27,
   "metadata": {},
   "outputs": [
    {
     "output_type": "execute_result",
     "data": {
      "text/plain": "Index(['adult', 'belongs_to_collection', 'budget', 'genres', 'homepage', 'id',\n       'imdb_id', 'original_language', 'original_title', 'overview',\n       'popularity', 'poster_path', 'production_companies',\n       'production_countries', 'release_date', 'revenue', 'runtime',\n       'spoken_languages', 'status', 'tagline', 'title', 'video',\n       'vote_average', 'vote_count'],\n      dtype='object')"
     },
     "metadata": {},
     "execution_count": 27
    }
   ],
   "source": [
    "data.columns"
   ]
  },
  {
   "cell_type": "code",
   "execution_count": 3,
   "metadata": {},
   "outputs": [],
   "source": [
    "data = data.drop_duplicates(['title'])"
   ]
  },
  {
   "cell_type": "code",
   "execution_count": 4,
   "metadata": {},
   "outputs": [
    {
     "output_type": "execute_result",
     "data": {
      "text/plain": "TfidfVectorizer(stop_words='english')"
     },
     "metadata": {},
     "execution_count": 4
    }
   ],
   "source": [
    "from sklearn.feature_extraction.text import TfidfVectorizer\n",
    "\n",
    "Tfidf = TfidfVectorizer(stop_words='english')\n",
    "Tfidf\n"
   ]
  },
  {
   "cell_type": "code",
   "execution_count": 5,
   "metadata": {},
   "outputs": [],
   "source": [
    "TfidfMatrix = Tfidf.fit_transform(data['overview'])\n",
    "# TfidfMatrix[0].index"
   ]
  },
  {
   "cell_type": "code",
   "execution_count": 6,
   "metadata": {},
   "outputs": [
    {
     "output_type": "execute_result",
     "data": {
      "text/plain": "array([[1.        , 0.01587494, 0.        , ..., 0.        , 0.        ,\n        0.        ],\n       [0.01587494, 1.        , 0.04904833, ..., 0.        , 0.        ,\n        0.        ],\n       [0.        , 0.04904833, 1.        , ..., 0.        , 0.        ,\n        0.        ],\n       ...,\n       [0.        , 0.        , 0.        , ..., 1.        , 0.        ,\n        0.08332097],\n       [0.        , 0.        , 0.        , ..., 0.        , 1.        ,\n        0.        ],\n       [0.        , 0.        , 0.        , ..., 0.08332097, 0.        ,\n        1.        ]])"
     },
     "metadata": {},
     "execution_count": 6
    }
   ],
   "source": [
    "from sklearn.metrics.pairwise import linear_kernel\n",
    "cos_sim = linear_kernel(TfidfMatrix, TfidfMatrix)\n",
    "cos_sim"
   ]
  },
  {
   "cell_type": "code",
   "execution_count": 7,
   "metadata": {
    "tags": []
   },
   "outputs": [
    {
     "output_type": "stream",
     "name": "stdout",
     "text": "title\nToy Story                      0\nJumanji                        1\nGrumpier Old Men               2\nWaiting to Exhale              3\nFather of the Bride Part II    4\ndtype: int64\n"
    }
   ],
   "source": [
    "indices = pd.Series(data.index, index=data['title']).drop_duplicates()\n",
    "print(indices.head())"
   ]
  },
  {
   "cell_type": "code",
   "execution_count": 8,
   "metadata": {},
   "outputs": [
    {
     "output_type": "execute_result",
     "data": {
      "text/plain": "title\nToy Story                                                                       0\nJumanji                                                                         1\nGrumpier Old Men                                                                2\nWaiting to Exhale                                                               3\nFather of the Bride Part II                                                     4\n                                                                            ...  \nRebellion                                                                   19995\nVersailles                                                                  19996\nTwo in the Wave                                                             19997\nLotte Reiniger: Homage to the Inventor of the Silhouette Film               19998\nRKO Production 601: The Making of 'Kong, the Eighth Wonder of the World'    19999\nLength: 19099, dtype: int64"
     },
     "metadata": {},
     "execution_count": 8
    }
   ],
   "source": [
    "indices"
   ]
  },
  {
   "cell_type": "code",
   "execution_count": 9,
   "metadata": {},
   "outputs": [
    {
     "output_type": "execute_result",
     "data": {
      "text/plain": "9207                    An Extremely Goofy Movie\n443                                     Fearless\n235                                A Goofy Movie\n4101                               Heartbreakers\n1617                                        Bent\n9116                            Wishful Thinking\n2282                                    Rushmore\n4545                                         Tap\n456                                      Go Fish\n8071                                  Collateral\n7970                       The City of No Limits\n16495                               Emma's Bliss\n3397                         The End of Violence\n1746                              Kissing a Fool\n7734                                 City of Joy\n11394                                A Good Year\n10105    The Adventures of Sharkboy and Lavagirl\n18136                              The River Why\n6948                                  CrissCross\n5781                                     Android\nName: title, dtype: object"
     },
     "metadata": {},
     "execution_count": 9
    }
   ],
   "source": [
    "def getRecommendation(title, cosine_sim = cos_sim):\n",
    "    idx = indices[title]\n",
    "    simScore = list(enumerate(cosine_sim[idx]))\n",
    "    simScore = sorted(simScore, key = lambda x : x[1], reverse=True)\n",
    "    simScore = simScore[1:21]\n",
    "    movieidx = [i[0] for i in simScore]\n",
    "    return data['title'].iloc[movieidx]\n",
    "\n",
    "getRecommendation(data['title'][2])"
   ]
  },
  {
   "cell_type": "code",
   "execution_count": 11,
   "metadata": {},
   "outputs": [],
   "source": [
    "c = data.vote_average.mean()\n",
    "m = data.vote_count.quantile(0.9)"
   ]
  },
  {
   "cell_type": "code",
   "execution_count": 12,
   "metadata": {},
   "outputs": [
    {
     "output_type": "execute_result",
     "data": {
      "text/plain": "344.0"
     },
     "metadata": {},
     "execution_count": 12
    }
   ],
   "source": [
    "m"
   ]
  },
  {
   "cell_type": "code",
   "execution_count": 13,
   "metadata": {},
   "outputs": [
    {
     "output_type": "execute_result",
     "data": {
      "text/plain": "       adult                              belongs_to_collection     budget  \\\n0      False  {'id': 10194, 'name': 'Toy Story Collection', ...   30000000   \n1      False                                                NaN   65000000   \n5      False                                                NaN   60000000   \n9      False  {'id': 645, 'name': 'James Bond Collection', '...   58000000   \n12     False  {'id': 117693, 'name': 'Balto Collection', 'po...          0   \n...      ...                                                ...        ...   \n19825  False                                                NaN  145000000   \n19862  False  {'id': 86092, 'name': 'Step Up Collection', 'p...   33000000   \n19901  False                                                NaN          0   \n19928  False                                                NaN          0   \n19971  False  {'id': 121938, 'name': 'The Hobbit Collection'...  250000000   \n\n                                                  genres  \\\n0      [{'id': 16, 'name': 'Animation'}, {'id': 35, '...   \n1      [{'id': 12, 'name': 'Adventure'}, {'id': 14, '...   \n5      [{'id': 28, 'name': 'Action'}, {'id': 80, 'nam...   \n9      [{'id': 12, 'name': 'Adventure'}, {'id': 28, '...   \n12     [{'id': 10751, 'name': 'Family'}, {'id': 16, '...   \n...                                                  ...   \n19825  [{'id': 14, 'name': 'Fantasy'}, {'id': 16, 'na...   \n19862  [{'id': 10402, 'name': 'Music'}, {'id': 18, 'n...   \n19901  [{'id': 16, 'name': 'Animation'}, {'id': 10751...   \n19928                      [{'id': 18, 'name': 'Drama'}]   \n19971  [{'id': 12, 'name': 'Adventure'}, {'id': 14, '...   \n\n                                                homepage      id    imdb_id  \\\n0                   http://toystory.disney.com/toy-story     862  tt0114709   \n1                                                    NaN    8844  tt0113497   \n5                                                    NaN     949  tt0113277   \n9           http://www.mgm.com/view/movie/757/Goldeneye/     710  tt0113189   \n12                                                   NaN   21032  tt0112453   \n...                                                  ...     ...        ...   \n19825                 http://www.riseoftheguardians.com/   81188  tt1446192   \n19862                                                NaN   85446  tt1800741   \n19901  http://www.disneyanimation.com/projects/shorts...  140420  tt2388725   \n19928                  http://www.hitchcockthemovie.com/  112336  tt0975645   \n19971                          http://www.thehobbit.com/   49051  tt0903624   \n\n      original_language                     original_title  \\\n0                    en                          Toy Story   \n1                    en                            Jumanji   \n5                    en                               Heat   \n9                    en                          GoldenEye   \n12                   en                              Balto   \n...                 ...                                ...   \n19825                en              Rise of the Guardians   \n19862                en                 Step Up Revolution   \n19901                en                           Paperman   \n19928                en                          Hitchcock   \n19971                en  The Hobbit: An Unexpected Journey   \n\n                                                overview  ... release_date  \\\n0      Led by Woody, Andy's toys live happily in his ...  ...   1995-10-30   \n1      When siblings Judy and Peter discover an encha...  ...   1995-12-15   \n5      Obsessive master thief, Neil McCauley leads a ...  ...   1995-12-15   \n9      James Bond must unmask the mysterious head of ...  ...   1995-11-16   \n12     An outcast half-wolf risks his life to prevent...  ...   1995-12-22   \n...                                                  ...  ...          ...   \n19825  When an evil spirit known as Pitch lays down t...  ...   2012-11-21   \n19862  Emily arrives in Miami with aspirations to bec...  ...   2012-07-26   \n19901  An urban office worker finds that paper airpla...  ...   2012-11-02   \n19928  Hitchcock follows the relationship between dir...  ...   2012-11-22   \n19971  Bilbo Baggins, a hobbit enjoying his quiet lif...  ...   2012-11-26   \n\n            revenue runtime  \\\n0      3.735540e+08    81.0   \n1      2.627972e+08   104.0   \n5      1.874368e+08   170.0   \n9      3.521940e+08   130.0   \n12     1.134832e+07    78.0   \n...             ...     ...   \n19825  3.069417e+08    97.0   \n19862  1.404707e+08    99.0   \n19901  0.000000e+00     7.0   \n19928  2.357054e+07    98.0   \n19971  1.021104e+09   169.0   \n\n                                        spoken_languages    status  \\\n0               [{'iso_639_1': 'en', 'name': 'English'}]  Released   \n1      [{'iso_639_1': 'en', 'name': 'English'}, {'iso...  Released   \n5      [{'iso_639_1': 'en', 'name': 'English'}, {'iso...  Released   \n9      [{'iso_639_1': 'en', 'name': 'English'}, {'iso...  Released   \n12              [{'iso_639_1': 'en', 'name': 'English'}]  Released   \n...                                                  ...       ...   \n19825  [{'iso_639_1': 'fr', 'name': 'Français'}, {'is...  Released   \n19862           [{'iso_639_1': 'en', 'name': 'English'}]  Released   \n19901           [{'iso_639_1': 'en', 'name': 'English'}]  Released   \n19928           [{'iso_639_1': 'en', 'name': 'English'}]  Released   \n19971           [{'iso_639_1': 'en', 'name': 'English'}]  Released   \n\n                                                 tagline  \\\n0                                                    NaN   \n1              Roll the dice and unleash the excitement!   \n5                               A Los Angeles Crime Saga   \n9                   No limits. No fears. No substitutes.   \n12                        Part Dog. Part Wolf. All Hero.   \n...                                                  ...   \n19825                                You better believe.   \n19862                     One Step Can Change Your World   \n19901                      Delicate, charming and sweet.   \n19928                                      Good evening.   \n19971  From the smallest beginnings come the greatest...   \n\n                                   title  video vote_average vote_count  \n0                              Toy Story  False          7.7     5415.0  \n1                                Jumanji  False          6.9     2413.0  \n5                                   Heat  False          7.7     1886.0  \n9                              GoldenEye  False          6.6     1194.0  \n12                                 Balto  False          7.1      423.0  \n...                                  ...    ...          ...        ...  \n19825              Rise of the Guardians  False          7.1     1981.0  \n19862                 Step Up Revolution  False          6.7      679.0  \n19901                           Paperman  False          8.0      734.0  \n19928                          Hitchcock  False          6.3      527.0  \n19971  The Hobbit: An Unexpected Journey  False          7.0     8427.0  \n\n[1911 rows x 24 columns]",
      "text/html": "<div>\n<style scoped>\n    .dataframe tbody tr th:only-of-type {\n        vertical-align: middle;\n    }\n\n    .dataframe tbody tr th {\n        vertical-align: top;\n    }\n\n    .dataframe thead th {\n        text-align: right;\n    }\n</style>\n<table border=\"1\" class=\"dataframe\">\n  <thead>\n    <tr style=\"text-align: right;\">\n      <th></th>\n      <th>adult</th>\n      <th>belongs_to_collection</th>\n      <th>budget</th>\n      <th>genres</th>\n      <th>homepage</th>\n      <th>id</th>\n      <th>imdb_id</th>\n      <th>original_language</th>\n      <th>original_title</th>\n      <th>overview</th>\n      <th>...</th>\n      <th>release_date</th>\n      <th>revenue</th>\n      <th>runtime</th>\n      <th>spoken_languages</th>\n      <th>status</th>\n      <th>tagline</th>\n      <th>title</th>\n      <th>video</th>\n      <th>vote_average</th>\n      <th>vote_count</th>\n    </tr>\n  </thead>\n  <tbody>\n    <tr>\n      <th>0</th>\n      <td>False</td>\n      <td>{'id': 10194, 'name': 'Toy Story Collection', ...</td>\n      <td>30000000</td>\n      <td>[{'id': 16, 'name': 'Animation'}, {'id': 35, '...</td>\n      <td>http://toystory.disney.com/toy-story</td>\n      <td>862</td>\n      <td>tt0114709</td>\n      <td>en</td>\n      <td>Toy Story</td>\n      <td>Led by Woody, Andy's toys live happily in his ...</td>\n      <td>...</td>\n      <td>1995-10-30</td>\n      <td>3.735540e+08</td>\n      <td>81.0</td>\n      <td>[{'iso_639_1': 'en', 'name': 'English'}]</td>\n      <td>Released</td>\n      <td>NaN</td>\n      <td>Toy Story</td>\n      <td>False</td>\n      <td>7.7</td>\n      <td>5415.0</td>\n    </tr>\n    <tr>\n      <th>1</th>\n      <td>False</td>\n      <td>NaN</td>\n      <td>65000000</td>\n      <td>[{'id': 12, 'name': 'Adventure'}, {'id': 14, '...</td>\n      <td>NaN</td>\n      <td>8844</td>\n      <td>tt0113497</td>\n      <td>en</td>\n      <td>Jumanji</td>\n      <td>When siblings Judy and Peter discover an encha...</td>\n      <td>...</td>\n      <td>1995-12-15</td>\n      <td>2.627972e+08</td>\n      <td>104.0</td>\n      <td>[{'iso_639_1': 'en', 'name': 'English'}, {'iso...</td>\n      <td>Released</td>\n      <td>Roll the dice and unleash the excitement!</td>\n      <td>Jumanji</td>\n      <td>False</td>\n      <td>6.9</td>\n      <td>2413.0</td>\n    </tr>\n    <tr>\n      <th>5</th>\n      <td>False</td>\n      <td>NaN</td>\n      <td>60000000</td>\n      <td>[{'id': 28, 'name': 'Action'}, {'id': 80, 'nam...</td>\n      <td>NaN</td>\n      <td>949</td>\n      <td>tt0113277</td>\n      <td>en</td>\n      <td>Heat</td>\n      <td>Obsessive master thief, Neil McCauley leads a ...</td>\n      <td>...</td>\n      <td>1995-12-15</td>\n      <td>1.874368e+08</td>\n      <td>170.0</td>\n      <td>[{'iso_639_1': 'en', 'name': 'English'}, {'iso...</td>\n      <td>Released</td>\n      <td>A Los Angeles Crime Saga</td>\n      <td>Heat</td>\n      <td>False</td>\n      <td>7.7</td>\n      <td>1886.0</td>\n    </tr>\n    <tr>\n      <th>9</th>\n      <td>False</td>\n      <td>{'id': 645, 'name': 'James Bond Collection', '...</td>\n      <td>58000000</td>\n      <td>[{'id': 12, 'name': 'Adventure'}, {'id': 28, '...</td>\n      <td>http://www.mgm.com/view/movie/757/Goldeneye/</td>\n      <td>710</td>\n      <td>tt0113189</td>\n      <td>en</td>\n      <td>GoldenEye</td>\n      <td>James Bond must unmask the mysterious head of ...</td>\n      <td>...</td>\n      <td>1995-11-16</td>\n      <td>3.521940e+08</td>\n      <td>130.0</td>\n      <td>[{'iso_639_1': 'en', 'name': 'English'}, {'iso...</td>\n      <td>Released</td>\n      <td>No limits. No fears. No substitutes.</td>\n      <td>GoldenEye</td>\n      <td>False</td>\n      <td>6.6</td>\n      <td>1194.0</td>\n    </tr>\n    <tr>\n      <th>12</th>\n      <td>False</td>\n      <td>{'id': 117693, 'name': 'Balto Collection', 'po...</td>\n      <td>0</td>\n      <td>[{'id': 10751, 'name': 'Family'}, {'id': 16, '...</td>\n      <td>NaN</td>\n      <td>21032</td>\n      <td>tt0112453</td>\n      <td>en</td>\n      <td>Balto</td>\n      <td>An outcast half-wolf risks his life to prevent...</td>\n      <td>...</td>\n      <td>1995-12-22</td>\n      <td>1.134832e+07</td>\n      <td>78.0</td>\n      <td>[{'iso_639_1': 'en', 'name': 'English'}]</td>\n      <td>Released</td>\n      <td>Part Dog. Part Wolf. All Hero.</td>\n      <td>Balto</td>\n      <td>False</td>\n      <td>7.1</td>\n      <td>423.0</td>\n    </tr>\n    <tr>\n      <th>...</th>\n      <td>...</td>\n      <td>...</td>\n      <td>...</td>\n      <td>...</td>\n      <td>...</td>\n      <td>...</td>\n      <td>...</td>\n      <td>...</td>\n      <td>...</td>\n      <td>...</td>\n      <td>...</td>\n      <td>...</td>\n      <td>...</td>\n      <td>...</td>\n      <td>...</td>\n      <td>...</td>\n      <td>...</td>\n      <td>...</td>\n      <td>...</td>\n      <td>...</td>\n      <td>...</td>\n    </tr>\n    <tr>\n      <th>19825</th>\n      <td>False</td>\n      <td>NaN</td>\n      <td>145000000</td>\n      <td>[{'id': 14, 'name': 'Fantasy'}, {'id': 16, 'na...</td>\n      <td>http://www.riseoftheguardians.com/</td>\n      <td>81188</td>\n      <td>tt1446192</td>\n      <td>en</td>\n      <td>Rise of the Guardians</td>\n      <td>When an evil spirit known as Pitch lays down t...</td>\n      <td>...</td>\n      <td>2012-11-21</td>\n      <td>3.069417e+08</td>\n      <td>97.0</td>\n      <td>[{'iso_639_1': 'fr', 'name': 'Français'}, {'is...</td>\n      <td>Released</td>\n      <td>You better believe.</td>\n      <td>Rise of the Guardians</td>\n      <td>False</td>\n      <td>7.1</td>\n      <td>1981.0</td>\n    </tr>\n    <tr>\n      <th>19862</th>\n      <td>False</td>\n      <td>{'id': 86092, 'name': 'Step Up Collection', 'p...</td>\n      <td>33000000</td>\n      <td>[{'id': 10402, 'name': 'Music'}, {'id': 18, 'n...</td>\n      <td>NaN</td>\n      <td>85446</td>\n      <td>tt1800741</td>\n      <td>en</td>\n      <td>Step Up Revolution</td>\n      <td>Emily arrives in Miami with aspirations to bec...</td>\n      <td>...</td>\n      <td>2012-07-26</td>\n      <td>1.404707e+08</td>\n      <td>99.0</td>\n      <td>[{'iso_639_1': 'en', 'name': 'English'}]</td>\n      <td>Released</td>\n      <td>One Step Can Change Your World</td>\n      <td>Step Up Revolution</td>\n      <td>False</td>\n      <td>6.7</td>\n      <td>679.0</td>\n    </tr>\n    <tr>\n      <th>19901</th>\n      <td>False</td>\n      <td>NaN</td>\n      <td>0</td>\n      <td>[{'id': 16, 'name': 'Animation'}, {'id': 10751...</td>\n      <td>http://www.disneyanimation.com/projects/shorts...</td>\n      <td>140420</td>\n      <td>tt2388725</td>\n      <td>en</td>\n      <td>Paperman</td>\n      <td>An urban office worker finds that paper airpla...</td>\n      <td>...</td>\n      <td>2012-11-02</td>\n      <td>0.000000e+00</td>\n      <td>7.0</td>\n      <td>[{'iso_639_1': 'en', 'name': 'English'}]</td>\n      <td>Released</td>\n      <td>Delicate, charming and sweet.</td>\n      <td>Paperman</td>\n      <td>False</td>\n      <td>8.0</td>\n      <td>734.0</td>\n    </tr>\n    <tr>\n      <th>19928</th>\n      <td>False</td>\n      <td>NaN</td>\n      <td>0</td>\n      <td>[{'id': 18, 'name': 'Drama'}]</td>\n      <td>http://www.hitchcockthemovie.com/</td>\n      <td>112336</td>\n      <td>tt0975645</td>\n      <td>en</td>\n      <td>Hitchcock</td>\n      <td>Hitchcock follows the relationship between dir...</td>\n      <td>...</td>\n      <td>2012-11-22</td>\n      <td>2.357054e+07</td>\n      <td>98.0</td>\n      <td>[{'iso_639_1': 'en', 'name': 'English'}]</td>\n      <td>Released</td>\n      <td>Good evening.</td>\n      <td>Hitchcock</td>\n      <td>False</td>\n      <td>6.3</td>\n      <td>527.0</td>\n    </tr>\n    <tr>\n      <th>19971</th>\n      <td>False</td>\n      <td>{'id': 121938, 'name': 'The Hobbit Collection'...</td>\n      <td>250000000</td>\n      <td>[{'id': 12, 'name': 'Adventure'}, {'id': 14, '...</td>\n      <td>http://www.thehobbit.com/</td>\n      <td>49051</td>\n      <td>tt0903624</td>\n      <td>en</td>\n      <td>The Hobbit: An Unexpected Journey</td>\n      <td>Bilbo Baggins, a hobbit enjoying his quiet lif...</td>\n      <td>...</td>\n      <td>2012-11-26</td>\n      <td>1.021104e+09</td>\n      <td>169.0</td>\n      <td>[{'iso_639_1': 'en', 'name': 'English'}]</td>\n      <td>Released</td>\n      <td>From the smallest beginnings come the greatest...</td>\n      <td>The Hobbit: An Unexpected Journey</td>\n      <td>False</td>\n      <td>7.0</td>\n      <td>8427.0</td>\n    </tr>\n  </tbody>\n</table>\n<p>1911 rows × 24 columns</p>\n</div>"
     },
     "metadata": {},
     "execution_count": 13
    }
   ],
   "source": [
    "q_movie = data.copy().loc[data.vote_count >= m]\n",
    "q_movie"
   ]
  },
  {
   "cell_type": "code",
   "execution_count": 14,
   "metadata": {},
   "outputs": [],
   "source": [
    "def weight_rating(x, m=m, c=c):\n",
    "    v = x['vote_count']\n",
    "    R = x['vote_average']\n",
    "\n",
    "    return (v/(v+m)*R) + (m/(m+v) *c)"
   ]
  },
  {
   "cell_type": "code",
   "execution_count": 15,
   "metadata": {},
   "outputs": [],
   "source": [
    "q_movie['score'] = q_movie.apply(weight_rating, axis=1 )"
   ]
  },
  {
   "cell_type": "code",
   "execution_count": 16,
   "metadata": {},
   "outputs": [
    {
     "output_type": "execute_result",
     "data": {
      "text/plain": "                                               title  vote_count  \\\n314                         The Shawshank Redemption      8358.0   \n834                                    The Godfather      6024.0   \n12481                                The Dark Knight     12269.0   \n2843                                      Fight Club      9678.0   \n292                                     Pulp Fiction      8670.0   \n522                                 Schindler's List      4436.0   \n5481                                   Spirited Away      3968.0   \n351                                     Forrest Gump      8147.0   \n2211                               Life Is Beautiful      3643.0   \n1178                          The Godfather: Part II      3418.0   \n1154                         The Empire Strikes Back      5998.0   \n18465                               The Intouchables      5410.0   \n1152                 One Flew Over the Cuckoo's Nest      3001.0   \n15480                                      Inception     14075.0   \n10309                    Dilwale Dulhania Le Jayenge       661.0   \n289                           Leon: The Professional      4293.0   \n3030                                  The Green Mile      4166.0   \n7000   The Lord of the Rings: The Return of the King      8226.0   \n1176                                          Psycho      2405.0   \n256                                        Star Wars      6778.0   \n\n       vote_average     score  \n314             8.5  8.401282  \n834             8.5  8.365099  \n12481           8.3  8.237347  \n2843            8.3  8.221149  \n292             8.3  8.212331  \n522             8.3  8.134676  \n5481            8.3  8.116733  \n351             8.2  8.110983  \n2211            8.3  8.101794  \n1178            8.3  8.089940  \n1154            8.2  8.080819  \n18465           8.2  8.068640  \n1152            8.3  8.063753  \n15480           8.1  8.049966  \n10309           9.1  8.039854  \n289             8.2  8.036997  \n3030            8.2  8.032406  \n7000            8.1  8.015817  \n1176            8.3  8.012533  \n256             8.1  7.998702  ",
      "text/html": "<div>\n<style scoped>\n    .dataframe tbody tr th:only-of-type {\n        vertical-align: middle;\n    }\n\n    .dataframe tbody tr th {\n        vertical-align: top;\n    }\n\n    .dataframe thead th {\n        text-align: right;\n    }\n</style>\n<table border=\"1\" class=\"dataframe\">\n  <thead>\n    <tr style=\"text-align: right;\">\n      <th></th>\n      <th>title</th>\n      <th>vote_count</th>\n      <th>vote_average</th>\n      <th>score</th>\n    </tr>\n  </thead>\n  <tbody>\n    <tr>\n      <th>314</th>\n      <td>The Shawshank Redemption</td>\n      <td>8358.0</td>\n      <td>8.5</td>\n      <td>8.401282</td>\n    </tr>\n    <tr>\n      <th>834</th>\n      <td>The Godfather</td>\n      <td>6024.0</td>\n      <td>8.5</td>\n      <td>8.365099</td>\n    </tr>\n    <tr>\n      <th>12481</th>\n      <td>The Dark Knight</td>\n      <td>12269.0</td>\n      <td>8.3</td>\n      <td>8.237347</td>\n    </tr>\n    <tr>\n      <th>2843</th>\n      <td>Fight Club</td>\n      <td>9678.0</td>\n      <td>8.3</td>\n      <td>8.221149</td>\n    </tr>\n    <tr>\n      <th>292</th>\n      <td>Pulp Fiction</td>\n      <td>8670.0</td>\n      <td>8.3</td>\n      <td>8.212331</td>\n    </tr>\n    <tr>\n      <th>522</th>\n      <td>Schindler's List</td>\n      <td>4436.0</td>\n      <td>8.3</td>\n      <td>8.134676</td>\n    </tr>\n    <tr>\n      <th>5481</th>\n      <td>Spirited Away</td>\n      <td>3968.0</td>\n      <td>8.3</td>\n      <td>8.116733</td>\n    </tr>\n    <tr>\n      <th>351</th>\n      <td>Forrest Gump</td>\n      <td>8147.0</td>\n      <td>8.2</td>\n      <td>8.110983</td>\n    </tr>\n    <tr>\n      <th>2211</th>\n      <td>Life Is Beautiful</td>\n      <td>3643.0</td>\n      <td>8.3</td>\n      <td>8.101794</td>\n    </tr>\n    <tr>\n      <th>1178</th>\n      <td>The Godfather: Part II</td>\n      <td>3418.0</td>\n      <td>8.3</td>\n      <td>8.089940</td>\n    </tr>\n    <tr>\n      <th>1154</th>\n      <td>The Empire Strikes Back</td>\n      <td>5998.0</td>\n      <td>8.2</td>\n      <td>8.080819</td>\n    </tr>\n    <tr>\n      <th>18465</th>\n      <td>The Intouchables</td>\n      <td>5410.0</td>\n      <td>8.2</td>\n      <td>8.068640</td>\n    </tr>\n    <tr>\n      <th>1152</th>\n      <td>One Flew Over the Cuckoo's Nest</td>\n      <td>3001.0</td>\n      <td>8.3</td>\n      <td>8.063753</td>\n    </tr>\n    <tr>\n      <th>15480</th>\n      <td>Inception</td>\n      <td>14075.0</td>\n      <td>8.1</td>\n      <td>8.049966</td>\n    </tr>\n    <tr>\n      <th>10309</th>\n      <td>Dilwale Dulhania Le Jayenge</td>\n      <td>661.0</td>\n      <td>9.1</td>\n      <td>8.039854</td>\n    </tr>\n    <tr>\n      <th>289</th>\n      <td>Leon: The Professional</td>\n      <td>4293.0</td>\n      <td>8.2</td>\n      <td>8.036997</td>\n    </tr>\n    <tr>\n      <th>3030</th>\n      <td>The Green Mile</td>\n      <td>4166.0</td>\n      <td>8.2</td>\n      <td>8.032406</td>\n    </tr>\n    <tr>\n      <th>7000</th>\n      <td>The Lord of the Rings: The Return of the King</td>\n      <td>8226.0</td>\n      <td>8.1</td>\n      <td>8.015817</td>\n    </tr>\n    <tr>\n      <th>1176</th>\n      <td>Psycho</td>\n      <td>2405.0</td>\n      <td>8.3</td>\n      <td>8.012533</td>\n    </tr>\n    <tr>\n      <th>256</th>\n      <td>Star Wars</td>\n      <td>6778.0</td>\n      <td>8.1</td>\n      <td>7.998702</td>\n    </tr>\n  </tbody>\n</table>\n</div>"
     },
     "metadata": {},
     "execution_count": 16
    }
   ],
   "source": [
    "q_movie = q_movie.sort_values('score', ascending= False)\n",
    "q_movie[['title', 'vote_count', 'vote_average', 'score']].head(20)"
   ]
  },
  {
   "cell_type": "code",
   "execution_count": 17,
   "metadata": {},
   "outputs": [
    {
     "output_type": "execute_result",
     "data": {
      "text/plain": "Text(0.5, 1.0, 'Popular Movies')"
     },
     "metadata": {},
     "execution_count": 17
    },
    {
     "output_type": "display_data",
     "data": {
      "text/plain": "<Figure size 864x288 with 1 Axes>",
      "image/svg+xml": "<?xml version=\"1.0\" encoding=\"utf-8\" standalone=\"no\"?>\r\n<!DOCTYPE svg PUBLIC \"-//W3C//DTD SVG 1.1//EN\"\r\n  \"http://www.w3.org/Graphics/SVG/1.1/DTD/svg11.dtd\">\r\n<!-- Created with matplotlib (https://matplotlib.org/) -->\r\n<svg height=\"277.314375pt\" version=\"1.1\" viewBox=\"0 0 833.146875 277.314375\" width=\"833.146875pt\" xmlns=\"http://www.w3.org/2000/svg\" xmlns:xlink=\"http://www.w3.org/1999/xlink\">\r\n <defs>\r\n  <style type=\"text/css\">\r\n*{stroke-linecap:butt;stroke-linejoin:round;}\r\n  </style>\r\n </defs>\r\n <g id=\"figure_1\">\r\n  <g id=\"patch_1\">\r\n   <path d=\"M 0 277.314375 \r\nL 833.146875 277.314375 \r\nL 833.146875 0 \r\nL 0 0 \r\nz\r\n\" style=\"fill:none;\"/>\r\n  </g>\r\n  <g id=\"axes_1\">\r\n   <g id=\"patch_2\">\r\n    <path d=\"M 156.346875 239.758125 \r\nL 825.946875 239.758125 \r\nL 825.946875 22.318125 \r\nL 156.346875 22.318125 \r\nz\r\n\" style=\"fill:#ffffff;\"/>\r\n   </g>\r\n   <g id=\"patch_3\">\r\n    <path clip-path=\"url(#pb57d697d5e)\" d=\"M 156.346875 32.201761 \r\nL 794.061161 32.201761 \r\nL 794.061161 59.466965 \r\nL 156.346875 59.466965 \r\nz\r\n\" style=\"fill:#87ceeb;\"/>\r\n   </g>\r\n   <g id=\"patch_4\">\r\n    <path clip-path=\"url(#pb57d697d5e)\" d=\"M 156.346875 66.283266 \r\nL 642.030918 66.283266 \r\nL 642.030918 93.54847 \r\nL 156.346875 93.54847 \r\nz\r\n\" style=\"fill:#87ceeb;\"/>\r\n   </g>\r\n   <g id=\"patch_5\">\r\n    <path clip-path=\"url(#pb57d697d5e)\" d=\"M 156.346875 100.364771 \r\nL 580.754624 100.364771 \r\nL 580.754624 127.629975 \r\nL 156.346875 127.629975 \r\nz\r\n\" style=\"fill:#87ceeb;\"/>\r\n   </g>\r\n   <g id=\"patch_6\">\r\n    <path clip-path=\"url(#pb57d697d5e)\" d=\"M 156.346875 134.446275 \r\nL 488.080664 134.446275 \r\nL 488.080664 161.711479 \r\nL 156.346875 161.711479 \r\nz\r\n\" style=\"fill:#87ceeb;\"/>\r\n   </g>\r\n   <g id=\"patch_7\">\r\n    <path clip-path=\"url(#pb57d697d5e)\" d=\"M 156.346875 168.52778 \r\nL 376.427706 168.52778 \r\nL 376.427706 195.792984 \r\nL 156.346875 195.792984 \r\nz\r\n\" style=\"fill:#87ceeb;\"/>\r\n   </g>\r\n   <g id=\"patch_8\">\r\n    <path clip-path=\"url(#pb57d697d5e)\" d=\"M 156.346875 202.609285 \r\nL 334.305769 202.609285 \r\nL 334.305769 229.874489 \r\nL 156.346875 229.874489 \r\nz\r\n\" style=\"fill:#87ceeb;\"/>\r\n   </g>\r\n   <g id=\"matplotlib.axis_1\">\r\n    <g id=\"xtick_1\">\r\n     <g id=\"line2d_1\">\r\n      <defs>\r\n       <path d=\"M 0 0 \r\nL 0 3.5 \r\n\" id=\"mddc36c6f13\" style=\"stroke:#000000;stroke-width:0.8;\"/>\r\n      </defs>\r\n      <g>\r\n       <use style=\"stroke:#000000;stroke-width:0.8;\" x=\"156.346875\" xlink:href=\"#mddc36c6f13\" y=\"239.758125\"/>\r\n      </g>\r\n     </g>\r\n     <g id=\"text_1\">\r\n      <!-- 0 -->\r\n      <defs>\r\n       <path d=\"M 31.78125 66.40625 \r\nQ 24.171875 66.40625 20.328125 58.90625 \r\nQ 16.5 51.421875 16.5 36.375 \r\nQ 16.5 21.390625 20.328125 13.890625 \r\nQ 24.171875 6.390625 31.78125 6.390625 \r\nQ 39.453125 6.390625 43.28125 13.890625 \r\nQ 47.125 21.390625 47.125 36.375 \r\nQ 47.125 51.421875 43.28125 58.90625 \r\nQ 39.453125 66.40625 31.78125 66.40625 \r\nz\r\nM 31.78125 74.21875 \r\nQ 44.046875 74.21875 50.515625 64.515625 \r\nQ 56.984375 54.828125 56.984375 36.375 \r\nQ 56.984375 17.96875 50.515625 8.265625 \r\nQ 44.046875 -1.421875 31.78125 -1.421875 \r\nQ 19.53125 -1.421875 13.0625 8.265625 \r\nQ 6.59375 17.96875 6.59375 36.375 \r\nQ 6.59375 54.828125 13.0625 64.515625 \r\nQ 19.53125 74.21875 31.78125 74.21875 \r\nz\r\n\" id=\"DejaVuSans-48\"/>\r\n      </defs>\r\n      <g transform=\"translate(153.165625 254.356562)scale(0.1 -0.1)\">\r\n       <use xlink:href=\"#DejaVuSans-48\"/>\r\n      </g>\r\n     </g>\r\n    </g>\r\n    <g id=\"xtick_2\">\r\n     <g id=\"line2d_2\">\r\n      <g>\r\n       <use style=\"stroke:#000000;stroke-width:0.8;\" x=\"242.491471\" xlink:href=\"#mddc36c6f13\" y=\"239.758125\"/>\r\n      </g>\r\n     </g>\r\n     <g id=\"text_2\">\r\n      <!-- 25 -->\r\n      <defs>\r\n       <path d=\"M 19.1875 8.296875 \r\nL 53.609375 8.296875 \r\nL 53.609375 0 \r\nL 7.328125 0 \r\nL 7.328125 8.296875 \r\nQ 12.9375 14.109375 22.625 23.890625 \r\nQ 32.328125 33.6875 34.8125 36.53125 \r\nQ 39.546875 41.84375 41.421875 45.53125 \r\nQ 43.3125 49.21875 43.3125 52.78125 \r\nQ 43.3125 58.59375 39.234375 62.25 \r\nQ 35.15625 65.921875 28.609375 65.921875 \r\nQ 23.96875 65.921875 18.8125 64.3125 \r\nQ 13.671875 62.703125 7.8125 59.421875 \r\nL 7.8125 69.390625 \r\nQ 13.765625 71.78125 18.9375 73 \r\nQ 24.125 74.21875 28.421875 74.21875 \r\nQ 39.75 74.21875 46.484375 68.546875 \r\nQ 53.21875 62.890625 53.21875 53.421875 \r\nQ 53.21875 48.921875 51.53125 44.890625 \r\nQ 49.859375 40.875 45.40625 35.40625 \r\nQ 44.1875 33.984375 37.640625 27.21875 \r\nQ 31.109375 20.453125 19.1875 8.296875 \r\nz\r\n\" id=\"DejaVuSans-50\"/>\r\n       <path d=\"M 10.796875 72.90625 \r\nL 49.515625 72.90625 \r\nL 49.515625 64.59375 \r\nL 19.828125 64.59375 \r\nL 19.828125 46.734375 \r\nQ 21.96875 47.46875 24.109375 47.828125 \r\nQ 26.265625 48.1875 28.421875 48.1875 \r\nQ 40.625 48.1875 47.75 41.5 \r\nQ 54.890625 34.8125 54.890625 23.390625 \r\nQ 54.890625 11.625 47.5625 5.09375 \r\nQ 40.234375 -1.421875 26.90625 -1.421875 \r\nQ 22.3125 -1.421875 17.546875 -0.640625 \r\nQ 12.796875 0.140625 7.71875 1.703125 \r\nL 7.71875 11.625 \r\nQ 12.109375 9.234375 16.796875 8.0625 \r\nQ 21.484375 6.890625 26.703125 6.890625 \r\nQ 35.15625 6.890625 40.078125 11.328125 \r\nQ 45.015625 15.765625 45.015625 23.390625 \r\nQ 45.015625 31 40.078125 35.4375 \r\nQ 35.15625 39.890625 26.703125 39.890625 \r\nQ 22.75 39.890625 18.8125 39.015625 \r\nQ 14.890625 38.140625 10.796875 36.28125 \r\nz\r\n\" id=\"DejaVuSans-53\"/>\r\n      </defs>\r\n      <g transform=\"translate(236.128971 254.356562)scale(0.1 -0.1)\">\r\n       <use xlink:href=\"#DejaVuSans-50\"/>\r\n       <use x=\"63.623047\" xlink:href=\"#DejaVuSans-53\"/>\r\n      </g>\r\n     </g>\r\n    </g>\r\n    <g id=\"xtick_3\">\r\n     <g id=\"line2d_3\">\r\n      <g>\r\n       <use style=\"stroke:#000000;stroke-width:0.8;\" x=\"328.636066\" xlink:href=\"#mddc36c6f13\" y=\"239.758125\"/>\r\n      </g>\r\n     </g>\r\n     <g id=\"text_3\">\r\n      <!-- 50 -->\r\n      <g transform=\"translate(322.273566 254.356562)scale(0.1 -0.1)\">\r\n       <use xlink:href=\"#DejaVuSans-53\"/>\r\n       <use x=\"63.623047\" xlink:href=\"#DejaVuSans-48\"/>\r\n      </g>\r\n     </g>\r\n    </g>\r\n    <g id=\"xtick_4\">\r\n     <g id=\"line2d_4\">\r\n      <g>\r\n       <use style=\"stroke:#000000;stroke-width:0.8;\" x=\"414.780662\" xlink:href=\"#mddc36c6f13\" y=\"239.758125\"/>\r\n      </g>\r\n     </g>\r\n     <g id=\"text_4\">\r\n      <!-- 75 -->\r\n      <defs>\r\n       <path d=\"M 8.203125 72.90625 \r\nL 55.078125 72.90625 \r\nL 55.078125 68.703125 \r\nL 28.609375 0 \r\nL 18.3125 0 \r\nL 43.21875 64.59375 \r\nL 8.203125 64.59375 \r\nz\r\n\" id=\"DejaVuSans-55\"/>\r\n      </defs>\r\n      <g transform=\"translate(408.418162 254.356562)scale(0.1 -0.1)\">\r\n       <use xlink:href=\"#DejaVuSans-55\"/>\r\n       <use x=\"63.623047\" xlink:href=\"#DejaVuSans-53\"/>\r\n      </g>\r\n     </g>\r\n    </g>\r\n    <g id=\"xtick_5\">\r\n     <g id=\"line2d_5\">\r\n      <g>\r\n       <use style=\"stroke:#000000;stroke-width:0.8;\" x=\"500.925257\" xlink:href=\"#mddc36c6f13\" y=\"239.758125\"/>\r\n      </g>\r\n     </g>\r\n     <g id=\"text_5\">\r\n      <!-- 100 -->\r\n      <defs>\r\n       <path d=\"M 12.40625 8.296875 \r\nL 28.515625 8.296875 \r\nL 28.515625 63.921875 \r\nL 10.984375 60.40625 \r\nL 10.984375 69.390625 \r\nL 28.421875 72.90625 \r\nL 38.28125 72.90625 \r\nL 38.28125 8.296875 \r\nL 54.390625 8.296875 \r\nL 54.390625 0 \r\nL 12.40625 0 \r\nz\r\n\" id=\"DejaVuSans-49\"/>\r\n      </defs>\r\n      <g transform=\"translate(491.381507 254.356562)scale(0.1 -0.1)\">\r\n       <use xlink:href=\"#DejaVuSans-49\"/>\r\n       <use x=\"63.623047\" xlink:href=\"#DejaVuSans-48\"/>\r\n       <use x=\"127.246094\" xlink:href=\"#DejaVuSans-48\"/>\r\n      </g>\r\n     </g>\r\n    </g>\r\n    <g id=\"xtick_6\">\r\n     <g id=\"line2d_6\">\r\n      <g>\r\n       <use style=\"stroke:#000000;stroke-width:0.8;\" x=\"587.069853\" xlink:href=\"#mddc36c6f13\" y=\"239.758125\"/>\r\n      </g>\r\n     </g>\r\n     <g id=\"text_6\">\r\n      <!-- 125 -->\r\n      <g transform=\"translate(577.526103 254.356562)scale(0.1 -0.1)\">\r\n       <use xlink:href=\"#DejaVuSans-49\"/>\r\n       <use x=\"63.623047\" xlink:href=\"#DejaVuSans-50\"/>\r\n       <use x=\"127.246094\" xlink:href=\"#DejaVuSans-53\"/>\r\n      </g>\r\n     </g>\r\n    </g>\r\n    <g id=\"xtick_7\">\r\n     <g id=\"line2d_7\">\r\n      <g>\r\n       <use style=\"stroke:#000000;stroke-width:0.8;\" x=\"673.214448\" xlink:href=\"#mddc36c6f13\" y=\"239.758125\"/>\r\n      </g>\r\n     </g>\r\n     <g id=\"text_7\">\r\n      <!-- 150 -->\r\n      <g transform=\"translate(663.670698 254.356562)scale(0.1 -0.1)\">\r\n       <use xlink:href=\"#DejaVuSans-49\"/>\r\n       <use x=\"63.623047\" xlink:href=\"#DejaVuSans-53\"/>\r\n       <use x=\"127.246094\" xlink:href=\"#DejaVuSans-48\"/>\r\n      </g>\r\n     </g>\r\n    </g>\r\n    <g id=\"xtick_8\">\r\n     <g id=\"line2d_8\">\r\n      <g>\r\n       <use style=\"stroke:#000000;stroke-width:0.8;\" x=\"759.359044\" xlink:href=\"#mddc36c6f13\" y=\"239.758125\"/>\r\n      </g>\r\n     </g>\r\n     <g id=\"text_8\">\r\n      <!-- 175 -->\r\n      <g transform=\"translate(749.815294 254.356562)scale(0.1 -0.1)\">\r\n       <use xlink:href=\"#DejaVuSans-49\"/>\r\n       <use x=\"63.623047\" xlink:href=\"#DejaVuSans-55\"/>\r\n       <use x=\"127.246094\" xlink:href=\"#DejaVuSans-53\"/>\r\n      </g>\r\n     </g>\r\n    </g>\r\n    <g id=\"text_9\">\r\n     <!-- Popularity -->\r\n     <defs>\r\n      <path d=\"M 19.671875 64.796875 \r\nL 19.671875 37.40625 \r\nL 32.078125 37.40625 \r\nQ 38.96875 37.40625 42.71875 40.96875 \r\nQ 46.484375 44.53125 46.484375 51.125 \r\nQ 46.484375 57.671875 42.71875 61.234375 \r\nQ 38.96875 64.796875 32.078125 64.796875 \r\nz\r\nM 9.8125 72.90625 \r\nL 32.078125 72.90625 \r\nQ 44.34375 72.90625 50.609375 67.359375 \r\nQ 56.890625 61.8125 56.890625 51.125 \r\nQ 56.890625 40.328125 50.609375 34.8125 \r\nQ 44.34375 29.296875 32.078125 29.296875 \r\nL 19.671875 29.296875 \r\nL 19.671875 0 \r\nL 9.8125 0 \r\nz\r\n\" id=\"DejaVuSans-80\"/>\r\n      <path d=\"M 30.609375 48.390625 \r\nQ 23.390625 48.390625 19.1875 42.75 \r\nQ 14.984375 37.109375 14.984375 27.296875 \r\nQ 14.984375 17.484375 19.15625 11.84375 \r\nQ 23.34375 6.203125 30.609375 6.203125 \r\nQ 37.796875 6.203125 41.984375 11.859375 \r\nQ 46.1875 17.53125 46.1875 27.296875 \r\nQ 46.1875 37.015625 41.984375 42.703125 \r\nQ 37.796875 48.390625 30.609375 48.390625 \r\nz\r\nM 30.609375 56 \r\nQ 42.328125 56 49.015625 48.375 \r\nQ 55.71875 40.765625 55.71875 27.296875 \r\nQ 55.71875 13.875 49.015625 6.21875 \r\nQ 42.328125 -1.421875 30.609375 -1.421875 \r\nQ 18.84375 -1.421875 12.171875 6.21875 \r\nQ 5.515625 13.875 5.515625 27.296875 \r\nQ 5.515625 40.765625 12.171875 48.375 \r\nQ 18.84375 56 30.609375 56 \r\nz\r\n\" id=\"DejaVuSans-111\"/>\r\n      <path d=\"M 18.109375 8.203125 \r\nL 18.109375 -20.796875 \r\nL 9.078125 -20.796875 \r\nL 9.078125 54.6875 \r\nL 18.109375 54.6875 \r\nL 18.109375 46.390625 \r\nQ 20.953125 51.265625 25.265625 53.625 \r\nQ 29.59375 56 35.59375 56 \r\nQ 45.5625 56 51.78125 48.09375 \r\nQ 58.015625 40.1875 58.015625 27.296875 \r\nQ 58.015625 14.40625 51.78125 6.484375 \r\nQ 45.5625 -1.421875 35.59375 -1.421875 \r\nQ 29.59375 -1.421875 25.265625 0.953125 \r\nQ 20.953125 3.328125 18.109375 8.203125 \r\nz\r\nM 48.6875 27.296875 \r\nQ 48.6875 37.203125 44.609375 42.84375 \r\nQ 40.53125 48.484375 33.40625 48.484375 \r\nQ 26.265625 48.484375 22.1875 42.84375 \r\nQ 18.109375 37.203125 18.109375 27.296875 \r\nQ 18.109375 17.390625 22.1875 11.75 \r\nQ 26.265625 6.109375 33.40625 6.109375 \r\nQ 40.53125 6.109375 44.609375 11.75 \r\nQ 48.6875 17.390625 48.6875 27.296875 \r\nz\r\n\" id=\"DejaVuSans-112\"/>\r\n      <path d=\"M 8.5 21.578125 \r\nL 8.5 54.6875 \r\nL 17.484375 54.6875 \r\nL 17.484375 21.921875 \r\nQ 17.484375 14.15625 20.5 10.265625 \r\nQ 23.53125 6.390625 29.59375 6.390625 \r\nQ 36.859375 6.390625 41.078125 11.03125 \r\nQ 45.3125 15.671875 45.3125 23.6875 \r\nL 45.3125 54.6875 \r\nL 54.296875 54.6875 \r\nL 54.296875 0 \r\nL 45.3125 0 \r\nL 45.3125 8.40625 \r\nQ 42.046875 3.421875 37.71875 1 \r\nQ 33.40625 -1.421875 27.6875 -1.421875 \r\nQ 18.265625 -1.421875 13.375 4.4375 \r\nQ 8.5 10.296875 8.5 21.578125 \r\nz\r\nM 31.109375 56 \r\nz\r\n\" id=\"DejaVuSans-117\"/>\r\n      <path d=\"M 9.421875 75.984375 \r\nL 18.40625 75.984375 \r\nL 18.40625 0 \r\nL 9.421875 0 \r\nz\r\n\" id=\"DejaVuSans-108\"/>\r\n      <path d=\"M 34.28125 27.484375 \r\nQ 23.390625 27.484375 19.1875 25 \r\nQ 14.984375 22.515625 14.984375 16.5 \r\nQ 14.984375 11.71875 18.140625 8.90625 \r\nQ 21.296875 6.109375 26.703125 6.109375 \r\nQ 34.1875 6.109375 38.703125 11.40625 \r\nQ 43.21875 16.703125 43.21875 25.484375 \r\nL 43.21875 27.484375 \r\nz\r\nM 52.203125 31.203125 \r\nL 52.203125 0 \r\nL 43.21875 0 \r\nL 43.21875 8.296875 \r\nQ 40.140625 3.328125 35.546875 0.953125 \r\nQ 30.953125 -1.421875 24.3125 -1.421875 \r\nQ 15.921875 -1.421875 10.953125 3.296875 \r\nQ 6 8.015625 6 15.921875 \r\nQ 6 25.140625 12.171875 29.828125 \r\nQ 18.359375 34.515625 30.609375 34.515625 \r\nL 43.21875 34.515625 \r\nL 43.21875 35.40625 \r\nQ 43.21875 41.609375 39.140625 45 \r\nQ 35.0625 48.390625 27.6875 48.390625 \r\nQ 23 48.390625 18.546875 47.265625 \r\nQ 14.109375 46.140625 10.015625 43.890625 \r\nL 10.015625 52.203125 \r\nQ 14.9375 54.109375 19.578125 55.046875 \r\nQ 24.21875 56 28.609375 56 \r\nQ 40.484375 56 46.34375 49.84375 \r\nQ 52.203125 43.703125 52.203125 31.203125 \r\nz\r\n\" id=\"DejaVuSans-97\"/>\r\n      <path d=\"M 41.109375 46.296875 \r\nQ 39.59375 47.171875 37.8125 47.578125 \r\nQ 36.03125 48 33.890625 48 \r\nQ 26.265625 48 22.1875 43.046875 \r\nQ 18.109375 38.09375 18.109375 28.8125 \r\nL 18.109375 0 \r\nL 9.078125 0 \r\nL 9.078125 54.6875 \r\nL 18.109375 54.6875 \r\nL 18.109375 46.1875 \r\nQ 20.953125 51.171875 25.484375 53.578125 \r\nQ 30.03125 56 36.53125 56 \r\nQ 37.453125 56 38.578125 55.875 \r\nQ 39.703125 55.765625 41.0625 55.515625 \r\nz\r\n\" id=\"DejaVuSans-114\"/>\r\n      <path d=\"M 9.421875 54.6875 \r\nL 18.40625 54.6875 \r\nL 18.40625 0 \r\nL 9.421875 0 \r\nz\r\nM 9.421875 75.984375 \r\nL 18.40625 75.984375 \r\nL 18.40625 64.59375 \r\nL 9.421875 64.59375 \r\nz\r\n\" id=\"DejaVuSans-105\"/>\r\n      <path d=\"M 18.3125 70.21875 \r\nL 18.3125 54.6875 \r\nL 36.8125 54.6875 \r\nL 36.8125 47.703125 \r\nL 18.3125 47.703125 \r\nL 18.3125 18.015625 \r\nQ 18.3125 11.328125 20.140625 9.421875 \r\nQ 21.96875 7.515625 27.59375 7.515625 \r\nL 36.8125 7.515625 \r\nL 36.8125 0 \r\nL 27.59375 0 \r\nQ 17.1875 0 13.234375 3.875 \r\nQ 9.28125 7.765625 9.28125 18.015625 \r\nL 9.28125 47.703125 \r\nL 2.6875 47.703125 \r\nL 2.6875 54.6875 \r\nL 9.28125 54.6875 \r\nL 9.28125 70.21875 \r\nz\r\n\" id=\"DejaVuSans-116\"/>\r\n      <path d=\"M 32.171875 -5.078125 \r\nQ 28.375 -14.84375 24.75 -17.8125 \r\nQ 21.140625 -20.796875 15.09375 -20.796875 \r\nL 7.90625 -20.796875 \r\nL 7.90625 -13.28125 \r\nL 13.1875 -13.28125 \r\nQ 16.890625 -13.28125 18.9375 -11.515625 \r\nQ 21 -9.765625 23.484375 -3.21875 \r\nL 25.09375 0.875 \r\nL 2.984375 54.6875 \r\nL 12.5 54.6875 \r\nL 29.59375 11.921875 \r\nL 46.6875 54.6875 \r\nL 56.203125 54.6875 \r\nz\r\n\" id=\"DejaVuSans-121\"/>\r\n     </defs>\r\n     <g transform=\"translate(466.09375 268.034687)scale(0.1 -0.1)\">\r\n      <use xlink:href=\"#DejaVuSans-80\"/>\r\n      <use x=\"56.677734\" xlink:href=\"#DejaVuSans-111\"/>\r\n      <use x=\"117.859375\" xlink:href=\"#DejaVuSans-112\"/>\r\n      <use x=\"181.335938\" xlink:href=\"#DejaVuSans-117\"/>\r\n      <use x=\"244.714844\" xlink:href=\"#DejaVuSans-108\"/>\r\n      <use x=\"272.498047\" xlink:href=\"#DejaVuSans-97\"/>\r\n      <use x=\"333.777344\" xlink:href=\"#DejaVuSans-114\"/>\r\n      <use x=\"374.890625\" xlink:href=\"#DejaVuSans-105\"/>\r\n      <use x=\"402.673828\" xlink:href=\"#DejaVuSans-116\"/>\r\n      <use x=\"441.882812\" xlink:href=\"#DejaVuSans-121\"/>\r\n     </g>\r\n    </g>\r\n   </g>\r\n   <g id=\"matplotlib.axis_2\">\r\n    <g id=\"ytick_1\">\r\n     <g id=\"line2d_9\">\r\n      <defs>\r\n       <path d=\"M 0 0 \r\nL -3.5 0 \r\n\" id=\"mf5b2cdc392\" style=\"stroke:#000000;stroke-width:0.8;\"/>\r\n      </defs>\r\n      <g>\r\n       <use style=\"stroke:#000000;stroke-width:0.8;\" x=\"156.346875\" xlink:href=\"#mf5b2cdc392\" y=\"45.834363\"/>\r\n      </g>\r\n     </g>\r\n     <g id=\"text_10\">\r\n      <!-- Avatar -->\r\n      <defs>\r\n       <path d=\"M 34.1875 63.1875 \r\nL 20.796875 26.90625 \r\nL 47.609375 26.90625 \r\nz\r\nM 28.609375 72.90625 \r\nL 39.796875 72.90625 \r\nL 67.578125 0 \r\nL 57.328125 0 \r\nL 50.6875 18.703125 \r\nL 17.828125 18.703125 \r\nL 11.1875 0 \r\nL 0.78125 0 \r\nz\r\n\" id=\"DejaVuSans-65\"/>\r\n       <path d=\"M 2.984375 54.6875 \r\nL 12.5 54.6875 \r\nL 29.59375 8.796875 \r\nL 46.6875 54.6875 \r\nL 56.203125 54.6875 \r\nL 35.6875 0 \r\nL 23.484375 0 \r\nz\r\n\" id=\"DejaVuSans-118\"/>\r\n      </defs>\r\n      <g transform=\"translate(116.8875 49.633582)scale(0.1 -0.1)\">\r\n       <use xlink:href=\"#DejaVuSans-65\"/>\r\n       <use x=\"62.533203\" xlink:href=\"#DejaVuSans-118\"/>\r\n       <use x=\"121.712891\" xlink:href=\"#DejaVuSans-97\"/>\r\n       <use x=\"182.992188\" xlink:href=\"#DejaVuSans-116\"/>\r\n       <use x=\"222.201172\" xlink:href=\"#DejaVuSans-97\"/>\r\n       <use x=\"283.480469\" xlink:href=\"#DejaVuSans-114\"/>\r\n      </g>\r\n     </g>\r\n    </g>\r\n    <g id=\"ytick_2\">\r\n     <g id=\"line2d_10\">\r\n      <g>\r\n       <use style=\"stroke:#000000;stroke-width:0.8;\" x=\"156.346875\" xlink:href=\"#mf5b2cdc392\" y=\"79.915868\"/>\r\n      </g>\r\n     </g>\r\n     <g id=\"text_11\">\r\n      <!-- Pulp Fiction -->\r\n      <defs>\r\n       <path id=\"DejaVuSans-32\"/>\r\n       <path d=\"M 9.8125 72.90625 \r\nL 51.703125 72.90625 \r\nL 51.703125 64.59375 \r\nL 19.671875 64.59375 \r\nL 19.671875 43.109375 \r\nL 48.578125 43.109375 \r\nL 48.578125 34.8125 \r\nL 19.671875 34.8125 \r\nL 19.671875 0 \r\nL 9.8125 0 \r\nz\r\n\" id=\"DejaVuSans-70\"/>\r\n       <path d=\"M 48.78125 52.59375 \r\nL 48.78125 44.1875 \r\nQ 44.96875 46.296875 41.140625 47.34375 \r\nQ 37.3125 48.390625 33.40625 48.390625 \r\nQ 24.65625 48.390625 19.8125 42.84375 \r\nQ 14.984375 37.3125 14.984375 27.296875 \r\nQ 14.984375 17.28125 19.8125 11.734375 \r\nQ 24.65625 6.203125 33.40625 6.203125 \r\nQ 37.3125 6.203125 41.140625 7.25 \r\nQ 44.96875 8.296875 48.78125 10.40625 \r\nL 48.78125 2.09375 \r\nQ 45.015625 0.34375 40.984375 -0.53125 \r\nQ 36.96875 -1.421875 32.421875 -1.421875 \r\nQ 20.0625 -1.421875 12.78125 6.34375 \r\nQ 5.515625 14.109375 5.515625 27.296875 \r\nQ 5.515625 40.671875 12.859375 48.328125 \r\nQ 20.21875 56 33.015625 56 \r\nQ 37.15625 56 41.109375 55.140625 \r\nQ 45.0625 54.296875 48.78125 52.59375 \r\nz\r\n\" id=\"DejaVuSans-99\"/>\r\n       <path d=\"M 54.890625 33.015625 \r\nL 54.890625 0 \r\nL 45.90625 0 \r\nL 45.90625 32.71875 \r\nQ 45.90625 40.484375 42.875 44.328125 \r\nQ 39.84375 48.1875 33.796875 48.1875 \r\nQ 26.515625 48.1875 22.3125 43.546875 \r\nQ 18.109375 38.921875 18.109375 30.90625 \r\nL 18.109375 0 \r\nL 9.078125 0 \r\nL 9.078125 54.6875 \r\nL 18.109375 54.6875 \r\nL 18.109375 46.1875 \r\nQ 21.34375 51.125 25.703125 53.5625 \r\nQ 30.078125 56 35.796875 56 \r\nQ 45.21875 56 50.046875 50.171875 \r\nQ 54.890625 44.34375 54.890625 33.015625 \r\nz\r\n\" id=\"DejaVuSans-110\"/>\r\n      </defs>\r\n      <g transform=\"translate(92.392188 83.715087)scale(0.1 -0.1)\">\r\n       <use xlink:href=\"#DejaVuSans-80\"/>\r\n       <use x=\"58.552734\" xlink:href=\"#DejaVuSans-117\"/>\r\n       <use x=\"121.931641\" xlink:href=\"#DejaVuSans-108\"/>\r\n       <use x=\"149.714844\" xlink:href=\"#DejaVuSans-112\"/>\r\n       <use x=\"213.191406\" xlink:href=\"#DejaVuSans-32\"/>\r\n       <use x=\"244.978516\" xlink:href=\"#DejaVuSans-70\"/>\r\n       <use x=\"295.248047\" xlink:href=\"#DejaVuSans-105\"/>\r\n       <use x=\"323.03125\" xlink:href=\"#DejaVuSans-99\"/>\r\n       <use x=\"378.011719\" xlink:href=\"#DejaVuSans-116\"/>\r\n       <use x=\"417.220703\" xlink:href=\"#DejaVuSans-105\"/>\r\n       <use x=\"445.003906\" xlink:href=\"#DejaVuSans-111\"/>\r\n       <use x=\"506.185547\" xlink:href=\"#DejaVuSans-110\"/>\r\n      </g>\r\n     </g>\r\n    </g>\r\n    <g id=\"ytick_3\">\r\n     <g id=\"line2d_11\">\r\n      <g>\r\n       <use style=\"stroke:#000000;stroke-width:0.8;\" x=\"156.346875\" xlink:href=\"#mf5b2cdc392\" y=\"113.997373\"/>\r\n      </g>\r\n     </g>\r\n     <g id=\"text_12\">\r\n      <!-- The Dark Knight -->\r\n      <defs>\r\n       <path d=\"M -0.296875 72.90625 \r\nL 61.375 72.90625 \r\nL 61.375 64.59375 \r\nL 35.5 64.59375 \r\nL 35.5 0 \r\nL 25.59375 0 \r\nL 25.59375 64.59375 \r\nL -0.296875 64.59375 \r\nz\r\n\" id=\"DejaVuSans-84\"/>\r\n       <path d=\"M 54.890625 33.015625 \r\nL 54.890625 0 \r\nL 45.90625 0 \r\nL 45.90625 32.71875 \r\nQ 45.90625 40.484375 42.875 44.328125 \r\nQ 39.84375 48.1875 33.796875 48.1875 \r\nQ 26.515625 48.1875 22.3125 43.546875 \r\nQ 18.109375 38.921875 18.109375 30.90625 \r\nL 18.109375 0 \r\nL 9.078125 0 \r\nL 9.078125 75.984375 \r\nL 18.109375 75.984375 \r\nL 18.109375 46.1875 \r\nQ 21.34375 51.125 25.703125 53.5625 \r\nQ 30.078125 56 35.796875 56 \r\nQ 45.21875 56 50.046875 50.171875 \r\nQ 54.890625 44.34375 54.890625 33.015625 \r\nz\r\n\" id=\"DejaVuSans-104\"/>\r\n       <path d=\"M 56.203125 29.59375 \r\nL 56.203125 25.203125 \r\nL 14.890625 25.203125 \r\nQ 15.484375 15.921875 20.484375 11.0625 \r\nQ 25.484375 6.203125 34.421875 6.203125 \r\nQ 39.59375 6.203125 44.453125 7.46875 \r\nQ 49.3125 8.734375 54.109375 11.28125 \r\nL 54.109375 2.78125 \r\nQ 49.265625 0.734375 44.1875 -0.34375 \r\nQ 39.109375 -1.421875 33.890625 -1.421875 \r\nQ 20.796875 -1.421875 13.15625 6.1875 \r\nQ 5.515625 13.8125 5.515625 26.8125 \r\nQ 5.515625 40.234375 12.765625 48.109375 \r\nQ 20.015625 56 32.328125 56 \r\nQ 43.359375 56 49.78125 48.890625 \r\nQ 56.203125 41.796875 56.203125 29.59375 \r\nz\r\nM 47.21875 32.234375 \r\nQ 47.125 39.59375 43.09375 43.984375 \r\nQ 39.0625 48.390625 32.421875 48.390625 \r\nQ 24.90625 48.390625 20.390625 44.140625 \r\nQ 15.875 39.890625 15.1875 32.171875 \r\nz\r\n\" id=\"DejaVuSans-101\"/>\r\n       <path d=\"M 19.671875 64.796875 \r\nL 19.671875 8.109375 \r\nL 31.59375 8.109375 \r\nQ 46.6875 8.109375 53.6875 14.9375 \r\nQ 60.6875 21.78125 60.6875 36.53125 \r\nQ 60.6875 51.171875 53.6875 57.984375 \r\nQ 46.6875 64.796875 31.59375 64.796875 \r\nz\r\nM 9.8125 72.90625 \r\nL 30.078125 72.90625 \r\nQ 51.265625 72.90625 61.171875 64.09375 \r\nQ 71.09375 55.28125 71.09375 36.53125 \r\nQ 71.09375 17.671875 61.125 8.828125 \r\nQ 51.171875 0 30.078125 0 \r\nL 9.8125 0 \r\nz\r\n\" id=\"DejaVuSans-68\"/>\r\n       <path d=\"M 9.078125 75.984375 \r\nL 18.109375 75.984375 \r\nL 18.109375 31.109375 \r\nL 44.921875 54.6875 \r\nL 56.390625 54.6875 \r\nL 27.390625 29.109375 \r\nL 57.625 0 \r\nL 45.90625 0 \r\nL 18.109375 26.703125 \r\nL 18.109375 0 \r\nL 9.078125 0 \r\nz\r\n\" id=\"DejaVuSans-107\"/>\r\n       <path d=\"M 9.8125 72.90625 \r\nL 19.671875 72.90625 \r\nL 19.671875 42.09375 \r\nL 52.390625 72.90625 \r\nL 65.09375 72.90625 \r\nL 28.90625 38.921875 \r\nL 67.671875 0 \r\nL 54.6875 0 \r\nL 19.671875 35.109375 \r\nL 19.671875 0 \r\nL 9.8125 0 \r\nz\r\n\" id=\"DejaVuSans-75\"/>\r\n       <path d=\"M 45.40625 27.984375 \r\nQ 45.40625 37.75 41.375 43.109375 \r\nQ 37.359375 48.484375 30.078125 48.484375 \r\nQ 22.859375 48.484375 18.828125 43.109375 \r\nQ 14.796875 37.75 14.796875 27.984375 \r\nQ 14.796875 18.265625 18.828125 12.890625 \r\nQ 22.859375 7.515625 30.078125 7.515625 \r\nQ 37.359375 7.515625 41.375 12.890625 \r\nQ 45.40625 18.265625 45.40625 27.984375 \r\nz\r\nM 54.390625 6.78125 \r\nQ 54.390625 -7.171875 48.1875 -13.984375 \r\nQ 42 -20.796875 29.203125 -20.796875 \r\nQ 24.46875 -20.796875 20.265625 -20.09375 \r\nQ 16.0625 -19.390625 12.109375 -17.921875 \r\nL 12.109375 -9.1875 \r\nQ 16.0625 -11.328125 19.921875 -12.34375 \r\nQ 23.78125 -13.375 27.78125 -13.375 \r\nQ 36.625 -13.375 41.015625 -8.765625 \r\nQ 45.40625 -4.15625 45.40625 5.171875 \r\nL 45.40625 9.625 \r\nQ 42.625 4.78125 38.28125 2.390625 \r\nQ 33.9375 0 27.875 0 \r\nQ 17.828125 0 11.671875 7.65625 \r\nQ 5.515625 15.328125 5.515625 27.984375 \r\nQ 5.515625 40.671875 11.671875 48.328125 \r\nQ 17.828125 56 27.875 56 \r\nQ 33.9375 56 38.28125 53.609375 \r\nQ 42.625 51.21875 45.40625 46.390625 \r\nL 45.40625 54.6875 \r\nL 54.390625 54.6875 \r\nz\r\n\" id=\"DejaVuSans-103\"/>\r\n      </defs>\r\n      <g transform=\"translate(68.382812 117.796591)scale(0.1 -0.1)\">\r\n       <use xlink:href=\"#DejaVuSans-84\"/>\r\n       <use x=\"61.083984\" xlink:href=\"#DejaVuSans-104\"/>\r\n       <use x=\"124.462891\" xlink:href=\"#DejaVuSans-101\"/>\r\n       <use x=\"185.986328\" xlink:href=\"#DejaVuSans-32\"/>\r\n       <use x=\"217.773438\" xlink:href=\"#DejaVuSans-68\"/>\r\n       <use x=\"294.775391\" xlink:href=\"#DejaVuSans-97\"/>\r\n       <use x=\"356.054688\" xlink:href=\"#DejaVuSans-114\"/>\r\n       <use x=\"397.167969\" xlink:href=\"#DejaVuSans-107\"/>\r\n       <use x=\"455.078125\" xlink:href=\"#DejaVuSans-32\"/>\r\n       <use x=\"486.865234\" xlink:href=\"#DejaVuSans-75\"/>\r\n       <use x=\"552.441406\" xlink:href=\"#DejaVuSans-110\"/>\r\n       <use x=\"615.820312\" xlink:href=\"#DejaVuSans-105\"/>\r\n       <use x=\"643.603516\" xlink:href=\"#DejaVuSans-103\"/>\r\n       <use x=\"707.080078\" xlink:href=\"#DejaVuSans-104\"/>\r\n       <use x=\"770.458984\" xlink:href=\"#DejaVuSans-116\"/>\r\n      </g>\r\n     </g>\r\n    </g>\r\n    <g id=\"ytick_4\">\r\n     <g id=\"line2d_12\">\r\n      <g>\r\n       <use style=\"stroke:#000000;stroke-width:0.8;\" x=\"156.346875\" xlink:href=\"#mf5b2cdc392\" y=\"148.078877\"/>\r\n      </g>\r\n     </g>\r\n     <g id=\"text_13\">\r\n      <!-- Blade Runner -->\r\n      <defs>\r\n       <path d=\"M 19.671875 34.8125 \r\nL 19.671875 8.109375 \r\nL 35.5 8.109375 \r\nQ 43.453125 8.109375 47.28125 11.40625 \r\nQ 51.125 14.703125 51.125 21.484375 \r\nQ 51.125 28.328125 47.28125 31.5625 \r\nQ 43.453125 34.8125 35.5 34.8125 \r\nz\r\nM 19.671875 64.796875 \r\nL 19.671875 42.828125 \r\nL 34.28125 42.828125 \r\nQ 41.5 42.828125 45.03125 45.53125 \r\nQ 48.578125 48.25 48.578125 53.8125 \r\nQ 48.578125 59.328125 45.03125 62.0625 \r\nQ 41.5 64.796875 34.28125 64.796875 \r\nz\r\nM 9.8125 72.90625 \r\nL 35.015625 72.90625 \r\nQ 46.296875 72.90625 52.390625 68.21875 \r\nQ 58.5 63.53125 58.5 54.890625 \r\nQ 58.5 48.1875 55.375 44.234375 \r\nQ 52.25 40.28125 46.1875 39.3125 \r\nQ 53.46875 37.75 57.5 32.78125 \r\nQ 61.53125 27.828125 61.53125 20.40625 \r\nQ 61.53125 10.640625 54.890625 5.3125 \r\nQ 48.25 0 35.984375 0 \r\nL 9.8125 0 \r\nz\r\n\" id=\"DejaVuSans-66\"/>\r\n       <path d=\"M 45.40625 46.390625 \r\nL 45.40625 75.984375 \r\nL 54.390625 75.984375 \r\nL 54.390625 0 \r\nL 45.40625 0 \r\nL 45.40625 8.203125 \r\nQ 42.578125 3.328125 38.25 0.953125 \r\nQ 33.9375 -1.421875 27.875 -1.421875 \r\nQ 17.96875 -1.421875 11.734375 6.484375 \r\nQ 5.515625 14.40625 5.515625 27.296875 \r\nQ 5.515625 40.1875 11.734375 48.09375 \r\nQ 17.96875 56 27.875 56 \r\nQ 33.9375 56 38.25 53.625 \r\nQ 42.578125 51.265625 45.40625 46.390625 \r\nz\r\nM 14.796875 27.296875 \r\nQ 14.796875 17.390625 18.875 11.75 \r\nQ 22.953125 6.109375 30.078125 6.109375 \r\nQ 37.203125 6.109375 41.296875 11.75 \r\nQ 45.40625 17.390625 45.40625 27.296875 \r\nQ 45.40625 37.203125 41.296875 42.84375 \r\nQ 37.203125 48.484375 30.078125 48.484375 \r\nQ 22.953125 48.484375 18.875 42.84375 \r\nQ 14.796875 37.203125 14.796875 27.296875 \r\nz\r\n\" id=\"DejaVuSans-100\"/>\r\n       <path d=\"M 44.390625 34.1875 \r\nQ 47.5625 33.109375 50.5625 29.59375 \r\nQ 53.5625 26.078125 56.59375 19.921875 \r\nL 66.609375 0 \r\nL 56 0 \r\nL 46.6875 18.703125 \r\nQ 43.0625 26.03125 39.671875 28.421875 \r\nQ 36.28125 30.8125 30.421875 30.8125 \r\nL 19.671875 30.8125 \r\nL 19.671875 0 \r\nL 9.8125 0 \r\nL 9.8125 72.90625 \r\nL 32.078125 72.90625 \r\nQ 44.578125 72.90625 50.734375 67.671875 \r\nQ 56.890625 62.453125 56.890625 51.90625 \r\nQ 56.890625 45.015625 53.6875 40.46875 \r\nQ 50.484375 35.9375 44.390625 34.1875 \r\nz\r\nM 19.671875 64.796875 \r\nL 19.671875 38.921875 \r\nL 32.078125 38.921875 \r\nQ 39.203125 38.921875 42.84375 42.21875 \r\nQ 46.484375 45.515625 46.484375 51.90625 \r\nQ 46.484375 58.296875 42.84375 61.546875 \r\nQ 39.203125 64.796875 32.078125 64.796875 \r\nz\r\n\" id=\"DejaVuSans-82\"/>\r\n      </defs>\r\n      <g transform=\"translate(82.125 151.878096)scale(0.1 -0.1)\">\r\n       <use xlink:href=\"#DejaVuSans-66\"/>\r\n       <use x=\"68.603516\" xlink:href=\"#DejaVuSans-108\"/>\r\n       <use x=\"96.386719\" xlink:href=\"#DejaVuSans-97\"/>\r\n       <use x=\"157.666016\" xlink:href=\"#DejaVuSans-100\"/>\r\n       <use x=\"221.142578\" xlink:href=\"#DejaVuSans-101\"/>\r\n       <use x=\"282.666016\" xlink:href=\"#DejaVuSans-32\"/>\r\n       <use x=\"314.453125\" xlink:href=\"#DejaVuSans-82\"/>\r\n       <use x=\"379.435547\" xlink:href=\"#DejaVuSans-117\"/>\r\n       <use x=\"442.814453\" xlink:href=\"#DejaVuSans-110\"/>\r\n       <use x=\"506.193359\" xlink:href=\"#DejaVuSans-110\"/>\r\n       <use x=\"569.572266\" xlink:href=\"#DejaVuSans-101\"/>\r\n       <use x=\"631.095703\" xlink:href=\"#DejaVuSans-114\"/>\r\n      </g>\r\n     </g>\r\n    </g>\r\n    <g id=\"ytick_5\">\r\n     <g id=\"line2d_13\">\r\n      <g>\r\n       <use style=\"stroke:#000000;stroke-width:0.8;\" x=\"156.346875\" xlink:href=\"#mf5b2cdc392\" y=\"182.160382\"/>\r\n      </g>\r\n     </g>\r\n     <g id=\"text_14\">\r\n      <!-- Fight Club -->\r\n      <defs>\r\n       <path d=\"M 64.40625 67.28125 \r\nL 64.40625 56.890625 \r\nQ 59.421875 61.53125 53.78125 63.8125 \r\nQ 48.140625 66.109375 41.796875 66.109375 \r\nQ 29.296875 66.109375 22.65625 58.46875 \r\nQ 16.015625 50.828125 16.015625 36.375 \r\nQ 16.015625 21.96875 22.65625 14.328125 \r\nQ 29.296875 6.6875 41.796875 6.6875 \r\nQ 48.140625 6.6875 53.78125 8.984375 \r\nQ 59.421875 11.28125 64.40625 15.921875 \r\nL 64.40625 5.609375 \r\nQ 59.234375 2.09375 53.4375 0.328125 \r\nQ 47.65625 -1.421875 41.21875 -1.421875 \r\nQ 24.65625 -1.421875 15.125 8.703125 \r\nQ 5.609375 18.84375 5.609375 36.375 \r\nQ 5.609375 53.953125 15.125 64.078125 \r\nQ 24.65625 74.21875 41.21875 74.21875 \r\nQ 47.75 74.21875 53.53125 72.484375 \r\nQ 59.328125 70.75 64.40625 67.28125 \r\nz\r\n\" id=\"DejaVuSans-67\"/>\r\n       <path d=\"M 48.6875 27.296875 \r\nQ 48.6875 37.203125 44.609375 42.84375 \r\nQ 40.53125 48.484375 33.40625 48.484375 \r\nQ 26.265625 48.484375 22.1875 42.84375 \r\nQ 18.109375 37.203125 18.109375 27.296875 \r\nQ 18.109375 17.390625 22.1875 11.75 \r\nQ 26.265625 6.109375 33.40625 6.109375 \r\nQ 40.53125 6.109375 44.609375 11.75 \r\nQ 48.6875 17.390625 48.6875 27.296875 \r\nz\r\nM 18.109375 46.390625 \r\nQ 20.953125 51.265625 25.265625 53.625 \r\nQ 29.59375 56 35.59375 56 \r\nQ 45.5625 56 51.78125 48.09375 \r\nQ 58.015625 40.1875 58.015625 27.296875 \r\nQ 58.015625 14.40625 51.78125 6.484375 \r\nQ 45.5625 -1.421875 35.59375 -1.421875 \r\nQ 29.59375 -1.421875 25.265625 0.953125 \r\nQ 20.953125 3.328125 18.109375 8.203125 \r\nL 18.109375 0 \r\nL 9.078125 0 \r\nL 9.078125 75.984375 \r\nL 18.109375 75.984375 \r\nz\r\n\" id=\"DejaVuSans-98\"/>\r\n      </defs>\r\n      <g transform=\"translate(99.310938 185.959601)scale(0.1 -0.1)\">\r\n       <use xlink:href=\"#DejaVuSans-70\"/>\r\n       <use x=\"50.269531\" xlink:href=\"#DejaVuSans-105\"/>\r\n       <use x=\"78.052734\" xlink:href=\"#DejaVuSans-103\"/>\r\n       <use x=\"141.529297\" xlink:href=\"#DejaVuSans-104\"/>\r\n       <use x=\"204.908203\" xlink:href=\"#DejaVuSans-116\"/>\r\n       <use x=\"244.117188\" xlink:href=\"#DejaVuSans-32\"/>\r\n       <use x=\"275.904297\" xlink:href=\"#DejaVuSans-67\"/>\r\n       <use x=\"345.728516\" xlink:href=\"#DejaVuSans-108\"/>\r\n       <use x=\"373.511719\" xlink:href=\"#DejaVuSans-117\"/>\r\n       <use x=\"436.890625\" xlink:href=\"#DejaVuSans-98\"/>\r\n      </g>\r\n     </g>\r\n    </g>\r\n    <g id=\"ytick_6\">\r\n     <g id=\"line2d_14\">\r\n      <g>\r\n       <use style=\"stroke:#000000;stroke-width:0.8;\" x=\"156.346875\" xlink:href=\"#mf5b2cdc392\" y=\"216.241887\"/>\r\n      </g>\r\n     </g>\r\n     <g id=\"text_15\">\r\n      <!-- The Shawshank Redemption -->\r\n      <defs>\r\n       <path d=\"M 53.515625 70.515625 \r\nL 53.515625 60.890625 \r\nQ 47.90625 63.578125 42.921875 64.890625 \r\nQ 37.9375 66.21875 33.296875 66.21875 \r\nQ 25.25 66.21875 20.875 63.09375 \r\nQ 16.5 59.96875 16.5 54.203125 \r\nQ 16.5 49.359375 19.40625 46.890625 \r\nQ 22.3125 44.4375 30.421875 42.921875 \r\nL 36.375 41.703125 \r\nQ 47.40625 39.59375 52.65625 34.296875 \r\nQ 57.90625 29 57.90625 20.125 \r\nQ 57.90625 9.515625 50.796875 4.046875 \r\nQ 43.703125 -1.421875 29.984375 -1.421875 \r\nQ 24.8125 -1.421875 18.96875 -0.25 \r\nQ 13.140625 0.921875 6.890625 3.21875 \r\nL 6.890625 13.375 \r\nQ 12.890625 10.015625 18.65625 8.296875 \r\nQ 24.421875 6.59375 29.984375 6.59375 \r\nQ 38.421875 6.59375 43.015625 9.90625 \r\nQ 47.609375 13.234375 47.609375 19.390625 \r\nQ 47.609375 24.75 44.3125 27.78125 \r\nQ 41.015625 30.8125 33.5 32.328125 \r\nL 27.484375 33.5 \r\nQ 16.453125 35.6875 11.515625 40.375 \r\nQ 6.59375 45.0625 6.59375 53.421875 \r\nQ 6.59375 63.09375 13.40625 68.65625 \r\nQ 20.21875 74.21875 32.171875 74.21875 \r\nQ 37.3125 74.21875 42.625 73.28125 \r\nQ 47.953125 72.359375 53.515625 70.515625 \r\nz\r\n\" id=\"DejaVuSans-83\"/>\r\n       <path d=\"M 4.203125 54.6875 \r\nL 13.1875 54.6875 \r\nL 24.421875 12.015625 \r\nL 35.59375 54.6875 \r\nL 46.1875 54.6875 \r\nL 57.421875 12.015625 \r\nL 68.609375 54.6875 \r\nL 77.59375 54.6875 \r\nL 63.28125 0 \r\nL 52.6875 0 \r\nL 40.921875 44.828125 \r\nL 29.109375 0 \r\nL 18.5 0 \r\nz\r\n\" id=\"DejaVuSans-119\"/>\r\n       <path d=\"M 44.28125 53.078125 \r\nL 44.28125 44.578125 \r\nQ 40.484375 46.53125 36.375 47.5 \r\nQ 32.28125 48.484375 27.875 48.484375 \r\nQ 21.1875 48.484375 17.84375 46.4375 \r\nQ 14.5 44.390625 14.5 40.28125 \r\nQ 14.5 37.15625 16.890625 35.375 \r\nQ 19.28125 33.59375 26.515625 31.984375 \r\nL 29.59375 31.296875 \r\nQ 39.15625 29.25 43.1875 25.515625 \r\nQ 47.21875 21.78125 47.21875 15.09375 \r\nQ 47.21875 7.46875 41.1875 3.015625 \r\nQ 35.15625 -1.421875 24.609375 -1.421875 \r\nQ 20.21875 -1.421875 15.453125 -0.5625 \r\nQ 10.6875 0.296875 5.421875 2 \r\nL 5.421875 11.28125 \r\nQ 10.40625 8.6875 15.234375 7.390625 \r\nQ 20.0625 6.109375 24.8125 6.109375 \r\nQ 31.15625 6.109375 34.5625 8.28125 \r\nQ 37.984375 10.453125 37.984375 14.40625 \r\nQ 37.984375 18.0625 35.515625 20.015625 \r\nQ 33.0625 21.96875 24.703125 23.78125 \r\nL 21.578125 24.515625 \r\nQ 13.234375 26.265625 9.515625 29.90625 \r\nQ 5.8125 33.546875 5.8125 39.890625 \r\nQ 5.8125 47.609375 11.28125 51.796875 \r\nQ 16.75 56 26.8125 56 \r\nQ 31.78125 56 36.171875 55.265625 \r\nQ 40.578125 54.546875 44.28125 53.078125 \r\nz\r\n\" id=\"DejaVuSans-115\"/>\r\n       <path d=\"M 52 44.1875 \r\nQ 55.375 50.25 60.0625 53.125 \r\nQ 64.75 56 71.09375 56 \r\nQ 79.640625 56 84.28125 50.015625 \r\nQ 88.921875 44.046875 88.921875 33.015625 \r\nL 88.921875 0 \r\nL 79.890625 0 \r\nL 79.890625 32.71875 \r\nQ 79.890625 40.578125 77.09375 44.375 \r\nQ 74.3125 48.1875 68.609375 48.1875 \r\nQ 61.625 48.1875 57.5625 43.546875 \r\nQ 53.515625 38.921875 53.515625 30.90625 \r\nL 53.515625 0 \r\nL 44.484375 0 \r\nL 44.484375 32.71875 \r\nQ 44.484375 40.625 41.703125 44.40625 \r\nQ 38.921875 48.1875 33.109375 48.1875 \r\nQ 26.21875 48.1875 22.15625 43.53125 \r\nQ 18.109375 38.875 18.109375 30.90625 \r\nL 18.109375 0 \r\nL 9.078125 0 \r\nL 9.078125 54.6875 \r\nL 18.109375 54.6875 \r\nL 18.109375 46.1875 \r\nQ 21.1875 51.21875 25.484375 53.609375 \r\nQ 29.78125 56 35.6875 56 \r\nQ 41.65625 56 45.828125 52.96875 \r\nQ 50 49.953125 52 44.1875 \r\nz\r\n\" id=\"DejaVuSans-109\"/>\r\n      </defs>\r\n      <g transform=\"translate(7.2 220.041106)scale(0.1 -0.1)\">\r\n       <use xlink:href=\"#DejaVuSans-84\"/>\r\n       <use x=\"61.083984\" xlink:href=\"#DejaVuSans-104\"/>\r\n       <use x=\"124.462891\" xlink:href=\"#DejaVuSans-101\"/>\r\n       <use x=\"185.986328\" xlink:href=\"#DejaVuSans-32\"/>\r\n       <use x=\"217.773438\" xlink:href=\"#DejaVuSans-83\"/>\r\n       <use x=\"281.25\" xlink:href=\"#DejaVuSans-104\"/>\r\n       <use x=\"344.628906\" xlink:href=\"#DejaVuSans-97\"/>\r\n       <use x=\"405.908203\" xlink:href=\"#DejaVuSans-119\"/>\r\n       <use x=\"487.695312\" xlink:href=\"#DejaVuSans-115\"/>\r\n       <use x=\"539.794922\" xlink:href=\"#DejaVuSans-104\"/>\r\n       <use x=\"603.173828\" xlink:href=\"#DejaVuSans-97\"/>\r\n       <use x=\"664.453125\" xlink:href=\"#DejaVuSans-110\"/>\r\n       <use x=\"727.832031\" xlink:href=\"#DejaVuSans-107\"/>\r\n       <use x=\"785.742188\" xlink:href=\"#DejaVuSans-32\"/>\r\n       <use x=\"817.529297\" xlink:href=\"#DejaVuSans-82\"/>\r\n       <use x=\"882.511719\" xlink:href=\"#DejaVuSans-101\"/>\r\n       <use x=\"944.035156\" xlink:href=\"#DejaVuSans-100\"/>\r\n       <use x=\"1007.511719\" xlink:href=\"#DejaVuSans-101\"/>\r\n       <use x=\"1069.035156\" xlink:href=\"#DejaVuSans-109\"/>\r\n       <use x=\"1166.447266\" xlink:href=\"#DejaVuSans-112\"/>\r\n       <use x=\"1229.923828\" xlink:href=\"#DejaVuSans-116\"/>\r\n       <use x=\"1269.132812\" xlink:href=\"#DejaVuSans-105\"/>\r\n       <use x=\"1296.916016\" xlink:href=\"#DejaVuSans-111\"/>\r\n       <use x=\"1358.097656\" xlink:href=\"#DejaVuSans-110\"/>\r\n      </g>\r\n     </g>\r\n    </g>\r\n   </g>\r\n   <g id=\"patch_9\">\r\n    <path d=\"M 156.346875 239.758125 \r\nL 156.346875 22.318125 \r\n\" style=\"fill:none;stroke:#000000;stroke-linecap:square;stroke-linejoin:miter;stroke-width:0.8;\"/>\r\n   </g>\r\n   <g id=\"patch_10\">\r\n    <path d=\"M 825.946875 239.758125 \r\nL 825.946875 22.318125 \r\n\" style=\"fill:none;stroke:#000000;stroke-linecap:square;stroke-linejoin:miter;stroke-width:0.8;\"/>\r\n   </g>\r\n   <g id=\"patch_11\">\r\n    <path d=\"M 156.346875 239.758125 \r\nL 825.946875 239.758125 \r\n\" style=\"fill:none;stroke:#000000;stroke-linecap:square;stroke-linejoin:miter;stroke-width:0.8;\"/>\r\n   </g>\r\n   <g id=\"patch_12\">\r\n    <path d=\"M 156.346875 22.318125 \r\nL 825.946875 22.318125 \r\n\" style=\"fill:none;stroke:#000000;stroke-linecap:square;stroke-linejoin:miter;stroke-width:0.8;\"/>\r\n   </g>\r\n   <g id=\"text_16\">\r\n    <!-- Popular Movies -->\r\n    <defs>\r\n     <path d=\"M 9.8125 72.90625 \r\nL 24.515625 72.90625 \r\nL 43.109375 23.296875 \r\nL 61.8125 72.90625 \r\nL 76.515625 72.90625 \r\nL 76.515625 0 \r\nL 66.890625 0 \r\nL 66.890625 64.015625 \r\nL 48.09375 14.015625 \r\nL 38.1875 14.015625 \r\nL 19.390625 64.015625 \r\nL 19.390625 0 \r\nL 9.8125 0 \r\nz\r\n\" id=\"DejaVuSans-77\"/>\r\n    </defs>\r\n    <g transform=\"translate(445.862812 16.318125)scale(0.12 -0.12)\">\r\n     <use xlink:href=\"#DejaVuSans-80\"/>\r\n     <use x=\"56.677734\" xlink:href=\"#DejaVuSans-111\"/>\r\n     <use x=\"117.859375\" xlink:href=\"#DejaVuSans-112\"/>\r\n     <use x=\"181.335938\" xlink:href=\"#DejaVuSans-117\"/>\r\n     <use x=\"244.714844\" xlink:href=\"#DejaVuSans-108\"/>\r\n     <use x=\"272.498047\" xlink:href=\"#DejaVuSans-97\"/>\r\n     <use x=\"333.777344\" xlink:href=\"#DejaVuSans-114\"/>\r\n     <use x=\"374.890625\" xlink:href=\"#DejaVuSans-32\"/>\r\n     <use x=\"406.677734\" xlink:href=\"#DejaVuSans-77\"/>\r\n     <use x=\"492.957031\" xlink:href=\"#DejaVuSans-111\"/>\r\n     <use x=\"554.138672\" xlink:href=\"#DejaVuSans-118\"/>\r\n     <use x=\"613.318359\" xlink:href=\"#DejaVuSans-105\"/>\r\n     <use x=\"641.101562\" xlink:href=\"#DejaVuSans-101\"/>\r\n     <use x=\"702.625\" xlink:href=\"#DejaVuSans-115\"/>\r\n    </g>\r\n   </g>\r\n  </g>\r\n </g>\r\n <defs>\r\n  <clipPath id=\"pb57d697d5e\">\r\n   <rect height=\"217.44\" width=\"669.6\" x=\"156.346875\" y=\"22.318125\"/>\r\n  </clipPath>\r\n </defs>\r\n</svg>\r\n",
      "image/png": "[encoded data removed]"
     },
     "metadata": {
      "needs_background": "light"
     }
    }
   ],
   "source": [
    "pop= data.sort_values('popularity', ascending=False)\n",
    "import matplotlib.pyplot as plt\n",
    "plt.figure(figsize=(12,4))\n",
    "\n",
    "plt.barh(pop['title'].head(6),pop['popularity'].head(6), align='center',\n",
    "        color='skyblue')\n",
    "plt.gca().invert_yaxis()\n",
    "plt.xlabel(\"Popularity\")\n",
    "plt.title(\"Popular Movies\")"
   ]
  },
  {
   "cell_type": "code",
   "execution_count": 18,
   "metadata": {},
   "outputs": [
    {
     "output_type": "execute_result",
     "data": {
      "text/plain": "\"Led by Woody, Andy's toys live happily in his room until Andy's birthday brings Buzz Lightyear onto the scene. Afraid of losing his place in Andy's heart, Woody plots against Buzz. But when circumstances separate Buzz and Woody from their owner, the duo eventually learns to put aside their differences.\""
     },
     "metadata": {},
     "execution_count": 18
    }
   ],
   "source": [
    "data['overview'][0]"
   ]
  },
  {
   "cell_type": "code",
   "execution_count": 19,
   "metadata": {},
   "outputs": [],
   "source": [
    "from keras import models, layers\n",
    "#from keras.models import Sequential"
   ]
  },
  {
   "cell_type": "code",
   "execution_count": 20,
   "metadata": {},
   "outputs": [],
   "source": [
    "xtrain = TfidfMatrix[:15000]\n",
    "xtest = TfidfMatrix[15000:]"
   ]
  },
  {
   "cell_type": "code",
   "execution_count": 21,
   "metadata": {},
   "outputs": [
    {
     "output_type": "execute_result",
     "data": {
      "text/plain": "title\nThe Family                                                                  15592\nThe Terrace                                                                 15593\nDreamboat                                                                   15594\nThe Desperados                                                              15595\nGrip of the Strangler                                                       15596\n                                                                            ...  \nRebellion                                                                   19995\nVersailles                                                                  19996\nTwo in the Wave                                                             19997\nLotte Reiniger: Homage to the Inventor of the Silhouette Film               19998\nRKO Production 601: The Making of 'Kong, the Eighth Wonder of the World'    19999\nLength: 4099, dtype: int64"
     },
     "metadata": {},
     "execution_count": 21
    }
   ],
   "source": [
    "ytrain=indices[:15000]\n",
    "ytrain\n",
    "ytest=indices[15000:]\n",
    "ytest"
   ]
  },
  {
   "cell_type": "code",
   "execution_count": 22,
   "metadata": {},
   "outputs": [],
   "source": [
    "model=models.Sequential()\n",
    "model.add(layers.Dense(16,activation='relu',input_shape=(15000,)))  #입력계층\n",
    "#모델에다가 계층 1개를 추가해라\n",
    "model.add(layers.Dense(16,activation='relu'))  #히든계층\n",
    "model.add(layers.Dense(1,activation='sigmoid')) #출력계층"
   ]
  },
  {
   "cell_type": "code",
   "execution_count": 23,
   "metadata": {},
   "outputs": [],
   "source": [
    "model.compile(optimizer='rmsprop',\n",
    "             loss='binary_crossentropy',\n",
    "             metrics=['accuracy'])"
   ]
  },
  {
   "cell_type": "markdown",
   "metadata": {},
   "source": [
    "# 아이템 기반 최근접 이웃 협업 필터링으로 개인화된 영화 추천"
   ]
  },
  {
   "cell_type": "code",
   "execution_count": 26,
   "metadata": {},
   "outputs": [],
   "source": [
    "ratings = pd.read_csv('bundle_archive/ratings.csv')"
   ]
  },
  {
   "cell_type": "code",
   "execution_count": null,
   "metadata": {},
   "outputs": [],
   "source": []
  },
  {
   "cell_type": "code",
   "execution_count": 24,
   "metadata": {},
   "outputs": [],
   "source": [
    "def predict_rating(rating_arr, item_sim_arr):\n",
    "    rating_pred = rating_arr.dot(item_sim_arr)/ np.array([np.abs(item_sim_arr).sum(axis = 1)])\n",
    "    return rating_pred"
   ]
  },
  {
   "cell_type": "code",
   "execution_count": null,
   "metadata": {},
   "outputs": [],
   "source": [
    "rating_pred = predict_rating(ra)"
   ]
  }
 ]
}