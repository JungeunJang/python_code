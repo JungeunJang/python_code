{
 "cells": [
  {
   "cell_type": "code",
   "execution_count": 188,
   "metadata": {},
   "outputs": [
    {
     "output_type": "stream",
     "name": "stdout",
     "text": "3.75 3.5 2.75 4.5 3.125 1.0\n"
    }
   ],
   "source": [
    "critics={\n",
    "  'BTS':{'암수살인':5, '바울':4, '할로윈':1.5},\n",
    "  '손흥민':{'바울':5, '할로윈':2},\n",
    "  '레드벨벳':{'암수살인':2.5, '바울':2, '할로윈':1},\n",
    "  '트와이스':{'암수살인':3.5, '바울':4, '할로윈':5}\n",
    "}\n",
    "import math\n",
    "import numpy as numpy\n",
    "critics.keys()\n",
    "valueslist = critics.values()\n",
    "\n",
    "count = 0\n",
    "sum_1 = 0\n",
    "sum_2 = 0\n",
    "dist0 = 0\n",
    "var1 = 0\n",
    "var2 = 0\n",
    "corr = 0\n",
    "for i in critics['손흥민']:\n",
    "    if i in critics['BTS']:\n",
    "        count += 1\n",
    "        sum_1 += critics['손흥민'][i]\n",
    "        sum_2 += critics['BTS'][i]\n",
    "mean_1 = sum_1/count\n",
    "mean_2 = sum_2/count\n",
    "\n",
    "for i in critics['손흥민']:\n",
    "    if i in critics['BTS']:\n",
    "        dist0 += (critics['손흥민'][i]-mean_1)*(critics['BTS'][i]-mean_2)\n",
    "cov = dist0\n",
    "\n",
    "for i in critics['손흥민']:\n",
    "    if i in critics['BTS']:\n",
    "        var1 += pow(critics['손흥민'][i]-mean_1, 2)\n",
    "        var2 += pow(critics['BTS'][i]-mean_2, 2)\n",
    "corr = cov/(math.sqrt(var1)*math.sqrt(var2))\n",
    "\n",
    "print(cov, mean_1, mean_2, var1, var2, corr)"
   ]
  },
  {
   "cell_type": "code",
   "execution_count": 190,
   "metadata": {},
   "outputs": [],
   "source": [
    "import math\n",
    "def simPearson(data, name1, name2):\n",
    "    count = 0\n",
    "    sum_1 = 0 \n",
    "    sum_2 = 0 \n",
    "    dist1 = 0\n",
    "    dist2 = 0\n",
    "    dist0 = 0\n",
    "    dist0 = 0\n",
    "    var1 = 0\n",
    "    var2 = 0\n",
    "    corr = 0\n",
    "\n",
    "    for i in data[name1]:\n",
    "        if i in data[name2]:\n",
    "            count += 1\n",
    "            sum_1 += data[name1][i]\n",
    "            sum_2 += data[name2][i]\n",
    "    mean_1 = sum_1/count\n",
    "    mean_2 = sum_2/count\n",
    "\n",
    "    for i in data[name1]:\n",
    "        if i in data[name2]:\n",
    "            dist0 += (data[name1][i]-mean_1)*(data[name2][i]-mean_2)\n",
    "    cov = dist0\n",
    "    \n",
    "    for i in data[name1]:\n",
    "        if i in data[name2]:\n",
    "            dist1 += pow(data[name1][i]-mean_1,2)\n",
    "            dist2 += pow(data[name2][i]-mean_2,2)\n",
    "    std1 = math.sqrt(dist1)\n",
    "    std2 = math.sqrt(dist2)\n",
    "\n",
    "    corr = cov/(std1*std2)\n",
    "    return corr"
   ]
  },
  {
   "cell_type": "code",
   "execution_count": 192,
   "metadata": {},
   "outputs": [
    {
     "output_type": "stream",
     "name": "stdout",
     "text": "1.0 0.9986254289035241 -0.998625428903524 -1.0 1.0 -0.9999999999999998\n"
    }
   ],
   "source": [
    "corr1 = simPearson(critics, 'BTS', '손흥민')\n",
    "corr1\n",
    "\n",
    "corr2 = simPearson(critics, 'BTS', '레드벨벳')\n",
    "corr2\n",
    "\n",
    "corr3 = simPearson(critics, 'BTS', '트와이스')\n",
    "corr3\n",
    "\n",
    "corr4 = simPearson(critics, '손흥민', '트와이스')\n",
    "corr4\n",
    "\n",
    "corr5 = simPearson(critics, '손흥민', '레드벨벳')\n",
    "corr5\n",
    "\n",
    "corr6 = simPearson(critics, '트와이스', '레드벨벳')\n",
    "corr6\n",
    "\n",
    "print(corr1,corr2,corr3,corr4,corr5,corr6)"
   ]
  }
 ],
 "metadata": {
  "language_info": {
   "codemirror_mode": {
    "name": "ipython",
    "version": 3
   },
   "file_extension": ".py",
   "mimetype": "text/x-python",
   "name": "python",
   "nbconvert_exporter": "python",
   "pygments_lexer": "ipython3",
   "version": "3.7.7-final"
  },
  "orig_nbformat": 2,
  "kernelspec": {
   "name": "python37764bit4dda73a9a4c74a0399c4c617d3b49df0",
   "display_name": "Python 3.7.7 64-bit"
  }
 },
 "nbformat": 4,
 "nbformat_minor": 2
}