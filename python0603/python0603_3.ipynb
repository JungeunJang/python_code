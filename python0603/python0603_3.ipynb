{
 "cells": [
  {
   "cell_type": "code",
   "execution_count": 116,
   "metadata": {},
   "outputs": [
    {
     "output_type": "execute_result",
     "data": {
      "text/plain": "   0  1\n0  2  4\n1  6  8",
      "text/html": "<div>\n<style scoped>\n    .dataframe tbody tr th:only-of-type {\n        vertical-align: middle;\n    }\n\n    .dataframe tbody tr th {\n        vertical-align: top;\n    }\n\n    .dataframe thead th {\n        text-align: right;\n    }\n</style>\n<table border=\"1\" class=\"dataframe\">\n  <thead>\n    <tr style=\"text-align: right;\">\n      <th></th>\n      <th>0</th>\n      <th>1</th>\n    </tr>\n  </thead>\n  <tbody>\n    <tr>\n      <th>0</th>\n      <td>2</td>\n      <td>4</td>\n    </tr>\n    <tr>\n      <th>1</th>\n      <td>6</td>\n      <td>8</td>\n    </tr>\n  </tbody>\n</table>\n</div>"
     },
     "metadata": {},
     "execution_count": 116
    }
   ],
   "source": [
    "import pandas as pd\n",
    "import numpy as np\n",
    "\n",
    "#Table Wise Fuction\n",
    "def adder(a, b):\n",
    "    return a+b\n",
    "\n",
    "ds = pd.Series([11, 21, 31, 41, 51])\n",
    "ds\n",
    "ds.pipe(adder, 4)\n",
    "\n",
    "df = pd.DataFrame(np.random.rand(6,3), columns=['col1', 'col2', 'col3'])\n",
    "df.pipe(adder, 5)\n",
    "\n",
    "#Row or columns wise function\n",
    "def myfunc(x):\n",
    "    return x*x\n",
    "\n",
    "ds.apply(myfunc)\n",
    "df2 = pd.DataFrame([[1,2], [3,4]])\n",
    "df2\n",
    "df2.apply(myfunc, axis=0)\n",
    "df2.apply(myfunc, axis=1)\n",
    "\n",
    "f = lambda x:x * 2\n",
    "df2.apply(f)\n",
    "\n"
   ]
  },
  {
   "cell_type": "code",
   "execution_count": 125,
   "metadata": {},
   "outputs": [
    {
     "output_type": "execute_result",
     "data": {
      "text/plain": "1    2\n5    1\n4    1\n3    1\n2    1\nName: col1, dtype: int64"
     },
     "metadata": {},
     "execution_count": 125
    }
   ],
   "source": [
    "import pandas as pd\n",
    "import numpy as np\n",
    "\n",
    "df = pd.DataFrame([[1,2],[3,3],[4,5], [1,2],[2,3],[5,6]], columns=['col1','col2'])\n",
    "df.shape\n",
    "df['col1'].unique\n",
    "df['col1'].value_counts()\n"
   ]
  }
 ],
 "metadata": {
  "language_info": {
   "codemirror_mode": {
    "name": "ipython",
    "version": 3
   },
   "file_extension": ".py",
   "mimetype": "text/x-python",
   "name": "python",
   "nbconvert_exporter": "python",
   "pygments_lexer": "ipython3",
   "version": "3.7.7-final"
  },
  "orig_nbformat": 2,
  "kernelspec": {
   "name": "python37764bit4dda73a9a4c74a0399c4c617d3b49df0",
   "display_name": "Python 3.7.7 64-bit"
  }
 },
 "nbformat": 4,
 "nbformat_minor": 2
}