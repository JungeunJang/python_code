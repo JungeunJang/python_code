{
 "cells": [
  {
   "cell_type": "code",
   "execution_count": 2,
   "metadata": {},
   "outputs": [
    {
     "output_type": "error",
     "ename": "SyntaxError",
     "evalue": "invalid syntax (<ipython-input-2-2b52628d3df8>, line 6)",
     "traceback": [
      "\u001b[1;36m  File \u001b[1;32m\"<ipython-input-2-2b52628d3df8>\"\u001b[1;36m, line \u001b[1;32m6\u001b[0m\n\u001b[1;33m    'name':['a', 'b','c','d','e']\u001b[0m\n\u001b[1;37m         ^\u001b[0m\n\u001b[1;31mSyntaxError\u001b[0m\u001b[1;31m:\u001b[0m invalid syntax\n"
     ]
    }
   ],
   "source": [
    "import pandas as pd\n",
    "import numpy as np\n",
    "\n",
    "left = pd.DataFrame({\n",
    "    'id':[1,2,3,4,5]\n",
    "    'name':['a', 'b','c','d','e']\n",
    "    'subject_id':['sub1', 'sub2', 'sub4','sub6','sub5']\n",
    "})\n",
    "right = pd.DataFrame({\n",
    "    'id':[1,2,3,4,5]\n",
    "    'name':['a1', 'b1','c1','d1','e1']\n",
    "    'subject_id':['sub2', 'sub4', 'sub3','sub6','sub5']\n",
    "})"
   ]
  }
 ],
 "metadata": {
  "language_info": {
   "codemirror_mode": {
    "name": "ipython",
    "version": 3
   },
   "file_extension": ".py",
   "mimetype": "text/x-python",
   "name": "python",
   "nbconvert_exporter": "python",
   "pygments_lexer": "ipython3",
   "version": "3.7.7-final"
  },
  "orig_nbformat": 2,
  "kernelspec": {
   "name": "python37764bit4dda73a9a4c74a0399c4c617d3b49df0",
   "display_name": "Python 3.7.7 64-bit"
  }
 },
 "nbformat": 4,
 "nbformat_minor": 2
}