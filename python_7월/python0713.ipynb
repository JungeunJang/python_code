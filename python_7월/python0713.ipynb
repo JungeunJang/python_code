{
 "cells": [
  {
   "cell_type": "code",
   "execution_count": null,
   "metadata": {},
   "outputs": [],
   "source": [
    "import pandas as pd\n",
    "import numpy as np\n",
    "import matplotlib.pyplot as plt\n",
    "import seaborn as sns\n",
    "from sklearn.ensemble import RandomForestClassifier"
   ]
  },
  {
   "cell_type": "code",
   "execution_count": null,
   "metadata": {},
   "outputs": [],
   "source": [
    "train = pd.read_csv('Kaggle/bike-sharing-demand/train.csv', parse_dates=['datetime'])\n",
    "test = pd.read_csv('Kaggle/bike-sharing-demand/test.csv', parse_dates=['datetime'])"
   ]
  },
  {
   "cell_type": "code",
   "execution_count": null,
   "metadata": {},
   "outputs": [],
   "source": [
    "train['year'] = train.datetime.dt.year\n",
    "train['month'] = train.datetime.dt.month\n",
    "train['day'] = train.datetime.dt.day\n",
    "train['hour'] = train.datetime.dt.hour\n",
    "train['minute'] = train.datetime.dt.minute\n",
    "train['second'] = train.datetime.dt.second\n",
    "train['dayofweek'] = train.datetime.dt.dayofweek"
   ]
  },
  {
   "cell_type": "code",
   "execution_count": null,
   "metadata": {},
   "outputs": [],
   "source": [
    "cfn = ['season', 'holiday', 'workingday', 'weather', 'dayofweek','month', 'year', 'hour']\n",
    "\n",
    "for v in cfn:\n",
    "    train[v] =train[v].astype('category')\n",
    "    test[v].astype('category') "
   ]
  },
  {
   "cell_type": "code",
   "execution_count": null,
   "metadata": {},
   "outputs": [],
   "source": [
    "fn = ['season', 'holiday', 'workingday', 'weather', 'dayofweek','month', 'year', 'hour', 'temp','humidity']\n"
   ]
  },
  {
   "cell_type": "code",
   "execution_count": null,
   "metadata": {},
   "outputs": [],
   "source": [
    "train[fn].shape\n",
    "test[fn].shape\n",
    "ytrain = train['count']\n",
    "xTrain = train[fn]\n",
    "xTest = test[fn]"
   ]
  },
  {
   "cell_type": "code",
   "execution_count": null,
   "metadata": {},
   "outputs": [],
   "source": [
    "def rmsle(av, pv):\n",
    "    # print(av)\n",
    "    av = np.array(av)\n",
    "    pv = np.array(pv)\n",
    "    logav = np.log(av+1) #로그를 씌워주는 것은 정규분포로 만들어주기 위함\n",
    "    logpv = np.log(pv+1)\n",
    "    diff = logpv - logav\n",
    "    ds = np.square(diff)\n",
    "    md = ds.mean()\n",
    "    score = np.sqrt(md)\n",
    "    return score\n",
    "# 회귀모델 -> 예측값 -> 실제값과의 차이-> 스코어 계산(rmsle)"
   ]
  },
  {
   "cell_type": "code",
   "execution_count": null,
   "metadata": {},
   "outputs": [],
   "source": [
    "from sklearn.linear_model import LinearRegression\n",
    "# linear regression, lasso, ridge\n",
    "from sklearn.model_selection import GridSearchCV\n",
    "from sklearn import metrics"
   ]
  },
  {
   "cell_type": "code",
   "execution_count": null,
   "metadata": {},
   "outputs": [],
   "source": [
    "model = LinearRegression()\n",
    "yTrain = np.log1p(ytrain)\n",
    "model.fit(xTrain, yTrain)\n",
    "\n",
    "predictions = model.predict(xTrain)\n",
    "print(rmsle(np.exp(yTrain), np.exp(predictions)))"
   ]
  }
 ],
 "metadata": {
  "language_info": {
   "codemirror_mode": {
    "name": "ipython",
    "version": 3
   },
   "file_extension": ".py",
   "mimetype": "text/x-python",
   "name": "python",
   "nbconvert_exporter": "python",
   "pygments_lexer": "ipython3",
   "version": 3
  },
  "orig_nbformat": 2
 },
 "nbformat": 4,
 "nbformat_minor": 2
}