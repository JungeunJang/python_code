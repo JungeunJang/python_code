{
 "cells": [
  {
   "cell_type": "code",
   "execution_count": 10,
   "metadata": {},
   "outputs": [
    {
     "output_type": "execute_result",
     "data": {
      "text/plain": "5"
     },
     "metadata": {},
     "execution_count": 10
    }
   ],
   "source": [
    "critics={\n",
    "  'BTS':{'암수살인':5, '바울':4, '할로윈':1.5},\n",
    "  '손흥민':{'바울':5, '할로윈':2},\n",
    "  '레드벨벳':{'암수살인':2.5, '바울':2, '할로윈':1},\n",
    "  '트와이스':{'암수살인':3.5, '바울':4, '할로윈':5}\n",
    "}\n",
    "\n",
    "\n",
    "critics['손흥민']\n",
    "critics.get('손흥민')\n",
    "critics['손흥민']['바울']"
   ]
  },
  {
   "cell_type": "code",
   "execution_count": 26,
   "metadata": {},
   "outputs": [],
   "source": [
    "#(1,2), (3,2) 두점사이의 거리 \n",
    "\n",
    "from math import sqrt\n",
    "\n",
    "sqrt(pow(3-1,2)+pow(2-2,2))\n",
    "\n",
    "def distance():\n",
    "    power = (x2-x1)^2 +(y1-y2)^2\n",
    "    dis = sqrt(power)\n",
    "\n",
    "def sim(i, j):\n",
    "    return sqrt(pow(i,2)+pow(j,2))\n"
   ]
  },
  {
   "cell_type": "code",
   "execution_count": 24,
   "metadata": {},
   "outputs": [
    {
     "output_type": "execute_result",
     "data": {
      "text/plain": "1.118033988749895"
     },
     "metadata": {},
     "execution_count": 24
    }
   ],
   "source": [
    "v1 = critics['손흥민']['바울'] - critics['BTS']['바울']\n",
    "v2 = critics['손흥민']['할로윈'] - critics['BTS']['할로윈']\n",
    "sim(v1, v2)"
   ]
  },
  {
   "cell_type": "code",
   "execution_count": 30,
   "metadata": {},
   "outputs": [
    {
     "output_type": "stream",
     "name": "stdout",
     "text": "BTS : 1.118033988749895\nBTS : 0.4721359549995794\n손흥민 : 1.118033988749895\n손흥민 : 0.4721359549995794\n레드벨벳 : 3.1622776601683795\n레드벨벳 : 0.2402530733520421\n트와이스 : 3.1622776601683795\n트와이스 : 0.2402530733520421\n"
    }
   ],
   "source": [
    "for i in critics:\n",
    "    if i != '손흥민':\n",
    "        v1 = critics['손흥민']['바울'] - critics[i]['바울']\n",
    "        v2 = critics['손흥민']['할로윈'] - critics[i]['할로윈']\n",
    "    print(i, \":\", sim(v1,v2))\n",
    "    print(i, \":\", 1/(1+sim(v1,v2)))\n"
   ]
  },
  {
   "cell_type": "code",
   "execution_count": 39,
   "metadata": {},
   "outputs": [
    {
     "output_type": "execute_result",
     "data": {
      "text/plain": "0.20799159651347807"
     },
     "metadata": {},
     "execution_count": 39
    }
   ],
   "source": [
    "#유클리디안 거리 공식 \n",
    "\n",
    "def simDistance(data, name1, name2):\n",
    "    sum = 0\n",
    "    for i in data[name1]: #i는 bts가 본 영화제목\n",
    "        if i in data[name2]:\n",
    "            sum += pow(data[name1][i] - data[name2][i],2)\n",
    "    return 1/(1+sqrt(sum))\n",
    "\n",
    "simDistance(critics, 'BTS', '트와이스')\n"
   ]
  },
  {
   "cell_type": "code",
   "execution_count": 47,
   "metadata": {},
   "outputs": [],
   "source": [
    "def topMatch(data, name, index =2, simFunction = simDistance):\n",
    "    res = []\n",
    "    for i in data:\n",
    "        # print(i)\n",
    "        if name != i:\n",
    "           res.append((simFunction(data, name, i),i))\n",
    "    res.sort()\n",
    "    return res[:index]\n",
    "    #구현 부분\n",
    "    # print(index)\n",
    "\n",
    "\n"
   ]
  },
  {
   "cell_type": "code",
   "execution_count": 48,
   "metadata": {},
   "outputs": [
    {
     "output_type": "execute_result",
     "data": {
      "text/plain": "[(0.179128784747792, '레드벨벳'),\n (0.20799159651347807, 'BTS'),\n (0.2402530733520421, '손흥민')]"
     },
     "metadata": {},
     "execution_count": 48
    }
   ],
   "source": [
    "topMatch(critics, 'BTS')\n",
    "topMatch(critics, '트와이스')\n"
   ]
  },
  {
   "cell_type": "code",
   "execution_count": 87,
   "metadata": {},
   "outputs": [
    {
     "output_type": "stream",
     "name": "stdout",
     "text": "0.0\n"
    }
   ],
   "source": [
    "import pandas as pd\n",
    "import numpy as np\n",
    "\n",
    "\n",
    "# .values()\n",
    "# print(_sum/count)\n",
    "# def correlation(data, name1, name2):\n",
    "#     mean1 = data[name1].mean()\n",
    "#     mean2 = data[name2].mean()\n",
    "#     covariance = mean(data[name1][i]-name1)*(data[name2][i]-maen))"
   ]
  },
  {
   "cell_type": "code",
   "execution_count": 65,
   "metadata": {},
   "outputs": [
    {
     "output_type": "execute_result",
     "data": {
      "text/plain": "<re.Match object; span=(0, 5), match='hello'>"
     },
     "metadata": {},
     "execution_count": 65
    }
   ],
   "source": [
    "#re.match(패턴, 문자열)\n",
    "#패턴이 문자열 속에 있습니까? 있다면 어디에 있습니가?\n",
    "import re\n",
    "re.match('hello', 'hello world')\n",
    "# re.match()"
   ]
  },
  {
   "cell_type": "code",
   "execution_count": 101,
   "metadata": {},
   "outputs": [
    {
     "output_type": "stream",
     "name": "stdout",
     "text": "<re.Match object; span=(0, 8), match='001-1234'>\nNone\n맞음\n거짓\n"
    }
   ],
   "source": [
    "re.match('[0-9]', '1234')\n",
    "#[0-9] 0부터 9까지의 수\n",
    "re.match('[0-9]+', '1234')\n",
    "#더하기의 의미는 한글자 이상\n",
    "\n",
    "re.match('[0-9]+', '12a34')\n",
    "re.match('a*b', 'b') #*의 의미는 a문자가 0개 이상 있으면서 반드시 그 뒤에 b가 와야함\n",
    "\n",
    "re.match('abc?d', 'abd')\n",
    "#?는 ?앞에 문자가 0개 또는 1개 있으면 매칭\n",
    "\n",
    "re.match('ab.d', 'abd')\n",
    "#.은 .이 있는 위치에 아무 무자가 1개가 있으면 매칭\n",
    "\n",
    "re.match('ab.d', 'abxd')\n",
    "\n",
    "#문자[3] -> 문자가 3개\n",
    "re.match('h{3}', 'hhhhhhheeeeellllo')\n",
    "\n",
    "re.match('[0-9]+', '0')\n",
    "\n",
    "re.match('[0-9]+-', '010-')\n",
    "# 다 매칭됨\n",
    "\n",
    "re.match('[0-9]{3}', '001-')\n",
    "\n",
    "print(re.match('[0-9]{3}-[0-9]{4}', '001-1234'))\n",
    "print(re.match('[0-9]{3}-[0-9]{4}', '0010-1234'))\n",
    "\n",
    "res = re.match('[0-9]{3}-[0-9]{4}', '010-1234')\n",
    "\n",
    "if res:\n",
    "    print('맞음')\n",
    "else:\n",
    "    print('틀림')\n",
    "\n",
    "x= None #none은 거짓임 \n",
    "if x:\n",
    "    print('맞움')\n",
    "else:\n",
    "    print('거짓')\n"
   ]
  }
 ],
 "metadata": {
  "language_info": {
   "codemirror_mode": {
    "name": "ipython",
    "version": 3
   },
   "file_extension": ".py",
   "mimetype": "text/x-python",
   "name": "python",
   "nbconvert_exporter": "python",
   "pygments_lexer": "ipython3",
   "version": "3.7.7-final"
  },
  "orig_nbformat": 2,
  "kernelspec": {
   "name": "python37764bit4dda73a9a4c74a0399c4c617d3b49df0",
   "display_name": "Python 3.7.7 64-bit"
  }
 },
 "nbformat": 4,
 "nbformat_minor": 2
}