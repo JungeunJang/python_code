{
 "cells": [
  {
   "cell_type": "code",
   "execution_count": 1,
   "metadata": {},
   "outputs": [
    {
     "output_type": "error",
     "ename": "IndentationError",
     "evalue": "expected an indented block (<ipython-input-1-c3e9b18a1793>, line 23)",
     "traceback": [
      "\u001b[1;36m  File \u001b[1;32m\"<ipython-input-1-c3e9b18a1793>\"\u001b[1;36m, line \u001b[1;32m23\u001b[0m\n\u001b[1;33m    get_ipython().run_line_magic('matplotlib', 'inline')\u001b[0m\n\u001b[1;37m              ^\u001b[0m\n\u001b[1;31mIndentationError\u001b[0m\u001b[1;31m:\u001b[0m expected an indented block\n"
     ]
    }
   ],
   "source": [
    "from wordcloud import wordcloud, STOPWORDS\n",
    "import numpy as np\n",
    "from PIL import Image\n",
    "\n",
    "text = open('../data/어린왕자.txt')\n",
    "mask = np.array(Image.open('../data/09. heart.jpg'))\n",
    "\n",
    "import matplotlib.pyplot as plt\n",
    "import platform\n",
    "\n",
    "path = \"c:/Wimdows/Fonts/malgun.ttf\"\n",
    "from matplotlib import font_manager, rc\n",
    "import platform\n",
    "plt.rcParams['axes.unicode_minus'] = False\n",
    "if platform.system() == 'Darwin':\n",
    "    rc('font', family='AppleGothic')\n",
    "elif platform.system() == 'Windows':\n",
    "    path = \"c:/Windows/Fonts/malgun.ttf\"\n",
    "    font_name = font_manager.FontProperties(fname=path).get_name()\n",
    "    rc('font', family=font_name)\n",
    "else:\n",
    "\n",
    "%matplotlib inline\n",
    "\n",
    "plt.figure(figsize=(12,12))\n",
    "# stopwords = set(stopwords)\n",
    "# stopwords.add('말했다')"
   ]
  },
  {
   "cell_type": "code",
   "execution_count": 3,
   "metadata": {},
   "outputs": [
    {
     "output_type": "stream",
     "name": "stdout",
     "text": "showing info https://raw.githubusercontent.com/nltk/nltk_data/gh-pages/index.xml\n"
    }
   ],
   "source": [
    "from konlpy.corpus import kolaw\n",
    "c = kolaw.open('constitution.txt').read()\n",
    "\n",
    "import nltk\n",
    "nltk.download()\n",
    "from nltk.tokenize import sent_tokenize\n",
    "c_sent = sent_tokenize(c)\n",
    "# c_sent\n",
    "# from nltk.tokenize import word_tokenize\n",
    "# c_words = words_tokenize(c)\n",
    "# c_words\n"
   ]
  },
  {
   "cell_type": "code",
   "execution_count": null,
   "metadata": {},
   "outputs": [],
   "source": [
    "from konlpy.tag import Twitter\n",
    "\n",
    "t =Twitter()\n",
    "token_c = t.morphs(c)\n",
    "token_c\n",
    "\n",
    "# nouns_c = t.nouns(c)\n",
    "# nouns_c\n",
    "\n",
    "d = nltk.Text(token_c)\n",
    "d.vocab()\n",
    "d.count('대한민국')\n",
    "nltk.download('stopwords')\n",
    "\n",
    "from konlpy.tag import Kkma\n",
    "kkma =Kkma()\n",
    "nc = kk.nouns(c)\n",
    "nt=nltk.Text(nc)\n",
    "nt.vocab()"
   ]
  },
  {
   "cell_type": "code",
   "execution_count": null,
   "metadata": {},
   "outputs": [],
   "source": [
    "nt.plot(30)"
   ]
  }
 ],
 "metadata": {
  "language_info": {
   "codemirror_mode": {
    "name": "ipython",
    "version": 3
   },
   "file_extension": ".py",
   "mimetype": "text/x-python",
   "name": "python",
   "nbconvert_exporter": "python",
   "pygments_lexer": "ipython3",
   "version": "3.7.7-final"
  },
  "orig_nbformat": 2,
  "kernelspec": {
   "name": "python37764bit4dda73a9a4c74a0399c4c617d3b49df0",
   "display_name": "Python 3.7.7 64-bit"
  }
 },
 "nbformat": 4,
 "nbformat_minor": 2
}