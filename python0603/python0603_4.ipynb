{
 "cells": [
  {
   "cell_type": "code",
   "execution_count": 211,
   "metadata": {},
   "outputs": [
    {
     "output_type": "execute_result",
     "data": {
      "text/plain": "   col1  col2\na  10.0   2.0\nb  11.0   4.0\nc  12.0   2.0",
      "text/html": "<div>\n<style scoped>\n    .dataframe tbody tr th:only-of-type {\n        vertical-align: middle;\n    }\n\n    .dataframe tbody tr th {\n        vertical-align: top;\n    }\n\n    .dataframe thead th {\n        text-align: right;\n    }\n</style>\n<table border=\"1\" class=\"dataframe\">\n  <thead>\n    <tr style=\"text-align: right;\">\n      <th></th>\n      <th>col1</th>\n      <th>col2</th>\n    </tr>\n  </thead>\n  <tbody>\n    <tr>\n      <th>a</th>\n      <td>10.0</td>\n      <td>2.0</td>\n    </tr>\n    <tr>\n      <th>b</th>\n      <td>11.0</td>\n      <td>4.0</td>\n    </tr>\n    <tr>\n      <th>c</th>\n      <td>12.0</td>\n      <td>2.0</td>\n    </tr>\n  </tbody>\n</table>\n</div>"
     },
     "metadata": {},
     "execution_count": 211
    }
   ],
   "source": [
    "import pandas as pd\n",
    "import numpy as numpy\n",
    "\n",
    "df = pd.read_csv(\"../data/student.csv\", sep=\",\", header=None, skiprows=1, names =['col1', 'col2', 'col3', 'col4', 'col5', 'col6','col7'], index_col='col6')\n",
    "# df.loc[157.1]\n",
    "df\n",
    "\n",
    "df2 = pd.DataFrame([[10,2],[11,4],[12,2],[13,4],[15,2],[15,4]], columns=['col1','col2'], index = ['a','b','c','d','e','f'])\n",
    "df3 = df2.reindex(['a','a1','b','b1','c','c1'])\n",
    "#NaN(Not a Number)\n",
    "\n",
    "df3['col1'].isnull()\n",
    "df3.isnull()\n",
    "df3['col1'].fillna(0)\n",
    "df3.fillna(0)\n",
    "df3.fillna(method='pad')\n",
    "df3.dropna()\n"
   ]
  },
  {
   "cell_type": "code",
   "execution_count": null,
   "metadata": {},
   "outputs": [],
   "source": []
  }
 ],
 "metadata": {
  "language_info": {
   "codemirror_mode": {
    "name": "ipython",
    "version": 3
   },
   "file_extension": ".py",
   "mimetype": "text/x-python",
   "name": "python",
   "nbconvert_exporter": "python",
   "pygments_lexer": "ipython3",
   "version": "3.7.7-final"
  },
  "orig_nbformat": 2,
  "kernelspec": {
   "name": "python37764bit4dda73a9a4c74a0399c4c617d3b49df0",
   "display_name": "Python 3.7.7 64-bit"
  }
 },
 "nbformat": 4,
 "nbformat_minor": 2
}