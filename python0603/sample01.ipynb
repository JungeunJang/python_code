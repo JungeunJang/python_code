{
 "cells": [
  {
   "cell_type": "code",
   "execution_count": 1,
   "metadata": {
    "tags": [
     "outputPrepend"
    ]
   },
   "outputs": [
    {
     "output_type": "error",
     "ename": "NameError",
     "evalue": "name 'folium' is not defined",
     "traceback": [
      "\u001b[1;31m---------------------------------------------------------------------------\u001b[0m",
      "\u001b[1;31mNameError\u001b[0m                                 Traceback (most recent call last)",
      "\u001b[1;32m<ipython-input-1-edcf02b9d4c0>\u001b[0m in \u001b[0;36m<module>\u001b[1;34m\u001b[0m\n\u001b[0;32m     39\u001b[0m \u001b[0mdf\u001b[0m\u001b[1;33m\u001b[0m\u001b[1;33m\u001b[0m\u001b[0m\n\u001b[0;32m     40\u001b[0m \u001b[1;33m\u001b[0m\u001b[0m\n\u001b[1;32m---> 41\u001b[1;33m \u001b[0mfolium\u001b[0m\u001b[1;33m.\u001b[0m\u001b[0mMap\u001b[0m\u001b[1;33m(\u001b[0m\u001b[0mlocation\u001b[0m\u001b[1;33m=\u001b[0m\u001b[1;33m[\u001b[0m\u001b[1;36m36.6029863\u001b[0m\u001b[1;33m,\u001b[0m \u001b[1;36m126.5489114\u001b[0m\u001b[1;33m]\u001b[0m\u001b[1;33m,\u001b[0m \u001b[0mzoom_start\u001b[0m\u001b[1;33m=\u001b[0m\u001b[1;36m11\u001b[0m\u001b[1;33m)\u001b[0m\u001b[1;33m\u001b[0m\u001b[1;33m\u001b[0m\u001b[0m\n\u001b[0m",
      "\u001b[1;31mNameError\u001b[0m: name 'folium' is not defined"
     ]
    }
   ],
   "source": [
    "import numpy as np\n",
    "import pandas as pd\n",
    "import requests\n",
    "import json\n",
    "\n",
    "url_stores = \"https://8oi9s0nnth.apigw.ntruss.com/corona19-masks/v1/stores/json\"\n",
    "url_sales = \"https://8oi9s0nnth.apigw.ntruss.com/corona19-masks/v1/sales/json?page=1\"\n",
    "json_stores = requests.get(url_stores).json()\n",
    "json_sales = requests.get(url_sales).json()\n",
    "json_stores\n",
    "json_sales\n",
    "\n",
    "data_stores = []\n",
    "\n",
    "size_stores = len(json_stores['storeInfos'])\n",
    "for inx in range(size_stores):\n",
    "    # print(json_stores['storeInfos'][inx]['code'], json_stores['storeInfos'][inx]['name'])\n",
    "    code, name =json_stores['storeInfos'][inx]['code'], json_stores['storeInfos'][inx]['name'] \n",
    "    data_stores.append([code, name])\n",
    "\n",
    "df_stores = pd.DataFrame(data_stores, columns=['code', 'name'])\n",
    "df_stores.shape\n",
    "df_stores\n",
    "data_sales = []\n",
    "size_sales = len(json_sales['sales'])\n",
    "for inx in range(size_sales):\n",
    "#     print(json_sales['sales'][inx]['code'],\n",
    "#         json_sales['sales'][inx]['remain_stat'])\n",
    "    code, remain_stat = json_sales['sales'][inx]['code'],json_sales['sales'][inx]['remain_stat']\n",
    "    data_sales.append([code, remain_stat])\n",
    "df_sales = pd.DataFrame(data_sales, columns=['code', 'remain_stat'])\n",
    "df_sales.head()\n",
    "df_stores.head()\n",
    "\n",
    "df = pd.merge(df_stores, df_sales, on='code')\n",
    "df\n",
    "kinds = {'plenty':'충분함', 'some':'보통'}\n",
    "df['remain_stat'] = df['remain_stat'].map(kinds)\n",
    "df\n",
    "\n",
    "folium.Map(location=[36.6029863, 126.5489114], zoom_start=11)"
   ]
  },
  {
   "cell_type": "code",
   "execution_count": 2,
   "metadata": {},
   "outputs": [
    {
     "output_type": "error",
     "ename": "NameError",
     "evalue": "name 'folium' is not defined",
     "traceback": [
      "\u001b[1;31m---------------------------------------------------------------------------\u001b[0m",
      "\u001b[1;31mNameError\u001b[0m                                 Traceback (most recent call last)",
      "\u001b[1;32m<ipython-input-2-6d4b66bd5fe7>\u001b[0m in \u001b[0;36m<module>\u001b[1;34m\u001b[0m\n\u001b[0;32m     10\u001b[0m \u001b[0mdf\u001b[0m \u001b[1;33m=\u001b[0m \u001b[0mpd\u001b[0m\u001b[1;33m.\u001b[0m\u001b[0mmerge\u001b[0m\u001b[1;33m(\u001b[0m\u001b[0mdf_stores\u001b[0m\u001b[1;33m,\u001b[0m \u001b[0mdf_sales\u001b[0m\u001b[1;33m,\u001b[0m \u001b[0mon\u001b[0m\u001b[1;33m=\u001b[0m\u001b[1;34m'code'\u001b[0m\u001b[1;33m)\u001b[0m\u001b[1;33m\u001b[0m\u001b[1;33m\u001b[0m\u001b[0m\n\u001b[0;32m     11\u001b[0m \u001b[1;31m# df.head()\u001b[0m\u001b[1;33m\u001b[0m\u001b[1;33m\u001b[0m\u001b[1;33m\u001b[0m\u001b[0m\n\u001b[1;32m---> 12\u001b[1;33m \u001b[0mfolium\u001b[0m\u001b[1;33m.\u001b[0m\u001b[0mMap\u001b[0m\u001b[1;33m(\u001b[0m\u001b[0mlocation\u001b[0m\u001b[1;33m=\u001b[0m\u001b[1;33m[\u001b[0m\u001b[1;36m36.6029863\u001b[0m\u001b[1;33m,\u001b[0m \u001b[1;36m126.5489114\u001b[0m\u001b[1;33m]\u001b[0m\u001b[1;33m,\u001b[0m \u001b[0mzoom_start\u001b[0m\u001b[1;33m=\u001b[0m\u001b[1;36m11\u001b[0m\u001b[1;33m)\u001b[0m\u001b[1;33m\u001b[0m\u001b[1;33m\u001b[0m\u001b[0m\n\u001b[0m",
      "\u001b[1;31mNameError\u001b[0m: name 'folium' is not defined"
     ]
    }
   ],
   "source": [
    "data_sales = []\n",
    "size_sales = len(json_sales['sales'])\n",
    "for inx in range(size_sales):\n",
    "    # print(json_sales['sales'][inx]['code'],json_sales['sales'][inx]['remain_stat'])\n",
    "    addr, code, lat, lang remain_stat = json_sales['sales'][inx]['code'],json_sales['sales'][inx]['remain_stat']\n",
    "    data_sales.append([code, remain_stat])\n",
    "df_sales = pd.DataFrame(data_sales, columns=['code','remain_stat']) \n",
    "# df_sales.head()  \n",
    "# df_stores.head() \n",
    "df = pd.merge(df_stores, df_sales, on='code')\n",
    "# df.head()\n",
    "folium.Map(location=[36.6029863, 126.5489114], zoom_start=11)"
   ]
  }
 ],
 "metadata": {
  "language_info": {
   "codemirror_mode": {
    "name": "ipython",
    "version": 3
   },
   "file_extension": ".py",
   "mimetype": "text/x-python",
   "name": "python",
   "nbconvert_exporter": "python",
   "pygments_lexer": "ipython3",
   "version": "3.7.7-final"
  },
  "orig_nbformat": 2,
  "kernelspec": {
   "name": "python37764bit4dda73a9a4c74a0399c4c617d3b49df0",
   "display_name": "Python 3.7.7 64-bit"
  }
 },
 "nbformat": 4,
 "nbformat_minor": 2
}