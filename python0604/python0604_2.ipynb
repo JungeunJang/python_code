{
 "cells": [
  {
   "cell_type": "code",
   "execution_count": 53,
   "metadata": {},
   "outputs": [
    {
     "output_type": "execute_result",
     "data": {
      "text/plain": "     0          \n     1    2    3\na  1.0  2.0  3.0\nb  4.0  NaN  5.0\nc  6.0  7.0  NaN\nd  NaN  8.0  9.0",
      "text/html": "<div>\n<style scoped>\n    .dataframe tbody tr th:only-of-type {\n        vertical-align: middle;\n    }\n\n    .dataframe tbody tr th {\n        vertical-align: top;\n    }\n\n    .dataframe thead tr th {\n        text-align: left;\n    }\n</style>\n<table border=\"1\" class=\"dataframe\">\n  <thead>\n    <tr>\n      <th></th>\n      <th colspan=\"3\" halign=\"left\">0</th>\n    </tr>\n    <tr>\n      <th></th>\n      <th>1</th>\n      <th>2</th>\n      <th>3</th>\n    </tr>\n  </thead>\n  <tbody>\n    <tr>\n      <th>a</th>\n      <td>1.0</td>\n      <td>2.0</td>\n      <td>3.0</td>\n    </tr>\n    <tr>\n      <th>b</th>\n      <td>4.0</td>\n      <td>NaN</td>\n      <td>5.0</td>\n    </tr>\n    <tr>\n      <th>c</th>\n      <td>6.0</td>\n      <td>7.0</td>\n      <td>NaN</td>\n    </tr>\n    <tr>\n      <th>d</th>\n      <td>NaN</td>\n      <td>8.0</td>\n      <td>9.0</td>\n    </tr>\n  </tbody>\n</table>\n</div>"
     },
     "metadata": {},
     "execution_count": 53
    }
   ],
   "source": [
    "import numpy as np\n",
    "import pandas as pd\n",
    "\n",
    "df = pd.DataFrame([1,2,3,4,5,6,7,8,9], index=[['a', 'a', 'a', 'b', 'b', 'c', 'c', 'd', 'd'],[1,2,3,1,3,1,2,2,3]])\n",
    "df.index\n",
    "df.loc['a']\n",
    "df.loc['b']\n",
    "df.loc['a', 1]\n",
    "df.index\n",
    "df.loc[['a','b']]\n",
    "df\n",
    "df2 = df.unstack()\n",
    "df2"
   ]
  },
  {
   "cell_type": "code",
   "execution_count": 6,
   "metadata": {},
   "outputs": [
    {
     "output_type": "execute_result",
     "data": {
      "text/plain": "          과학   수학\n홍길동 1학기  100   10\n    2학기   30   20\n이순신 1학기   80   30\n    2학기   50   40\n강감찬 1학기   30   20\n    2학기   90   10\n권율  1학기   40   90\n    2학기   90  100",
      "text/html": "<div>\n<style scoped>\n    .dataframe tbody tr th:only-of-type {\n        vertical-align: middle;\n    }\n\n    .dataframe tbody tr th {\n        vertical-align: top;\n    }\n\n    .dataframe thead th {\n        text-align: right;\n    }\n</style>\n<table border=\"1\" class=\"dataframe\">\n  <thead>\n    <tr style=\"text-align: right;\">\n      <th></th>\n      <th></th>\n      <th>과학</th>\n      <th>수학</th>\n    </tr>\n  </thead>\n  <tbody>\n    <tr>\n      <th rowspan=\"2\" valign=\"top\">홍길동</th>\n      <th>1학기</th>\n      <td>100</td>\n      <td>10</td>\n    </tr>\n    <tr>\n      <th>2학기</th>\n      <td>30</td>\n      <td>20</td>\n    </tr>\n    <tr>\n      <th rowspan=\"2\" valign=\"top\">이순신</th>\n      <th>1학기</th>\n      <td>80</td>\n      <td>30</td>\n    </tr>\n    <tr>\n      <th>2학기</th>\n      <td>50</td>\n      <td>40</td>\n    </tr>\n    <tr>\n      <th rowspan=\"2\" valign=\"top\">강감찬</th>\n      <th>1학기</th>\n      <td>30</td>\n      <td>20</td>\n    </tr>\n    <tr>\n      <th>2학기</th>\n      <td>90</td>\n      <td>10</td>\n    </tr>\n    <tr>\n      <th rowspan=\"2\" valign=\"top\">권율</th>\n      <th>1학기</th>\n      <td>40</td>\n      <td>90</td>\n    </tr>\n    <tr>\n      <th>2학기</th>\n      <td>90</td>\n      <td>100</td>\n    </tr>\n  </tbody>\n</table>\n</div>"
     },
     "metadata": {},
     "execution_count": 6
    }
   ],
   "source": [
    "import numpy as np\n",
    "import pandas as pd\n",
    "\n",
    "df2 = pd.read_excel('../data/score.xlsx',encoding='UTF-8',index_col = 0,header=0,sheet_name='Sheet2')\n",
    "df2\n",
    "df2.stack().unstack()\n",
    "\n",
    "df5 = pd.read_excel('../data/score.xlsx', header=[0,1], index_col=0, sheet_name='Sheet1')\n",
    "df5.stack(level=0)\n"
   ]
  },
  {
   "cell_type": "code",
   "execution_count": null,
   "metadata": {},
   "outputs": [],
   "source": []
  }
 ],
 "metadata": {
  "language_info": {
   "codemirror_mode": {
    "name": "ipython",
    "version": 3
   },
   "file_extension": ".py",
   "mimetype": "text/x-python",
   "name": "python",
   "nbconvert_exporter": "python",
   "pygments_lexer": "ipython3",
   "version": "3.7.7-final"
  },
  "orig_nbformat": 2,
  "kernelspec": {
   "name": "python37764bit4dda73a9a4c74a0399c4c617d3b49df0",
   "display_name": "Python 3.7.7 64-bit"
  }
 },
 "nbformat": 4,
 "nbformat_minor": 2
}