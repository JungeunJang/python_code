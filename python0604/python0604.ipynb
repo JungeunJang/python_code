{
 "cells": [
  {
   "cell_type": "code",
   "execution_count": 3,
   "metadata": {},
   "outputs": [
    {
     "output_type": "execute_result",
     "data": {
      "text/plain": "                col1      col2      col3\n2020-01-06       NaN       NaN       NaN\n2020-01-07 -0.355393  1.576755  1.543954\n2020-01-08 -0.426898  0.853075  0.705909\n2020-01-09 -0.778223  0.549172 -0.021554\n2020-01-10  0.609102  1.525444  0.432229\n2020-01-11  1.255967  0.654184  0.201404\n2020-01-12  0.510317  0.472704 -0.334494\n2020-01-13  0.241064  0.822930 -0.089247\n2020-01-14  0.638795  0.299070  0.310458\n2020-01-15  0.598963  0.093205 -0.424058",
      "text/html": "<div>\n<style scoped>\n    .dataframe tbody tr th:only-of-type {\n        vertical-align: middle;\n    }\n\n    .dataframe tbody tr th {\n        vertical-align: top;\n    }\n\n    .dataframe thead th {\n        text-align: right;\n    }\n</style>\n<table border=\"1\" class=\"dataframe\">\n  <thead>\n    <tr style=\"text-align: right;\">\n      <th></th>\n      <th>col1</th>\n      <th>col2</th>\n      <th>col3</th>\n    </tr>\n  </thead>\n  <tbody>\n    <tr>\n      <th>2020-01-06</th>\n      <td>NaN</td>\n      <td>NaN</td>\n      <td>NaN</td>\n    </tr>\n    <tr>\n      <th>2020-01-07</th>\n      <td>-0.355393</td>\n      <td>1.576755</td>\n      <td>1.543954</td>\n    </tr>\n    <tr>\n      <th>2020-01-08</th>\n      <td>-0.426898</td>\n      <td>0.853075</td>\n      <td>0.705909</td>\n    </tr>\n    <tr>\n      <th>2020-01-09</th>\n      <td>-0.778223</td>\n      <td>0.549172</td>\n      <td>-0.021554</td>\n    </tr>\n    <tr>\n      <th>2020-01-10</th>\n      <td>0.609102</td>\n      <td>1.525444</td>\n      <td>0.432229</td>\n    </tr>\n    <tr>\n      <th>2020-01-11</th>\n      <td>1.255967</td>\n      <td>0.654184</td>\n      <td>0.201404</td>\n    </tr>\n    <tr>\n      <th>2020-01-12</th>\n      <td>0.510317</td>\n      <td>0.472704</td>\n      <td>-0.334494</td>\n    </tr>\n    <tr>\n      <th>2020-01-13</th>\n      <td>0.241064</td>\n      <td>0.822930</td>\n      <td>-0.089247</td>\n    </tr>\n    <tr>\n      <th>2020-01-14</th>\n      <td>0.638795</td>\n      <td>0.299070</td>\n      <td>0.310458</td>\n    </tr>\n    <tr>\n      <th>2020-01-15</th>\n      <td>0.598963</td>\n      <td>0.093205</td>\n      <td>-0.424058</td>\n    </tr>\n  </tbody>\n</table>\n</div>"
     },
     "metadata": {},
     "execution_count": 3
    }
   ],
   "source": [
    "import pandas as pd\n",
    "import numpy as np\n",
    "\n",
    "df = pd.DataFrame(np.random.randn(10,3), index=pd.date_range('01/06/2020', periods = 10), columns=['col1', 'col2', 'col3'])\n",
    "df.rolling(window=2).mean()"
   ]
  },
  {
   "cell_type": "code",
   "execution_count": 25,
   "metadata": {},
   "outputs": [
    {
     "output_type": "execute_result",
     "data": {
      "text/plain": "     0\n2    1\n1    2\n0  300",
      "text/html": "<div>\n<style scoped>\n    .dataframe tbody tr th:only-of-type {\n        vertical-align: middle;\n    }\n\n    .dataframe tbody tr th {\n        vertical-align: top;\n    }\n\n    .dataframe thead th {\n        text-align: right;\n    }\n</style>\n<table border=\"1\" class=\"dataframe\">\n  <thead>\n    <tr style=\"text-align: right;\">\n      <th></th>\n      <th>0</th>\n    </tr>\n  </thead>\n  <tbody>\n    <tr>\n      <th>2</th>\n      <td>1</td>\n    </tr>\n    <tr>\n      <th>1</th>\n      <td>2</td>\n    </tr>\n    <tr>\n      <th>0</th>\n      <td>300</td>\n    </tr>\n  </tbody>\n</table>\n</div>"
     },
     "metadata": {},
     "execution_count": 25
    }
   ],
   "source": [
    "# df2 = pd.DataFrame([[1,2],[3,4],[4,5]])\n",
    "# df2\n",
    "# df3 = df2.iloc[:,:1]\n",
    "# df3[0] = 100\n",
    "# df3\n",
    "ds = pd.Series([1,2,3,4])\n",
    "ds[0] =100\n",
    "ds1 = ds[:1]\n",
    "ds1[0] = 300\n",
    "ds\n",
    "\n",
    "df3 = pd.DataFrame([3,2,1])\n",
    "df4 = df3[:]\n",
    "df3.iloc[0] = 300\n",
    "\n",
    "df3.sort_values(by=[0], inplace = True)\n",
    "df3"
   ]
  },
  {
   "cell_type": "code",
   "execution_count": 35,
   "metadata": {},
   "outputs": [
    {
     "output_type": "execute_result",
     "data": {
      "text/plain": "0        pig\n1        cow\n2    chicken\n3        cow\n4        pig\nName: 0, dtype: object"
     },
     "metadata": {},
     "execution_count": 35
    }
   ],
   "source": [
    "list1 = [1,2,3,4,5]\n",
    "def add(x):\n",
    "    return x + 100\n",
    "\n",
    "result1 = map(add, list1)\n",
    "list(result1)\n",
    "\n",
    "df5 = pd.DataFrame([[1,2], [3,4]], columns=['col1', 'col2'])\n",
    "df5['col1'].map(add)\n",
    "\n",
    "list2 = [1,2,3,2,1]\n",
    "df6 =pd.DataFrame(list2)\n",
    "df6\n",
    "\n",
    "kinds = {1:'pig', 2:'cow', 3:'chicken'}\n",
    "kinds\n",
    "df6[0].map(lambda y: kinds[y])"
   ]
  }
 ],
 "metadata": {
  "language_info": {
   "codemirror_mode": {
    "name": "ipython",
    "version": 3
   },
   "file_extension": ".py",
   "mimetype": "text/x-python",
   "name": "python",
   "nbconvert_exporter": "python",
   "pygments_lexer": "ipython3",
   "version": "3.7.7-final"
  },
  "orig_nbformat": 2,
  "kernelspec": {
   "name": "python37764bit4dda73a9a4c74a0399c4c617d3b49df0",
   "display_name": "Python 3.7.7 64-bit"
  }
 },
 "nbformat": 4,
 "nbformat_minor": 2
}