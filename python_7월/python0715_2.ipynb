{
 "cells": [
  {
   "cell_type": "code",
   "execution_count": null,
   "metadata": {},
   "outputs": [],
   "source": [
    "# cars.csv 파일을 읽어서 선형회귀 모델을 만드시오. \n",
    "제동거리 = w*속도 + b     \n",
    "모델에 속도가 30, 50일 때 예상되는 제동거리를 출력하시오."
   ]
  },
  {
   "cell_type": "code",
   "execution_count": 42,
   "metadata": {
    "tags": []
   },
   "outputs": [],
   "source": [
    "import pandas as pd\n",
    "import tensorflow.compat.v1 as tf # 1.XX version 을 사용 \n",
    "tf.disable_v2_behavior() # 2.xx version 기능을 사용하지 않겠음\n"
   ]
  },
  {
   "cell_type": "code",
   "execution_count": 43,
   "metadata": {},
   "outputs": [],
   "source": [
    "data = pd.read_csv('C:\\Python37_Project\\딥러닝\\cars.csv')"
   ]
  },
  {
   "cell_type": "code",
   "execution_count": 44,
   "metadata": {},
   "outputs": [
    {
     "output_type": "execute_result",
     "data": {
      "text/plain": "   # \"speed\"  dist\n0          4     2\n1          4    10\n2          7     4\n3          7    22\n4          8    16",
      "text/html": "<div>\n<style scoped>\n    .dataframe tbody tr th:only-of-type {\n        vertical-align: middle;\n    }\n\n    .dataframe tbody tr th {\n        vertical-align: top;\n    }\n\n    .dataframe thead th {\n        text-align: right;\n    }\n</style>\n<table border=\"1\" class=\"dataframe\">\n  <thead>\n    <tr style=\"text-align: right;\">\n      <th></th>\n      <th># \"speed\"</th>\n      <th>dist</th>\n    </tr>\n  </thead>\n  <tbody>\n    <tr>\n      <th>0</th>\n      <td>4</td>\n      <td>2</td>\n    </tr>\n    <tr>\n      <th>1</th>\n      <td>4</td>\n      <td>10</td>\n    </tr>\n    <tr>\n      <th>2</th>\n      <td>7</td>\n      <td>4</td>\n    </tr>\n    <tr>\n      <th>3</th>\n      <td>7</td>\n      <td>22</td>\n    </tr>\n    <tr>\n      <th>4</th>\n      <td>8</td>\n      <td>16</td>\n    </tr>\n  </tbody>\n</table>\n</div>"
     },
     "metadata": {},
     "execution_count": 44
    }
   ],
   "source": [
    "data.head()"
   ]
  },
  {
   "cell_type": "code",
   "execution_count": 45,
   "metadata": {},
   "outputs": [],
   "source": [
    "data.columns = ['speed', 'dist']"
   ]
  },
  {
   "cell_type": "code",
   "execution_count": 46,
   "metadata": {},
   "outputs": [],
   "source": [
    "# x, y 설정\n",
    "xx = data.speed\n",
    "yy = data.dist"
   ]
  },
  {
   "cell_type": "code",
   "execution_count": 47,
   "metadata": {},
   "outputs": [],
   "source": [
    "w = tf.Variable(tf.random_uniform([1],-1,1))\n",
    "b = tf.Variable(tf.random_uniform([1],-1,1))\n",
    "\n",
    "x = tf.placeholder(tf.float32)\n",
    "y = tf.placeholder(tf.float32)"
   ]
  },
  {
   "cell_type": "code",
   "execution_count": 48,
   "metadata": {},
   "outputs": [],
   "source": [
    "hf = w*x +b\n",
    "cost = tf.reduce_mean((hf - y)**2)\n",
    "\n",
    "opt = tf.train.GradientDescentOptimizer(learning_rate=0.001)\n",
    "train = opt.minimize(cost)"
   ]
  },
  {
   "cell_type": "code",
   "execution_count": 49,
   "metadata": {},
   "outputs": [],
   "source": [
    "sess = tf.Session()\n",
    "sess.run(tf.global_variables_initializer())"
   ]
  },
  {
   "cell_type": "code",
   "execution_count": 50,
   "metadata": {
    "tags": []
   },
   "outputs": [
    {
     "output_type": "stream",
     "name": "stdout",
     "text": "0 473.80188\n20 260.3263\n40 260.05283\n60 259.78156\n80 259.51254\n100 259.24576\n120 258.98108\n140 258.71866\n160 258.4584\n180 258.20023\n200 257.9442\n220 257.6903\n240 257.43848\n260 257.18872\n280 256.941\n300 256.69537\n320 256.45166\n340 256.21005\n360 255.97041\n380 255.7327\n400 255.497\n420 255.2632\n440 255.03134\n460 254.80136\n480 254.5733\n500 254.3471\n520 254.12277\n540 253.90031\n560 253.67967\n580 253.46082\n600 253.24373\n620 253.02847\n640 252.81503\n660 252.60326\n680 252.39328\n700 252.18504\n720 251.9785\n740 251.77365\n760 251.57047\n780 251.36896\n800 251.1691\n820 250.97098\n840 250.77434\n860 250.5794\n880 250.38605\n900 250.19429\n920 250.00414\n940 249.81552\n960 249.62848\n980 249.44293\n1000 249.25891\n1020 249.07645\n1040 248.89545\n1060 248.71597\n1080 248.53795\n1100 248.36142\n1120 248.18625\n1140 248.0126\n1160 247.8404\n1180 247.66957\n1200 247.50015\n1220 247.33212\n1240 247.16551\n1260 247.00021\n1280 246.83635\n1300 246.67377\n1320 246.51254\n1340 246.3526\n1360 246.19406\n1380 246.0368\n1400 245.88084\n1420 245.72609\n1440 245.5727\n1460 245.42047\n1480 245.26958\n1500 245.11992\n1520 244.97145\n1540 244.82422\n1560 244.67822\n1580 244.53342\n1600 244.3898\n1620 244.24734\n1640 244.10608\n1660 243.96594\n1680 243.82701\n1700 243.68922\n1720 243.55247\n1740 243.41699\n1760 243.28252\n1780 243.14922\n1800 243.017\n1820 242.88583\n1840 242.75574\n1860 242.62674\n1880 242.4988\n1900 242.37192\n1920 242.24608\n1940 242.12128\n1960 241.99747\n1980 241.87473\n2000 241.75294\n"
    }
   ],
   "source": [
    "for i in range(2001):\n",
    "    sess.run(train, feed_dict={x:xx , y:yy})\n",
    "    if i % 20 == 0:\n",
    "        print(i, sess.run(cost, feed_dict={x:xx , y:yy}))"
   ]
  },
  {
   "cell_type": "code",
   "execution_count": 52,
   "metadata": {
    "tags": []
   },
   "outputs": [
    {
     "output_type": "stream",
     "name": "stdout",
     "text": "[3.2390578]\n[-5.672511]\n"
    }
   ],
   "source": [
    "print(sess.run(w))\n",
    "print(sess.run(b))"
   ]
  },
  {
   "cell_type": "code",
   "execution_count": 53,
   "metadata": {
    "tags": []
   },
   "outputs": [
    {
     "output_type": "stream",
     "name": "stdout",
     "text": "30, 50 :  [ 91.49922 156.28038]\n"
    }
   ],
   "source": [
    "print('30, 50 : ', sess.run(hf, feed_dict={x:[30, 50]}))"
   ]
  }
 ],
 "metadata": {
  "language_info": {
   "codemirror_mode": {
    "name": "ipython",
    "version": 3
   },
   "file_extension": ".py",
   "mimetype": "text/x-python",
   "name": "python",
   "nbconvert_exporter": "python",
   "pygments_lexer": "ipython3",
   "version": 3
  },
  "orig_nbformat": 2,
  "kernelspec": {
   "name": "python_defaultSpec_1594712137447",
   "display_name": "Python 3.7.7 64-bit"
  }
 },
 "nbformat": 4,
 "nbformat_minor": 2
}