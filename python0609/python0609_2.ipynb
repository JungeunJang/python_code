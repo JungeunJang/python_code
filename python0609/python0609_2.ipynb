{
 "cells": [
  {
   "cell_type": "code",
   "execution_count": null,
   "metadata": {},
   "outputs": [],
   "source": [
    "import pandas as pd \n",
    "from datetime import datetime\n",
    "\n",
    "# pd.date_range(datetime.today(), periods=10).to_pydatetime().tolist()\n",
    "# d=pd.date_range(start='2020-01-01', end='2020-01-10')\n",
    "\n",
    "d = ['20200101','20200101','20200101','20200102','20200102',\n",
    "'20200102','20200103','20200103','20200103']\n",
    "col1 = ['a','b','c','a','b','c','a','d','e']\n",
    "col2 = [1,2,3,1,2,3,1,2,3]\n",
    "data = {'date':d, 'col1':col1, 'col2':col2}\n",
    "df = pd.DataFrame(data)\n",
    "df.pivot_table(index='date', columns='col1', values='col2')"
   ]
  },
  {
   "cell_type": "code",
   "execution_count": 1,
   "metadata": {},
   "outputs": [
    {
     "output_type": "execute_result",
     "data": {
      "text/plain": "             Price                                                        \\\nName    Barton LLC Fritsch, Russel and Anderson Herman LLC Jerde-Hilpert   \nAccount                                                                    \n141962         NaN                          NaN    65000.0           NaN   \n146832         NaN                          NaN        NaN           NaN   \n163416         NaN                          NaN        NaN           NaN   \n218895         NaN                          NaN        NaN           NaN   \n239344         NaN                          NaN        NaN           NaN   \n307599         NaN                          NaN        NaN           NaN   \n412290         NaN                          NaN        NaN        5000.0   \n688981         NaN                          NaN        NaN           NaN   \n714466         NaN                          NaN        NaN           NaN   \n729833         NaN                          NaN        NaN           NaN   \n737550         NaN                      35000.0        NaN           NaN   \n740150     35000.0                          NaN        NaN           NaN   \n\n                                                                        \\\nName    Kassulke, Ondricka and Metz Keeling LLC Kiehn-Spinka Koepp Ltd   \nAccount                                                                  \n141962                          NaN         NaN          NaN       NaN   \n146832                          NaN         NaN      65000.0       NaN   \n163416                          NaN         NaN          NaN       NaN   \n218895                          NaN         NaN          NaN       NaN   \n239344                          NaN         NaN          NaN       NaN   \n307599                       7000.0         NaN          NaN       NaN   \n412290                          NaN         NaN          NaN       NaN   \n688981                          NaN    100000.0          NaN       NaN   \n714466                          NaN         NaN          NaN       NaN   \n729833                          NaN         NaN          NaN   35000.0   \n737550                          NaN         NaN          NaN       NaN   \n740150                          NaN         NaN          NaN       NaN   \n\n                                                          \nName    Kulas Inc Purdy-Kunde Stokes LLC Trantow-Barrows  \nAccount                                                   \n141962        NaN         NaN        NaN             NaN  \n146832        NaN         NaN        NaN             NaN  \n163416        NaN     30000.0        NaN             NaN  \n218895    25000.0         NaN        NaN             NaN  \n239344        NaN         NaN     7500.0             NaN  \n307599        NaN         NaN        NaN             NaN  \n412290        NaN         NaN        NaN             NaN  \n688981        NaN         NaN        NaN             NaN  \n714466        NaN         NaN        NaN         15000.0  \n729833        NaN         NaN        NaN             NaN  \n737550        NaN         NaN        NaN             NaN  \n740150        NaN         NaN        NaN             NaN  ",
      "text/html": "<div>\n<style scoped>\n    .dataframe tbody tr th:only-of-type {\n        vertical-align: middle;\n    }\n\n    .dataframe tbody tr th {\n        vertical-align: top;\n    }\n\n    .dataframe thead tr th {\n        text-align: left;\n    }\n\n    .dataframe thead tr:last-of-type th {\n        text-align: right;\n    }\n</style>\n<table border=\"1\" class=\"dataframe\">\n  <thead>\n    <tr>\n      <th></th>\n      <th colspan=\"12\" halign=\"left\">Price</th>\n    </tr>\n    <tr>\n      <th>Name</th>\n      <th>Barton LLC</th>\n      <th>Fritsch, Russel and Anderson</th>\n      <th>Herman LLC</th>\n      <th>Jerde-Hilpert</th>\n      <th>Kassulke, Ondricka and Metz</th>\n      <th>Keeling LLC</th>\n      <th>Kiehn-Spinka</th>\n      <th>Koepp Ltd</th>\n      <th>Kulas Inc</th>\n      <th>Purdy-Kunde</th>\n      <th>Stokes LLC</th>\n      <th>Trantow-Barrows</th>\n    </tr>\n    <tr>\n      <th>Account</th>\n      <th></th>\n      <th></th>\n      <th></th>\n      <th></th>\n      <th></th>\n      <th></th>\n      <th></th>\n      <th></th>\n      <th></th>\n      <th></th>\n      <th></th>\n      <th></th>\n    </tr>\n  </thead>\n  <tbody>\n    <tr>\n      <th>141962</th>\n      <td>NaN</td>\n      <td>NaN</td>\n      <td>65000.0</td>\n      <td>NaN</td>\n      <td>NaN</td>\n      <td>NaN</td>\n      <td>NaN</td>\n      <td>NaN</td>\n      <td>NaN</td>\n      <td>NaN</td>\n      <td>NaN</td>\n      <td>NaN</td>\n    </tr>\n    <tr>\n      <th>146832</th>\n      <td>NaN</td>\n      <td>NaN</td>\n      <td>NaN</td>\n      <td>NaN</td>\n      <td>NaN</td>\n      <td>NaN</td>\n      <td>65000.0</td>\n      <td>NaN</td>\n      <td>NaN</td>\n      <td>NaN</td>\n      <td>NaN</td>\n      <td>NaN</td>\n    </tr>\n    <tr>\n      <th>163416</th>\n      <td>NaN</td>\n      <td>NaN</td>\n      <td>NaN</td>\n      <td>NaN</td>\n      <td>NaN</td>\n      <td>NaN</td>\n      <td>NaN</td>\n      <td>NaN</td>\n      <td>NaN</td>\n      <td>30000.0</td>\n      <td>NaN</td>\n      <td>NaN</td>\n    </tr>\n    <tr>\n      <th>218895</th>\n      <td>NaN</td>\n      <td>NaN</td>\n      <td>NaN</td>\n      <td>NaN</td>\n      <td>NaN</td>\n      <td>NaN</td>\n      <td>NaN</td>\n      <td>NaN</td>\n      <td>25000.0</td>\n      <td>NaN</td>\n      <td>NaN</td>\n      <td>NaN</td>\n    </tr>\n    <tr>\n      <th>239344</th>\n      <td>NaN</td>\n      <td>NaN</td>\n      <td>NaN</td>\n      <td>NaN</td>\n      <td>NaN</td>\n      <td>NaN</td>\n      <td>NaN</td>\n      <td>NaN</td>\n      <td>NaN</td>\n      <td>NaN</td>\n      <td>7500.0</td>\n      <td>NaN</td>\n    </tr>\n    <tr>\n      <th>307599</th>\n      <td>NaN</td>\n      <td>NaN</td>\n      <td>NaN</td>\n      <td>NaN</td>\n      <td>7000.0</td>\n      <td>NaN</td>\n      <td>NaN</td>\n      <td>NaN</td>\n      <td>NaN</td>\n      <td>NaN</td>\n      <td>NaN</td>\n      <td>NaN</td>\n    </tr>\n    <tr>\n      <th>412290</th>\n      <td>NaN</td>\n      <td>NaN</td>\n      <td>NaN</td>\n      <td>5000.0</td>\n      <td>NaN</td>\n      <td>NaN</td>\n      <td>NaN</td>\n      <td>NaN</td>\n      <td>NaN</td>\n      <td>NaN</td>\n      <td>NaN</td>\n      <td>NaN</td>\n    </tr>\n    <tr>\n      <th>688981</th>\n      <td>NaN</td>\n      <td>NaN</td>\n      <td>NaN</td>\n      <td>NaN</td>\n      <td>NaN</td>\n      <td>100000.0</td>\n      <td>NaN</td>\n      <td>NaN</td>\n      <td>NaN</td>\n      <td>NaN</td>\n      <td>NaN</td>\n      <td>NaN</td>\n    </tr>\n    <tr>\n      <th>714466</th>\n      <td>NaN</td>\n      <td>NaN</td>\n      <td>NaN</td>\n      <td>NaN</td>\n      <td>NaN</td>\n      <td>NaN</td>\n      <td>NaN</td>\n      <td>NaN</td>\n      <td>NaN</td>\n      <td>NaN</td>\n      <td>NaN</td>\n      <td>15000.0</td>\n    </tr>\n    <tr>\n      <th>729833</th>\n      <td>NaN</td>\n      <td>NaN</td>\n      <td>NaN</td>\n      <td>NaN</td>\n      <td>NaN</td>\n      <td>NaN</td>\n      <td>NaN</td>\n      <td>35000.0</td>\n      <td>NaN</td>\n      <td>NaN</td>\n      <td>NaN</td>\n      <td>NaN</td>\n    </tr>\n    <tr>\n      <th>737550</th>\n      <td>NaN</td>\n      <td>35000.0</td>\n      <td>NaN</td>\n      <td>NaN</td>\n      <td>NaN</td>\n      <td>NaN</td>\n      <td>NaN</td>\n      <td>NaN</td>\n      <td>NaN</td>\n      <td>NaN</td>\n      <td>NaN</td>\n      <td>NaN</td>\n    </tr>\n    <tr>\n      <th>740150</th>\n      <td>35000.0</td>\n      <td>NaN</td>\n      <td>NaN</td>\n      <td>NaN</td>\n      <td>NaN</td>\n      <td>NaN</td>\n      <td>NaN</td>\n      <td>NaN</td>\n      <td>NaN</td>\n      <td>NaN</td>\n      <td>NaN</td>\n      <td>NaN</td>\n    </tr>\n  </tbody>\n</table>\n</div>"
     },
     "metadata": {},
     "execution_count": 1
    }
   ],
   "source": [
    "import numpy as np\n",
    "import pandas as pd\n",
    "\n",
    "df = pd.read_excel('../data/02. sales-funnel.xlsx')\n",
    "df.head()\n",
    "df.shape\n",
    "df.index\n",
    "pd.pivot_table(df, index=['Account'], columns=['Name'], values=['Price'])\n"
   ]
  },
  {
   "cell_type": "code",
   "execution_count": 2,
   "metadata": {},
   "outputs": [
    {
     "output_type": "execute_result",
     "data": {
      "text/plain": "col2   x1   x2   y1   y2\ncol1                    \nabb   2.0  2.0  0.0  2.0\ndda   0.0  0.0  2.0  0.0\ndef   0.0  2.0  0.0  0.0",
      "text/html": "<div>\n<style scoped>\n    .dataframe tbody tr th:only-of-type {\n        vertical-align: middle;\n    }\n\n    .dataframe tbody tr th {\n        vertical-align: top;\n    }\n\n    .dataframe thead th {\n        text-align: right;\n    }\n</style>\n<table border=\"1\" class=\"dataframe\">\n  <thead>\n    <tr style=\"text-align: right;\">\n      <th>col2</th>\n      <th>x1</th>\n      <th>x2</th>\n      <th>y1</th>\n      <th>y2</th>\n    </tr>\n    <tr>\n      <th>col1</th>\n      <th></th>\n      <th></th>\n      <th></th>\n      <th></th>\n    </tr>\n  </thead>\n  <tbody>\n    <tr>\n      <th>abb</th>\n      <td>2.0</td>\n      <td>2.0</td>\n      <td>0.0</td>\n      <td>2.0</td>\n    </tr>\n    <tr>\n      <th>dda</th>\n      <td>0.0</td>\n      <td>0.0</td>\n      <td>2.0</td>\n      <td>0.0</td>\n    </tr>\n    <tr>\n      <th>def</th>\n      <td>0.0</td>\n      <td>2.0</td>\n      <td>0.0</td>\n      <td>0.0</td>\n    </tr>\n  </tbody>\n</table>\n</div>"
     },
     "metadata": {},
     "execution_count": 2
    }
   ],
   "source": [
    "col1 = ['abb','def','dda','abb','abb']\n",
    "col2 = ['x1','x2','y1','y2','x2']\n",
    "col3 = [2,2,2,2,2]\n",
    "\n",
    "data = {'col1':col1, 'col2':col2, 'col3':col3}\n",
    "df = pd.DataFrame(data)\n",
    "pd.pivot(df, index='col1', columns='col2', values='col3').fillna(0)"
   ]
  },
  {
   "cell_type": "code",
   "execution_count": 14,
   "metadata": {},
   "outputs": [
    {
     "output_type": "execute_result",
     "data": {
      "text/plain": "    bar2          zoo         \nbar    A  B  C  D   A  B  C  D\nfoo                           \none    1  2  3  8   x  y  z  r\ntwo    4  5  6  7   q  w  t  s",
      "text/html": "<div>\n<style scoped>\n    .dataframe tbody tr th:only-of-type {\n        vertical-align: middle;\n    }\n\n    .dataframe tbody tr th {\n        vertical-align: top;\n    }\n\n    .dataframe thead tr th {\n        text-align: left;\n    }\n\n    .dataframe thead tr:last-of-type th {\n        text-align: right;\n    }\n</style>\n<table border=\"1\" class=\"dataframe\">\n  <thead>\n    <tr>\n      <th></th>\n      <th colspan=\"4\" halign=\"left\">bar2</th>\n      <th colspan=\"4\" halign=\"left\">zoo</th>\n    </tr>\n    <tr>\n      <th>bar</th>\n      <th>A</th>\n      <th>B</th>\n      <th>C</th>\n      <th>D</th>\n      <th>A</th>\n      <th>B</th>\n      <th>C</th>\n      <th>D</th>\n    </tr>\n    <tr>\n      <th>foo</th>\n      <th></th>\n      <th></th>\n      <th></th>\n      <th></th>\n      <th></th>\n      <th></th>\n      <th></th>\n      <th></th>\n    </tr>\n  </thead>\n  <tbody>\n    <tr>\n      <th>one</th>\n      <td>1</td>\n      <td>2</td>\n      <td>3</td>\n      <td>8</td>\n      <td>x</td>\n      <td>y</td>\n      <td>z</td>\n      <td>r</td>\n    </tr>\n    <tr>\n      <th>two</th>\n      <td>4</td>\n      <td>5</td>\n      <td>6</td>\n      <td>7</td>\n      <td>q</td>\n      <td>w</td>\n      <td>t</td>\n      <td>s</td>\n    </tr>\n  </tbody>\n</table>\n</div>"
     },
     "metadata": {},
     "execution_count": 14
    }
   ],
   "source": [
    "df2=pd.DataFrame(\n",
    "    {'foo':['one','one','one','two','two','two','two','one'],\n",
    "    'bar':['A','B','C','A','B','C','D','D'],\n",
    "    'bar2':[1,2,3,4,5,6,7,8],\n",
    "    'zoo':['x','y','z','q','w','t','s','r']\n",
    "    })\n",
    "df2.pivot(index='foo', columns='bar', values='bar2')\n",
    "# df2.set_index(['foo','bar'])[['bar2']].unstack()\n",
    "df2.pivot(index='foo', columns='bar')['bar2']\n",
    "df2.pivot(index='foo', columns='bar', values=['bar2','zoo'])\n"
   ]
  },
  {
   "cell_type": "code",
   "execution_count": 22,
   "metadata": {},
   "outputs": [
    {
     "output_type": "execute_result",
     "data": {
      "text/plain": "bar    A    B    C\nfoo               \none  1.5  NaN  NaN\ntwo  NaN  3.0  4.0",
      "text/html": "<div>\n<style scoped>\n    .dataframe tbody tr th:only-of-type {\n        vertical-align: middle;\n    }\n\n    .dataframe tbody tr th {\n        vertical-align: top;\n    }\n\n    .dataframe thead th {\n        text-align: right;\n    }\n</style>\n<table border=\"1\" class=\"dataframe\">\n  <thead>\n    <tr style=\"text-align: right;\">\n      <th>bar</th>\n      <th>A</th>\n      <th>B</th>\n      <th>C</th>\n    </tr>\n    <tr>\n      <th>foo</th>\n      <th></th>\n      <th></th>\n      <th></th>\n    </tr>\n  </thead>\n  <tbody>\n    <tr>\n      <th>one</th>\n      <td>1.5</td>\n      <td>NaN</td>\n      <td>NaN</td>\n    </tr>\n    <tr>\n      <th>two</th>\n      <td>NaN</td>\n      <td>3.0</td>\n      <td>4.0</td>\n    </tr>\n  </tbody>\n</table>\n</div>"
     },
     "metadata": {},
     "execution_count": 22
    }
   ],
   "source": [
    "df3=pd.DataFrame(\n",
    "    {'foo':['one','one','two','two'],\n",
    "    'bar':['A','A','B','C'],\n",
    "    'baz':[1,2,3,4],\n",
    "    })\n",
    "# df3.pivot(index='foo', columns='bar', values='baz') #Index contains duplicate entries, cannot reshape\n",
    "df3.pivot_table(index='foo', columns='bar', values='baz', aggfunc=np.mean)"
   ]
  },
  {
   "cell_type": "code",
   "execution_count": 31,
   "metadata": {},
   "outputs": [
    {
     "output_type": "execute_result",
     "data": {
      "text/plain": "          0         1         2\n0  1.000000  0.014085  1.000000\n1  0.855556  0.000000  0.206897\n2  0.911111  0.014085  0.011494\n3  0.000000  0.014085  0.000000\n4  0.111111  1.000000  0.206897",
      "text/html": "<div>\n<style scoped>\n    .dataframe tbody tr th:only-of-type {\n        vertical-align: middle;\n    }\n\n    .dataframe tbody tr th {\n        vertical-align: top;\n    }\n\n    .dataframe thead th {\n        text-align: right;\n    }\n</style>\n<table border=\"1\" class=\"dataframe\">\n  <thead>\n    <tr style=\"text-align: right;\">\n      <th></th>\n      <th>0</th>\n      <th>1</th>\n      <th>2</th>\n    </tr>\n  </thead>\n  <tbody>\n    <tr>\n      <th>0</th>\n      <td>1.000000</td>\n      <td>0.014085</td>\n      <td>1.000000</td>\n    </tr>\n    <tr>\n      <th>1</th>\n      <td>0.855556</td>\n      <td>0.000000</td>\n      <td>0.206897</td>\n    </tr>\n    <tr>\n      <th>2</th>\n      <td>0.911111</td>\n      <td>0.014085</td>\n      <td>0.011494</td>\n    </tr>\n    <tr>\n      <th>3</th>\n      <td>0.000000</td>\n      <td>0.014085</td>\n      <td>0.000000</td>\n    </tr>\n    <tr>\n      <th>4</th>\n      <td>0.111111</td>\n      <td>1.000000</td>\n      <td>0.206897</td>\n    </tr>\n  </tbody>\n</table>\n</div>"
     },
     "metadata": {},
     "execution_count": 31
    }
   ],
   "source": [
    "df3 = pd.DataFrame({\n",
    "    'col1':[100,87,92,10,20],\n",
    "    'col2':[30,29,30,30,100],\n",
    "    'col3':[89,20,3,2,20]\n",
    "})\n",
    "\n",
    "from sklearn import preprocessing\n",
    "cols = ['col1','col2','col3']\n",
    "df4 = df3[cols].values\n",
    "min_max_scaler = preprocessing.MinMaxScaler()\n",
    "x_data = min_max_scaler.fit_transform(df4.astype(float))\n",
    "x_data.shape\n",
    "df5 = pd.DataFrame(x_data)\n",
    "df5"
   ]
  }
 ],
 "metadata": {
  "language_info": {
   "codemirror_mode": {
    "name": "ipython",
    "version": 3
   },
   "file_extension": ".py",
   "mimetype": "text/x-python",
   "name": "python",
   "nbconvert_exporter": "python",
   "pygments_lexer": "ipython3",
   "version": "3.7.7-final"
  },
  "orig_nbformat": 2,
  "kernelspec": {
   "name": "python37764bit4dda73a9a4c74a0399c4c617d3b49df0",
   "display_name": "Python 3.7.7 64-bit"
  }
 },
 "nbformat": 4,
 "nbformat_minor": 2
}